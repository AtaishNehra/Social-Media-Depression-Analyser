{
 "cells": [
  {
   "cell_type": "code",
   "execution_count": 4,
   "source": [
    "from tensorflow import keras\n",
    "model = keras.models.load_model('FinalModel.h5')\n",
    "model.summary()"
   ],
   "outputs": [
    {
     "output_type": "stream",
     "name": "stdout",
     "text": [
      "Model: \"sequential\"\n",
      "_________________________________________________________________\n",
      "Layer (type)                 Output Shape              Param #   \n",
      "=================================================================\n",
      "embedding (Embedding)        (None, 250, 100)          5000000   \n",
      "_________________________________________________________________\n",
      "lstm (LSTM)                  (None, 125)               113000    \n",
      "_________________________________________________________________\n",
      "dense (Dense)                (None, 2)                 252       \n",
      "=================================================================\n",
      "Total params: 5,113,252\n",
      "Trainable params: 5,113,252\n",
      "Non-trainable params: 0\n",
      "_________________________________________________________________\n"
     ]
    }
   ],
   "metadata": {}
  },
  {
   "cell_type": "code",
   "execution_count": 14,
   "source": [
    "import pandas as pd"
   ],
   "outputs": [],
   "metadata": {}
  },
  {
   "cell_type": "code",
   "execution_count": 17,
   "source": [
    "df = pd.read_csv('MainData.csv')\n",
    "df = df.dropna()"
   ],
   "outputs": [],
   "metadata": {}
  },
  {
   "cell_type": "code",
   "execution_count": 19,
   "source": [
    "import re\n",
    "import pandas as pd\n",
    "import tensorflow as tf\n",
    "from tensorflow import keras\n",
    "from spellchecker import SpellChecker\n",
    "from tensorflow.keras.preprocessing.sequence import pad_sequences\n",
    "from tensorflow.keras.preprocessing.text import Tokenizer\n",
    "REPLACE_BY_SPACE_RE = re.compile('[/(){}\\[\\]\\|@,;]')\n",
    "BAD_SYMBOLS_RE = re.compile('[^0-9a-z #+_]')\n",
    "\n",
    "import spacy\n",
    "#loading the english language small model of spacy\n",
    "en = spacy.load('en_core_web_sm')\n",
    "sw_spacy = en.Defaults.stop_words\n",
    "\n",
    "MAX_NB_WORDS = 50000\n",
    "MAX_SEQUENCE_LENGTH = 250\n",
    "EMBEDDING_DIM = 100\n",
    "tokenizer = Tokenizer(num_words=MAX_NB_WORDS, filters='!\"#$%&()*+,-./:;<=>?@[\\]^_`{|}~', lower=True)\n",
    "tokenizer.fit_on_texts(df['cleanedText'].values)\n",
    "\n",
    "def clean_text(text):\n",
    "    text = text.lower() # lowercase text\n",
    "    text = REPLACE_BY_SPACE_RE.sub(' ', text) # replace REPLACE_BY_SPACE_RE symbols by space in text. substitute the matched string in REPLACE_BY_SPACE_RE with space.\n",
    "    text = BAD_SYMBOLS_RE.sub('', text) # remove symbols which are in BAD_SYMBOLS_RE from text. substitute the matched string in BAD_SYMBOLS_RE with nothing. \n",
    "    text = text.replace('x', '')\n",
    "    words = [word for word in text.split() if word.lower() not in sw_spacy]\n",
    "    text = \" \".join(words)\n",
    "    return text\n",
    "\n",
    "def fuzzyLogic(text):\n",
    "  spell = SpellChecker()\n",
    "  text = ' '.join([spell.correction(word) for word in text.split()])\n",
    "  return text\n",
    "\n",
    "def isDepressing(text):\n",
    "  text = fuzzyLogic(text)\n",
    "  lst = {'body':[text]}\n",
    "  # Calling DataFrame constructor on list  \n",
    "  dframe = pd.DataFrame(lst) \n",
    "  dframe = dframe['body'].apply(clean_text)\n",
    "  dframe = dframe.str.replace('\\d+', '')\n",
    "  X1 = tokenizer.texts_to_sequences(dframe.values)\n",
    "  X1 = pad_sequences(X1, maxlen=MAX_SEQUENCE_LENGTH)\n",
    "  print('Shape of data tensor:', X1.shape)\n",
    "  a = model.predict(X1)\n",
    "  print(a)\n",
    "  if(a[0][0] > a[0][1]):\n",
    "    return 0\n",
    "  return 1"
   ],
   "outputs": [],
   "metadata": {}
  },
  {
   "cell_type": "code",
   "execution_count": 23,
   "source": [
    "isDepressing(\"i get depressing thoughts every day. i plan on committing suicide\")"
   ],
   "outputs": [
    {
     "output_type": "stream",
     "name": "stdout",
     "text": [
      "Shape of data tensor: (1, 250)\n",
      "[[0.00859726 0.9914028 ]]\n"
     ]
    },
    {
     "output_type": "stream",
     "name": "stderr",
     "text": [
      "/var/folders/5d/7kyh57w16sx0z4b2sprf9ln00000gn/T/ipykernel_74992/552715922.py:42: FutureWarning: The default value of regex will change from True to False in a future version.\n",
      "  dframe = dframe.str.replace('\\d+', '')\n"
     ]
    },
    {
     "output_type": "execute_result",
     "data": {
      "text/plain": [
       "1"
      ]
     },
     "metadata": {},
     "execution_count": 23
    }
   ],
   "metadata": {}
  },
  {
   "cell_type": "code",
   "execution_count": null,
   "source": [],
   "outputs": [],
   "metadata": {}
  }
 ],
 "metadata": {
  "orig_nbformat": 4,
  "language_info": {
   "name": "python",
   "version": "3.8.10",
   "mimetype": "text/x-python",
   "codemirror_mode": {
    "name": "ipython",
    "version": 3
   },
   "pygments_lexer": "ipython3",
   "nbconvert_exporter": "python",
   "file_extension": ".py"
  },
  "kernelspec": {
   "name": "python3",
   "display_name": "Python 3.8.10 64-bit (conda)"
  },
  "interpreter": {
   "hash": "1d930962cd8b702cd91e98617e156209e8b6dab782283528c147ea0c3e731393"
  }
 },
 "nbformat": 4,
 "nbformat_minor": 2
}