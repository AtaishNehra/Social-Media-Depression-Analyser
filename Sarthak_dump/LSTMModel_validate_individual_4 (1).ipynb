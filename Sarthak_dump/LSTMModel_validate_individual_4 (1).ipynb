{
  "nbformat": 4,
  "nbformat_minor": 0,
  "metadata": {
    "colab": {
      "name": "LSTMModel_validate_individual_4.ipynb",
      "provenance": [],
      "collapsed_sections": []
    },
    "interpreter": {
      "hash": "5e938e6e61cb2d5d3033cc0c71d41dc6fd28faf315418f036f9604a8d584e905"
    },
    "kernelspec": {
      "display_name": "Python 3 (ipykernel)",
      "language": "python",
      "name": "python3"
    },
    "language_info": {
      "codemirror_mode": {
        "name": "ipython",
        "version": 3
      },
      "file_extension": ".py",
      "mimetype": "text/x-python",
      "name": "python",
      "nbconvert_exporter": "python",
      "pygments_lexer": "ipython3",
      "version": "3.8.10"
    }
  },
  "cells": [
    {
      "cell_type": "code",
      "metadata": {
        "id": "mM87QjXjj18L"
      },
      "source": [
        "# https://towardsdatascience.com/multi-class-text-classification-with-lstm-1590bee1bd17"
      ],
      "execution_count": null,
      "outputs": []
    },
    {
      "cell_type": "code",
      "metadata": {
        "id": "bsq2ldIKoLFD"
      },
      "source": [
        "import pandas as pd\n",
        "import numpy as np\n",
        "import pickle\n"
      ],
      "execution_count": null,
      "outputs": []
    },
    {
      "cell_type": "code",
      "metadata": {
        "id": "BhWTcgizrxle"
      },
      "source": [
        "!pip install fuzzywuzzy"
      ],
      "execution_count": null,
      "outputs": []
    },
    {
      "cell_type": "code",
      "metadata": {
        "id": "9Jc9L20pr0qb"
      },
      "source": [
        "from fuzzywuzzy import process"
      ],
      "execution_count": null,
      "outputs": []
    },
    {
      "cell_type": "code",
      "metadata": {
        "id": "IM5wWw8Z09kv",
        "colab": {
          "base_uri": "https://localhost:8080/"
        },
        "outputId": "2c022c7a-7894-45dd-afcc-9522062a3a51"
      },
      "source": [
        "d1 = pd.read_csv('sentiment_tweets3.csv')\n",
        "d1.info()"
      ],
      "execution_count": null,
      "outputs": [
        {
          "output_type": "stream",
          "text": [
            "<class 'pandas.core.frame.DataFrame'>\n",
            "RangeIndex: 10314 entries, 0 to 10313\n",
            "Data columns (total 3 columns):\n",
            " #   Column                     Non-Null Count  Dtype \n",
            "---  ------                     --------------  ----- \n",
            " 0   Index                      10314 non-null  int64 \n",
            " 1   message to examine         10314 non-null  object\n",
            " 2   label (depression result)  10314 non-null  int64 \n",
            "dtypes: int64(2), object(1)\n",
            "memory usage: 241.9+ KB\n"
          ],
          "name": "stdout"
        }
      ]
    },
    {
      "cell_type": "code",
      "metadata": {
        "id": "300HUlWTOVWD"
      },
      "source": [
        "d1 = d1.rename(columns={'message to examine':'body','label (depression result)':'Depressed'})"
      ],
      "execution_count": null,
      "outputs": []
    },
    {
      "cell_type": "code",
      "metadata": {
        "colab": {
          "base_uri": "https://localhost:8080/"
        },
        "id": "ms0WiH8OOo_y",
        "outputId": "eb9fee40-b5c9-4704-a798-6d3cbed4a502"
      },
      "source": [
        "d1.Depressed.value_counts()"
      ],
      "execution_count": null,
      "outputs": [
        {
          "output_type": "execute_result",
          "data": {
            "text/plain": [
              "0    8000\n",
              "1    2314\n",
              "Name: Depressed, dtype: int64"
            ]
          },
          "metadata": {},
          "execution_count": 5
        }
      ]
    },
    {
      "cell_type": "code",
      "metadata": {
        "colab": {
          "base_uri": "https://localhost:8080/"
        },
        "id": "GPcrwk-FjQ_Y",
        "outputId": "e4204616-6b2c-4d2f-a234-e4fd04c4a6b2"
      },
      "source": [
        "d2 = pd.read_csv('Data.csv')\n",
        "d2.info()"
      ],
      "execution_count": null,
      "outputs": [
        {
          "output_type": "stream",
          "text": [
            "<class 'pandas.core.frame.DataFrame'>\n",
            "RangeIndex: 1912 entries, 0 to 1911\n",
            "Data columns (total 9 columns):\n",
            " #   Column        Non-Null Count  Dtype  \n",
            "---  ------        --------------  -----  \n",
            " 0   title         1912 non-null   object \n",
            " 1   score         1912 non-null   int64  \n",
            " 2   id            1912 non-null   object \n",
            " 3   subreddit     1912 non-null   object \n",
            " 4   url           1912 non-null   object \n",
            " 5   num_comments  1912 non-null   int64  \n",
            " 6   body          1912 non-null   object \n",
            " 7   created       1912 non-null   float64\n",
            " 8   Depressed     1912 non-null   int64  \n",
            "dtypes: float64(1), int64(3), object(5)\n",
            "memory usage: 134.6+ KB\n"
          ],
          "name": "stdout"
        }
      ]
    },
    {
      "cell_type": "code",
      "metadata": {
        "id": "x7c7QoRJztu3"
      },
      "source": [
        "d2 = d2.rename(columns={'label (depression result)':'Depressed', 'message to examine': 'body'})"
      ],
      "execution_count": null,
      "outputs": []
    },
    {
      "cell_type": "code",
      "metadata": {
        "colab": {
          "base_uri": "https://localhost:8080/",
          "height": 1000
        },
        "id": "kou2kL9MztpE",
        "outputId": "b14c541a-35e1-412a-80c3-029b8275082e"
      },
      "source": [
        "d2"
      ],
      "execution_count": null,
      "outputs": [
        {
          "output_type": "execute_result",
          "data": {
            "text/html": [
              "<div>\n",
              "<style scoped>\n",
              "    .dataframe tbody tr th:only-of-type {\n",
              "        vertical-align: middle;\n",
              "    }\n",
              "\n",
              "    .dataframe tbody tr th {\n",
              "        vertical-align: top;\n",
              "    }\n",
              "\n",
              "    .dataframe thead th {\n",
              "        text-align: right;\n",
              "    }\n",
              "</style>\n",
              "<table border=\"1\" class=\"dataframe\">\n",
              "  <thead>\n",
              "    <tr style=\"text-align: right;\">\n",
              "      <th></th>\n",
              "      <th>title</th>\n",
              "      <th>score</th>\n",
              "      <th>id</th>\n",
              "      <th>subreddit</th>\n",
              "      <th>url</th>\n",
              "      <th>num_comments</th>\n",
              "      <th>body</th>\n",
              "      <th>created</th>\n",
              "      <th>Depressed</th>\n",
              "    </tr>\n",
              "  </thead>\n",
              "  <tbody>\n",
              "    <tr>\n",
              "      <th>0</th>\n",
              "      <td>Our most-broken and least-understood rules is ...</td>\n",
              "      <td>2323</td>\n",
              "      <td>doqwow</td>\n",
              "      <td>depression</td>\n",
              "      <td>https://www.reddit.com/r/depression/comments/d...</td>\n",
              "      <td>175</td>\n",
              "      <td>We understand that most people who reply immed...</td>\n",
              "      <td>1.572361e+09</td>\n",
              "      <td>1</td>\n",
              "    </tr>\n",
              "    <tr>\n",
              "      <th>1</th>\n",
              "      <td>Regular Check-In Post, with important reminder...</td>\n",
              "      <td>672</td>\n",
              "      <td>m246c4</td>\n",
              "      <td>depression</td>\n",
              "      <td>https://www.reddit.com/r/depression/comments/m...</td>\n",
              "      <td>2584</td>\n",
              "      <td>Welcome to /r/depression's check-in post - a p...</td>\n",
              "      <td>1.615400e+09</td>\n",
              "      <td>1</td>\n",
              "    </tr>\n",
              "    <tr>\n",
              "      <th>2</th>\n",
              "      <td>Work is a perfect reason to commit suicide</td>\n",
              "      <td>628</td>\n",
              "      <td>oyqbtv</td>\n",
              "      <td>depression</td>\n",
              "      <td>https://www.reddit.com/r/depression/comments/o...</td>\n",
              "      <td>102</td>\n",
              "      <td>It sucks and it will be the majority of your l...</td>\n",
              "      <td>1.628193e+09</td>\n",
              "      <td>1</td>\n",
              "    </tr>\n",
              "    <tr>\n",
              "      <th>3</th>\n",
              "      <td>anyone else at their lowest?</td>\n",
              "      <td>63</td>\n",
              "      <td>oyxdxb</td>\n",
              "      <td>depression</td>\n",
              "      <td>https://www.reddit.com/r/depression/comments/o...</td>\n",
              "      <td>20</td>\n",
              "      <td>these past 3 days have been rough. I have new ...</td>\n",
              "      <td>1.628216e+09</td>\n",
              "      <td>1</td>\n",
              "    </tr>\n",
              "    <tr>\n",
              "      <th>4</th>\n",
              "      <td>Im burned out.</td>\n",
              "      <td>22</td>\n",
              "      <td>oz056o</td>\n",
              "      <td>depression</td>\n",
              "      <td>https://www.reddit.com/r/depression/comments/o...</td>\n",
              "      <td>4</td>\n",
              "      <td>Im so fucking tired of everything. Had a panic...</td>\n",
              "      <td>1.628227e+09</td>\n",
              "      <td>1</td>\n",
              "    </tr>\n",
              "    <tr>\n",
              "      <th>...</th>\n",
              "      <td>...</td>\n",
              "      <td>...</td>\n",
              "      <td>...</td>\n",
              "      <td>...</td>\n",
              "      <td>...</td>\n",
              "      <td>...</td>\n",
              "      <td>...</td>\n",
              "      <td>...</td>\n",
              "      <td>...</td>\n",
              "    </tr>\n",
              "    <tr>\n",
              "      <th>1907</th>\n",
              "      <td>What's something you do when noone is looking?</td>\n",
              "      <td>3</td>\n",
              "      <td>oz04n9</td>\n",
              "      <td>AskReddit</td>\n",
              "      <td>https://www.reddit.com/r/AskReddit/comments/oz...</td>\n",
              "      <td>12</td>\n",
              "      <td>What's something you do when noone is looking?</td>\n",
              "      <td>1.628227e+09</td>\n",
              "      <td>0</td>\n",
              "    </tr>\n",
              "    <tr>\n",
              "      <th>1908</th>\n",
              "      <td>If you had to eat one type of canned food for ...</td>\n",
              "      <td>6</td>\n",
              "      <td>oyxjy0</td>\n",
              "      <td>AskReddit</td>\n",
              "      <td>https://www.reddit.com/r/AskReddit/comments/oy...</td>\n",
              "      <td>23</td>\n",
              "      <td>If you had to eat one type of canned food for ...</td>\n",
              "      <td>1.628217e+09</td>\n",
              "      <td>0</td>\n",
              "    </tr>\n",
              "    <tr>\n",
              "      <th>1909</th>\n",
              "      <td>People of Reddit, what do you think of virtue ...</td>\n",
              "      <td>4</td>\n",
              "      <td>oyypzt</td>\n",
              "      <td>AskReddit</td>\n",
              "      <td>https://www.reddit.com/r/AskReddit/comments/oy...</td>\n",
              "      <td>24</td>\n",
              "      <td>People of Reddit, what do you think of virtue ...</td>\n",
              "      <td>1.628221e+09</td>\n",
              "      <td>0</td>\n",
              "    </tr>\n",
              "    <tr>\n",
              "      <th>1910</th>\n",
              "      <td>Who or what do you trust the most?</td>\n",
              "      <td>6</td>\n",
              "      <td>oyuxy4</td>\n",
              "      <td>AskReddit</td>\n",
              "      <td>https://www.reddit.com/r/AskReddit/comments/oy...</td>\n",
              "      <td>24</td>\n",
              "      <td>Who or what do you trust the most?</td>\n",
              "      <td>1.628207e+09</td>\n",
              "      <td>0</td>\n",
              "    </tr>\n",
              "    <tr>\n",
              "      <th>1911</th>\n",
              "      <td>How often do you find yourself wondering what ...</td>\n",
              "      <td>1</td>\n",
              "      <td>oz03e8</td>\n",
              "      <td>AskReddit</td>\n",
              "      <td>https://www.reddit.com/r/AskReddit/comments/oz...</td>\n",
              "      <td>12</td>\n",
              "      <td>How often do you find yourself wondering what ...</td>\n",
              "      <td>1.628227e+09</td>\n",
              "      <td>0</td>\n",
              "    </tr>\n",
              "  </tbody>\n",
              "</table>\n",
              "<p>1912 rows × 9 columns</p>\n",
              "</div>"
            ],
            "text/plain": [
              "                                                  title  ...  Depressed\n",
              "0     Our most-broken and least-understood rules is ...  ...          1\n",
              "1     Regular Check-In Post, with important reminder...  ...          1\n",
              "2            Work is a perfect reason to commit suicide  ...          1\n",
              "3                          anyone else at their lowest?  ...          1\n",
              "4                                        Im burned out.  ...          1\n",
              "...                                                 ...  ...        ...\n",
              "1907     What's something you do when noone is looking?  ...          0\n",
              "1908  If you had to eat one type of canned food for ...  ...          0\n",
              "1909  People of Reddit, what do you think of virtue ...  ...          0\n",
              "1910                 Who or what do you trust the most?  ...          0\n",
              "1911  How often do you find yourself wondering what ...  ...          0\n",
              "\n",
              "[1912 rows x 9 columns]"
            ]
          },
          "metadata": {},
          "execution_count": 8
        }
      ]
    },
    {
      "cell_type": "code",
      "metadata": {
        "colab": {
          "base_uri": "https://localhost:8080/"
        },
        "id": "AFloFe-Jkb4Q",
        "outputId": "f693cf91-c97f-4908-9b25-b02e3dbd90d7"
      },
      "source": [
        "d2.Depressed.value_counts()"
      ],
      "execution_count": null,
      "outputs": [
        {
          "output_type": "execute_result",
          "data": {
            "text/plain": [
              "0    996\n",
              "1    916\n",
              "Name: Depressed, dtype: int64"
            ]
          },
          "metadata": {},
          "execution_count": 9
        }
      ]
    },
    {
      "cell_type": "code",
      "metadata": {
        "id": "Wg2PuXYI3Kes"
      },
      "source": [
        "d1 = d1[['body','Depressed']]\n",
        "d2 = d2[['body','Depressed']]\n",
        "df = pd.concat([d1,d2])"
      ],
      "execution_count": null,
      "outputs": []
    },
    {
      "cell_type": "code",
      "metadata": {
        "colab": {
          "base_uri": "https://localhost:8080/"
        },
        "id": "lJv6iXoUMbDe",
        "outputId": "cdb5a976-6157-4a3c-acbb-87732c913f67"
      },
      "source": [
        "df.Depressed.value_counts()"
      ],
      "execution_count": null,
      "outputs": [
        {
          "output_type": "execute_result",
          "data": {
            "text/plain": [
              "0    8996\n",
              "1    3230\n",
              "Name: Depressed, dtype: int64"
            ]
          },
          "metadata": {},
          "execution_count": 11
        }
      ]
    },
    {
      "cell_type": "code",
      "metadata": {
        "id": "Coy9KiITM7__"
      },
      "source": [
        "import spacy\n",
        "#loading the english language small model of spacy\n",
        "en = spacy.load('en_core_web_sm')\n",
        "sw_spacy = en.Defaults.stop_words"
      ],
      "execution_count": null,
      "outputs": []
    },
    {
      "cell_type": "code",
      "metadata": {
        "id": "Q0PZtwfHkdSG"
      },
      "source": [
        "import re\n",
        "df = df.reset_index(drop=True)\n",
        "REPLACE_BY_SPACE_RE = re.compile('[/(){}\\[\\]\\|@,;]')\n",
        "BAD_SYMBOLS_RE = re.compile('[^0-9a-z #+_]')\n",
        "\n",
        "def fuzzy(text):\n",
        "  str2match = text\n",
        "  stroptions = words\n",
        "  Ratios = process.extract(str2match,stroptions)\n",
        "  highest = preocess.extractOne(,str2matchstroptions)\n",
        "  return highaest[0]\n",
        "\n",
        "def clean_text(text):\n",
        "    text = text.lower() # lowercase text\n",
        "    text = REPLACE_BY_SPACE_RE.sub(' ', text) # replace REPLACE_BY_SPACE_RE symbols by space in text. substitute the matched string in REPLACE_BY_SPACE_RE with space.\n",
        "    text = BAD_SYMBOLS_RE.sub('', text) # remove symbols which are in BAD_SYMBOLS_RE from text. substitute the matched string in BAD_SYMBOLS_RE with nothing. \n",
        "    text = text.replace('x', '')\n",
        "#    text = re.sub(r'\\W+', '', text)\n",
        "    words = [word for word in text.split() if word.lower() not in sw_spacy]\n",
        "    text = \" \".join(words)\n",
        "    return text\n",
        "  \n",
        "\n",
        "df['body'] = df['body'].apply(clean_text)\n",
        "df['body'] = df['body'].str.replace('\\d+', '')"
      ],
      "execution_count": null,
      "outputs": []
    },
    {
      "cell_type": "code",
      "metadata": {
        "colab": {
          "base_uri": "https://localhost:8080/",
          "height": 419
        },
        "id": "GiINvcJio5_B",
        "outputId": "5e4f1c61-640e-48cc-c8f7-3910209298e5"
      },
      "source": [
        "df"
      ],
      "execution_count": null,
      "outputs": [
        {
          "output_type": "execute_result",
          "data": {
            "text/html": [
              "<div>\n",
              "<style scoped>\n",
              "    .dataframe tbody tr th:only-of-type {\n",
              "        vertical-align: middle;\n",
              "    }\n",
              "\n",
              "    .dataframe tbody tr th {\n",
              "        vertical-align: top;\n",
              "    }\n",
              "\n",
              "    .dataframe thead th {\n",
              "        text-align: right;\n",
              "    }\n",
              "</style>\n",
              "<table border=\"1\" class=\"dataframe\">\n",
              "  <thead>\n",
              "    <tr style=\"text-align: right;\">\n",
              "      <th></th>\n",
              "      <th>body</th>\n",
              "      <th>Depressed</th>\n",
              "    </tr>\n",
              "  </thead>\n",
              "  <tbody>\n",
              "    <tr>\n",
              "      <th>0</th>\n",
              "      <td>real good moment missssssssss</td>\n",
              "      <td>0</td>\n",
              "    </tr>\n",
              "    <tr>\n",
              "      <th>1</th>\n",
              "      <td>reading manga http plurkcom p mzpe</td>\n",
              "      <td>0</td>\n",
              "    </tr>\n",
              "    <tr>\n",
              "      <th>2</th>\n",
              "      <td>comeagainjen http twitpiccom yl http wwwyoutub...</td>\n",
              "      <td>0</td>\n",
              "    </tr>\n",
              "    <tr>\n",
              "      <th>3</th>\n",
              "      <td>lapcat need send em accountant tomorrow oddly ...</td>\n",
              "      <td>0</td>\n",
              "    </tr>\n",
              "    <tr>\n",
              "      <th>4</th>\n",
              "      <td>add myspace myspacecom lookthunder</td>\n",
              "      <td>0</td>\n",
              "    </tr>\n",
              "    <tr>\n",
              "      <th>...</th>\n",
              "      <td>...</td>\n",
              "      <td>...</td>\n",
              "    </tr>\n",
              "    <tr>\n",
              "      <th>12221</th>\n",
              "      <td>whats looking</td>\n",
              "      <td>0</td>\n",
              "    </tr>\n",
              "    <tr>\n",
              "      <th>12222</th>\n",
              "      <td>eat type canned food rest life choosing</td>\n",
              "      <td>0</td>\n",
              "    </tr>\n",
              "    <tr>\n",
              "      <th>12223</th>\n",
              "      <td>people reddit think virtue signalling fau outr...</td>\n",
              "      <td>0</td>\n",
              "    </tr>\n",
              "    <tr>\n",
              "      <th>12224</th>\n",
              "      <td>trust</td>\n",
              "      <td>0</td>\n",
              "    </tr>\n",
              "    <tr>\n",
              "      <th>12225</th>\n",
              "      <td>find wondering</td>\n",
              "      <td>0</td>\n",
              "    </tr>\n",
              "  </tbody>\n",
              "</table>\n",
              "<p>12226 rows × 2 columns</p>\n",
              "</div>"
            ],
            "text/plain": [
              "                                                    body  Depressed\n",
              "0                          real good moment missssssssss          0\n",
              "1                     reading manga http plurkcom p mzpe          0\n",
              "2      comeagainjen http twitpiccom yl http wwwyoutub...          0\n",
              "3      lapcat need send em accountant tomorrow oddly ...          0\n",
              "4                     add myspace myspacecom lookthunder          0\n",
              "...                                                  ...        ...\n",
              "12221                                      whats looking          0\n",
              "12222            eat type canned food rest life choosing          0\n",
              "12223  people reddit think virtue signalling fau outr...          0\n",
              "12224                                              trust          0\n",
              "12225                                     find wondering          0\n",
              "\n",
              "[12226 rows x 2 columns]"
            ]
          },
          "metadata": {},
          "execution_count": 14
        }
      ]
    },
    {
      "cell_type": "code",
      "metadata": {
        "colab": {
          "base_uri": "https://localhost:8080/"
        },
        "id": "Go7d4HqRpuND",
        "outputId": "9615cbd7-ab95-40ea-ae66-c263e8943673"
      },
      "source": [
        "from tensorflow.keras.preprocessing.text import Tokenizer\n",
        "# The maximum number of words to be used. (most frequent)\n",
        "MAX_NB_WORDS = 50000\n",
        "# Max number of words in each complaint.\n",
        "MAX_SEQUENCE_LENGTH = 250\n",
        "# This is fixed.\n",
        "EMBEDDING_DIM = 100\n",
        "tokenizer = Tokenizer(num_words=MAX_NB_WORDS, filters='!\"#$%&()*+,-./:;<=>?@[\\]^_`{|}~', lower=True)\n",
        "tokenizer.fit_on_texts(df['body'].values)\n",
        "word_index = tokenizer.word_index\n",
        "print('Found %s unique tokens.' % len(word_index))"
      ],
      "execution_count": null,
      "outputs": [
        {
          "output_type": "stream",
          "text": [
            "Found 27141 unique tokens.\n"
          ],
          "name": "stdout"
        }
      ]
    },
    {
      "cell_type": "code",
      "metadata": {
        "colab": {
          "base_uri": "https://localhost:8080/"
        },
        "id": "eyd91bnduai_",
        "outputId": "e00c1d12-9283-4521-c15b-ed4ea819eb3a"
      },
      "source": [
        "from tensorflow.keras.preprocessing.sequence import pad_sequences\n",
        "X = tokenizer.texts_to_sequences(df['body'].values)\n",
        "X = pad_sequences(X, maxlen=MAX_SEQUENCE_LENGTH)\n",
        "print('Shape of data tensor:', X.shape)"
      ],
      "execution_count": null,
      "outputs": [
        {
          "output_type": "stream",
          "text": [
            "Shape of data tensor: (12226, 250)\n"
          ],
          "name": "stdout"
        }
      ]
    },
    {
      "cell_type": "code",
      "metadata": {
        "colab": {
          "base_uri": "https://localhost:8080/"
        },
        "id": "5VtLEVRcugn6",
        "outputId": "d8b47a15-f175-4a67-a2cb-684f7b24273b"
      },
      "source": [
        "Y = pd.get_dummies(df['Depressed']).values\n",
        "print('Shape of label tensor:', Y.shape)"
      ],
      "execution_count": null,
      "outputs": [
        {
          "output_type": "stream",
          "text": [
            "Shape of label tensor: (12226, 2)\n"
          ],
          "name": "stdout"
        }
      ]
    },
    {
      "cell_type": "code",
      "metadata": {
        "colab": {
          "base_uri": "https://localhost:8080/"
        },
        "id": "Zs024xwhu3UW",
        "outputId": "24e14a5a-2c9e-486d-b6e7-08faf9e6fc1a"
      },
      "source": [
        "from sklearn.model_selection import train_test_split\n",
        "X_train, X_test, Y_train, Y_test = train_test_split(X,Y, test_size = 0.25, random_state = 42)\n",
        "print(X_train.shape,Y_train.shape)\n",
        "print(X_test.shape,Y_test.shape)"
      ],
      "execution_count": null,
      "outputs": [
        {
          "output_type": "stream",
          "text": [
            "(9169, 250) (9169, 2)\n",
            "(3057, 250) (3057, 2)\n"
          ],
          "name": "stdout"
        }
      ]
    },
    {
      "cell_type": "code",
      "metadata": {
        "colab": {
          "base_uri": "https://localhost:8080/"
        },
        "id": "8CAj8ecYvHDd",
        "outputId": "afbf5847-8bc9-416c-e025-5b7eef278047"
      },
      "source": [
        "import tensorflow as tf\n",
        "from tensorflow import keras\n",
        "from tensorflow.keras import Sequential\n",
        "from tensorflow.keras.layers import Embedding, SpatialDropout1D, LSTM, Dense\n",
        "from tensorflow.keras.callbacks import EarlyStopping\n",
        "\n",
        "model = Sequential()\n",
        "model.add(Embedding(MAX_NB_WORDS, EMBEDDING_DIM, input_length=X.shape[1]))\n",
        "model.add(SpatialDropout1D(0.2))\n",
        "model.add(LSTM(100, dropout=0.2, recurrent_dropout=0.2))\n",
        "model.add(Dense(2, activation='softmax'))\n",
        "model.compile(loss='binary_crossentropy', optimizer='adam', metrics=['accuracy'])\n",
        "\n",
        "epochs = 4\n",
        "batch_size = 512\n",
        "\n",
        "history = model.fit(X_train, Y_train, epochs=epochs, batch_size=batch_size,validation_split=0.1,callbacks=[EarlyStopping(monitor='val_loss', patience=3, min_delta=0.0001)])\n"
      ],
      "execution_count": null,
      "outputs": [
        {
          "output_type": "stream",
          "text": [
            "Epoch 1/4\n",
            "17/17 [==============================] - 70s 4s/step - loss: 0.5844 - accuracy: 0.7196 - val_loss: 0.4554 - val_accuracy: 0.7710\n",
            "Epoch 2/4\n",
            "17/17 [==============================] - 65s 4s/step - loss: 0.4037 - accuracy: 0.8427 - val_loss: 0.3266 - val_accuracy: 0.9008\n",
            "Epoch 3/4\n",
            "17/17 [==============================] - 66s 4s/step - loss: 0.2748 - accuracy: 0.9118 - val_loss: 0.2152 - val_accuracy: 0.9411\n",
            "Epoch 4/4\n",
            "17/17 [==============================] - 66s 4s/step - loss: 0.1366 - accuracy: 0.9547 - val_loss: 0.1092 - val_accuracy: 0.9553\n"
          ],
          "name": "stdout"
        }
      ]
    },
    {
      "cell_type": "code",
      "metadata": {
        "colab": {
          "base_uri": "https://localhost:8080/"
        },
        "id": "NiJCBLapviYz",
        "outputId": "0a32358b-9c57-4b96-f951-85364e4d14b1"
      },
      "source": [
        "accr = model.evaluate(X_test,Y_test)\n",
        "print('Test set\\n  Loss: {:0.3f}\\n  Accuracy: {:0.3f}'.format(accr[0],accr[1]))"
      ],
      "execution_count": null,
      "outputs": [
        {
          "output_type": "stream",
          "text": [
            "96/96 [==============================] - 8s 80ms/step - loss: 0.1206 - accuracy: 0.9519\n",
            "Test set\n",
            "  Loss: 0.121\n",
            "  Accuracy: 0.952\n"
          ],
          "name": "stdout"
        }
      ]
    },
    {
      "cell_type": "code",
      "metadata": {
        "colab": {
          "base_uri": "https://localhost:8080/",
          "height": 281
        },
        "id": "gwUZTNZexCmu",
        "outputId": "3956f524-2dea-4289-c452-cc8ecfdadbbc"
      },
      "source": [
        "import matplotlib.pyplot as plt\n",
        "plt.title('Loss')\n",
        "plt.plot(history.history['loss'], label='train')\n",
        "plt.plot(history.history['val_loss'], label='test')\n",
        "plt.legend()\n",
        "plt.show();"
      ],
      "execution_count": null,
      "outputs": [
        {
          "output_type": "display_data",
          "data": {
            "image/png": "[encoded data removed]",
            "text/plain": [
              "<Figure size 432x288 with 1 Axes>"
            ]
          },
          "metadata": {
            "needs_background": "light"
          }
        }
      ]
    },
    {
      "cell_type": "code",
      "metadata": {
        "colab": {
          "base_uri": "https://localhost:8080/",
          "height": 281
        },
        "id": "5E4XglSoxGS2",
        "outputId": "d5109c8a-def5-48cc-f6f6-32d40122b624"
      },
      "source": [
        "plt.title('Accuracy')\n",
        "plt.plot(history.history['accuracy'], label='train')\n",
        "plt.plot(history.history['val_accuracy'], label='test')\n",
        "plt.legend()\n",
        "plt.show();"
      ],
      "execution_count": null,
      "outputs": [
        {
          "output_type": "display_data",
          "data": {
            "image/png": "[encoded data removed]",
            "text/plain": [
              "<Figure size 432x288 with 1 Axes>"
            ]
          },
          "metadata": {
            "needs_background": "light"
          }
        }
      ]
    },
    {
      "cell_type": "code",
      "metadata": {
        "id": "p5NIyBPexNyb"
      },
      "source": [
        "val = pd.read_csv('shot2.csv')"
      ],
      "execution_count": null,
      "outputs": []
    },
    {
      "cell_type": "code",
      "metadata": {
        "colab": {
          "base_uri": "https://localhost:8080/",
          "height": 419
        },
        "id": "jXyfkTNcUUBi",
        "outputId": "698fd585-eef5-4aa1-fe98-635f105504e5"
      },
      "source": [
        "val"
      ],
      "execution_count": null,
      "outputs": [
        {
          "output_type": "execute_result",
          "data": {
            "text/html": [
              "<div>\n",
              "<style scoped>\n",
              "    .dataframe tbody tr th:only-of-type {\n",
              "        vertical-align: middle;\n",
              "    }\n",
              "\n",
              "    .dataframe tbody tr th {\n",
              "        vertical-align: top;\n",
              "    }\n",
              "\n",
              "    .dataframe thead th {\n",
              "        text-align: right;\n",
              "    }\n",
              "</style>\n",
              "<table border=\"1\" class=\"dataframe\">\n",
              "  <thead>\n",
              "    <tr style=\"text-align: right;\">\n",
              "      <th></th>\n",
              "      <th>text</th>\n",
              "      <th>class</th>\n",
              "    </tr>\n",
              "  </thead>\n",
              "  <tbody>\n",
              "    <tr>\n",
              "      <th>0</th>\n",
              "      <td>Ex Wife Threatening SuicideRecently I left my ...</td>\n",
              "      <td>suicide</td>\n",
              "    </tr>\n",
              "    <tr>\n",
              "      <th>1</th>\n",
              "      <td>Am I weird I don't get affected by compliments...</td>\n",
              "      <td>non-suicide</td>\n",
              "    </tr>\n",
              "    <tr>\n",
              "      <th>2</th>\n",
              "      <td>Finally 2020 is almost over... So I can never ...</td>\n",
              "      <td>non-suicide</td>\n",
              "    </tr>\n",
              "    <tr>\n",
              "      <th>3</th>\n",
              "      <td>i need helpjust help me im crying so hard</td>\n",
              "      <td>suicide</td>\n",
              "    </tr>\n",
              "    <tr>\n",
              "      <th>4</th>\n",
              "      <td>I’m so lostHello, my name is Adam (16) and I’v...</td>\n",
              "      <td>suicide</td>\n",
              "    </tr>\n",
              "    <tr>\n",
              "      <th>...</th>\n",
              "      <td>...</td>\n",
              "      <td>...</td>\n",
              "    </tr>\n",
              "    <tr>\n",
              "      <th>5831</th>\n",
              "      <td>I have a theory guys... Girls just say they ar...</td>\n",
              "      <td>non-suicide</td>\n",
              "    </tr>\n",
              "    <tr>\n",
              "      <th>5832</th>\n",
              "      <td>Aussie Goth/Punk Clothing Store (13F) Im tryna...</td>\n",
              "      <td>non-suicide</td>\n",
              "    </tr>\n",
              "    <tr>\n",
              "      <th>5833</th>\n",
              "      <td>Either this place get its shit together or we ...</td>\n",
              "      <td>non-suicide</td>\n",
              "    </tr>\n",
              "    <tr>\n",
              "      <th>5834</th>\n",
              "      <td>Why was 2019 scared of 2020 Because they had a...</td>\n",
              "      <td>non-suicide</td>\n",
              "    </tr>\n",
              "    <tr>\n",
              "      <th>5835</th>\n",
              "      <td>Going for my last swimThe current is really st...</td>\n",
              "      <td>suicide</td>\n",
              "    </tr>\n",
              "  </tbody>\n",
              "</table>\n",
              "<p>5836 rows × 2 columns</p>\n",
              "</div>"
            ],
            "text/plain": [
              "                                                   text        class\n",
              "0     Ex Wife Threatening SuicideRecently I left my ...      suicide\n",
              "1     Am I weird I don't get affected by compliments...  non-suicide\n",
              "2     Finally 2020 is almost over... So I can never ...  non-suicide\n",
              "3             i need helpjust help me im crying so hard      suicide\n",
              "4     I’m so lostHello, my name is Adam (16) and I’v...      suicide\n",
              "...                                                 ...          ...\n",
              "5831  I have a theory guys... Girls just say they ar...  non-suicide\n",
              "5832  Aussie Goth/Punk Clothing Store (13F) Im tryna...  non-suicide\n",
              "5833  Either this place get its shit together or we ...  non-suicide\n",
              "5834  Why was 2019 scared of 2020 Because they had a...  non-suicide\n",
              "5835  Going for my last swimThe current is really st...      suicide\n",
              "\n",
              "[5836 rows x 2 columns]"
            ]
          },
          "metadata": {},
          "execution_count": 39
        }
      ]
    },
    {
      "cell_type": "code",
      "metadata": {
        "id": "NuHZVTfJSt_K"
      },
      "source": [
        "val['Depressed'] = 0\n",
        "for i in range(len(val)):\n",
        "  if(val.loc[i,'class'] == 'suicide'):\n",
        "    val.loc[i,'Depressed'] = 1\n",
        "val = val.rename(columns = {'text':'body'})\n",
        "val = val[['body','Depressed']]"
      ],
      "execution_count": null,
      "outputs": []
    },
    {
      "cell_type": "code",
      "metadata": {
        "colab": {
          "base_uri": "https://localhost:8080/",
          "height": 419
        },
        "id": "wHitlDsolYo5",
        "outputId": "d18fba48-035b-4cd9-ead1-f35493191e7c"
      },
      "source": [
        "val"
      ],
      "execution_count": null,
      "outputs": [
        {
          "output_type": "execute_result",
          "data": {
            "text/html": [
              "<div>\n",
              "<style scoped>\n",
              "    .dataframe tbody tr th:only-of-type {\n",
              "        vertical-align: middle;\n",
              "    }\n",
              "\n",
              "    .dataframe tbody tr th {\n",
              "        vertical-align: top;\n",
              "    }\n",
              "\n",
              "    .dataframe thead th {\n",
              "        text-align: right;\n",
              "    }\n",
              "</style>\n",
              "<table border=\"1\" class=\"dataframe\">\n",
              "  <thead>\n",
              "    <tr style=\"text-align: right;\">\n",
              "      <th></th>\n",
              "      <th>body</th>\n",
              "      <th>Depressed</th>\n",
              "    </tr>\n",
              "  </thead>\n",
              "  <tbody>\n",
              "    <tr>\n",
              "      <th>0</th>\n",
              "      <td>Ex Wife Threatening SuicideRecently I left my ...</td>\n",
              "      <td>1</td>\n",
              "    </tr>\n",
              "    <tr>\n",
              "      <th>1</th>\n",
              "      <td>Am I weird I don't get affected by compliments...</td>\n",
              "      <td>0</td>\n",
              "    </tr>\n",
              "    <tr>\n",
              "      <th>2</th>\n",
              "      <td>Finally 2020 is almost over... So I can never ...</td>\n",
              "      <td>0</td>\n",
              "    </tr>\n",
              "    <tr>\n",
              "      <th>3</th>\n",
              "      <td>i need helpjust help me im crying so hard</td>\n",
              "      <td>1</td>\n",
              "    </tr>\n",
              "    <tr>\n",
              "      <th>4</th>\n",
              "      <td>I’m so lostHello, my name is Adam (16) and I’v...</td>\n",
              "      <td>1</td>\n",
              "    </tr>\n",
              "    <tr>\n",
              "      <th>...</th>\n",
              "      <td>...</td>\n",
              "      <td>...</td>\n",
              "    </tr>\n",
              "    <tr>\n",
              "      <th>5831</th>\n",
              "      <td>I have a theory guys... Girls just say they ar...</td>\n",
              "      <td>0</td>\n",
              "    </tr>\n",
              "    <tr>\n",
              "      <th>5832</th>\n",
              "      <td>Aussie Goth/Punk Clothing Store (13F) Im tryna...</td>\n",
              "      <td>0</td>\n",
              "    </tr>\n",
              "    <tr>\n",
              "      <th>5833</th>\n",
              "      <td>Either this place get its shit together or we ...</td>\n",
              "      <td>0</td>\n",
              "    </tr>\n",
              "    <tr>\n",
              "      <th>5834</th>\n",
              "      <td>Why was 2019 scared of 2020 Because they had a...</td>\n",
              "      <td>0</td>\n",
              "    </tr>\n",
              "    <tr>\n",
              "      <th>5835</th>\n",
              "      <td>Going for my last swimThe current is really st...</td>\n",
              "      <td>1</td>\n",
              "    </tr>\n",
              "  </tbody>\n",
              "</table>\n",
              "<p>5836 rows × 2 columns</p>\n",
              "</div>"
            ],
            "text/plain": [
              "                                                   body  Depressed\n",
              "0     Ex Wife Threatening SuicideRecently I left my ...          1\n",
              "1     Am I weird I don't get affected by compliments...          0\n",
              "2     Finally 2020 is almost over... So I can never ...          0\n",
              "3             i need helpjust help me im crying so hard          1\n",
              "4     I’m so lostHello, my name is Adam (16) and I’v...          1\n",
              "...                                                 ...        ...\n",
              "5831  I have a theory guys... Girls just say they ar...          0\n",
              "5832  Aussie Goth/Punk Clothing Store (13F) Im tryna...          0\n",
              "5833  Either this place get its shit together or we ...          0\n",
              "5834  Why was 2019 scared of 2020 Because they had a...          0\n",
              "5835  Going for my last swimThe current is really st...          1\n",
              "\n",
              "[5836 rows x 2 columns]"
            ]
          },
          "metadata": {},
          "execution_count": 41
        }
      ]
    },
    {
      "cell_type": "code",
      "metadata": {
        "colab": {
          "base_uri": "https://localhost:8080/"
        },
        "id": "g8jGlk3llpNA",
        "outputId": "e932126c-87fd-483a-d30a-315091decbf9"
      },
      "source": [
        "val['body'] = val['body'].apply(clean_text)\n",
        "val['body'] = val['body'].str.replace('\\d+', '')\n",
        "X1 = tokenizer.texts_to_sequences(val['body'].values)\n",
        "X1 = pad_sequences(X1, maxlen=MAX_SEQUENCE_LENGTH)\n",
        "print('Shape of data tensor:', X1.shape)\n",
        "Y1 = pd.get_dummies(val['Depressed']).values\n",
        "print('Shape of label tensor:', Y1.shape)"
      ],
      "execution_count": null,
      "outputs": [
        {
          "output_type": "stream",
          "text": [
            "Shape of data tensor: (5836, 250)\n",
            "Shape of label tensor: (5836, 2)\n"
          ],
          "name": "stdout"
        }
      ]
    },
    {
      "cell_type": "code",
      "metadata": {
        "colab": {
          "base_uri": "https://localhost:8080/"
        },
        "id": "1j4H1Ilzl_wy",
        "outputId": "6be3fc5a-320d-461d-916e-f3dccb42c3aa"
      },
      "source": [
        "accr = model.evaluate(X1,Y1)\n",
        "print('Test set\\n  Loss: {:0.3f}\\n  Accuracy: {:0.3f}'.format(accr[0],accr[1]))"
      ],
      "execution_count": null,
      "outputs": [
        {
          "output_type": "stream",
          "text": [
            "183/183 [==============================] - 14s 76ms/step - loss: 0.9798 - accuracy: 0.7282\n",
            "Test set\n",
            "  Loss: 0.980\n",
            "  Accuracy: 0.728\n"
          ],
          "name": "stdout"
        }
      ]
    },
    {
      "cell_type": "code",
      "metadata": {
        "id": "R7vSBAjonEsT"
      },
      "source": [
        "def isDepressing(text):\n",
        "  lst = {'body':[text]}\n",
        "  # Calling DataFrame constructor on list  \n",
        "  dframe = pd.DataFrame(lst) \n",
        "  dframe = dframe['body'].apply(clean_text)\n",
        "  dframe = dframe.str.replace('\\d+', '')\n",
        "  X1 = tokenizer.texts_to_sequences(dframe.values)\n",
        "  X1 = pad_sequences(X1, maxlen=MAX_SEQUENCE_LENGTH)\n",
        "  print('Shape of data tensor:', X1.shape)\n",
        "  a = model.predict(X1)\n",
        "  print(a)\n",
        "  if(a[0][0] > a[0][1]):\n",
        "    return 0\n",
        "  return 1"
      ],
      "execution_count": null,
      "outputs": []
    },
    {
      "cell_type": "code",
      "metadata": {
        "colab": {
          "base_uri": "https://localhost:8080/"
        },
        "id": "YMIM6JYHoI0V",
        "outputId": "bfef8f18-1aa9-455a-c389-364da8628c9d"
      },
      "source": [
        "isDepressing('i just want to die. I dont want to burden my family anymore')"
      ],
      "execution_count": null,
      "outputs": [
        {
          "output_type": "stream",
          "text": [
            "Shape of data tensor: (1, 250)\n",
            "[[0.0250965 0.9749035]]\n"
          ],
          "name": "stdout"
        },
        {
          "output_type": "execute_result",
          "data": {
            "text/plain": [
              "1"
            ]
          },
          "metadata": {},
          "execution_count": 51
        }
      ]
    },
    {
      "cell_type": "code",
      "metadata": {
        "id": "wL08yu8mESkT"
      },
      "source": [
        "pickle.dump(words,open('words.pkl','wb'))\n",
        "pickle.dump(df,open('df.pkl','wb'))\n"
      ],
      "execution_count": null,
      "outputs": []
    }
  ]
}