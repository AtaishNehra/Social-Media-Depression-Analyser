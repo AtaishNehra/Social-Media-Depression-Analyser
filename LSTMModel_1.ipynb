{
  "nbformat": 4,
  "nbformat_minor": 0,
  "metadata": {
    "colab": {
      "name": "LSTMModel_1.ipynb",
      "provenance": [],
      "collapsed_sections": []
    },
    "kernelspec": {
      "name": "python3",
      "display_name": "Python 3"
    },
    "language_info": {
      "name": "python"
    }
  },
  "cells": [
    {
      "cell_type": "code",
      "metadata": {
        "id": "mM87QjXjj18L"
      },
      "source": [
        "# https://towardsdatascience.com/multi-class-text-classification-with-lstm-1590bee1bd17"
      ],
      "execution_count": 1,
      "outputs": []
    },
    {
      "cell_type": "code",
      "metadata": {
        "id": "bsq2ldIKoLFD"
      },
      "source": [
        "import pandas as pd\n",
        "import numpy as np"
      ],
      "execution_count": 3,
      "outputs": []
    },
    {
      "cell_type": "code",
      "metadata": {
        "colab": {
          "base_uri": "https://localhost:8080/"
        },
        "id": "GPcrwk-FjQ_Y",
        "outputId": "96070bba-9b50-4025-b45b-5c5f08b86183"
      },
      "source": [
        "df = pd.read_csv('Data.csv')\n",
        "df.info()"
      ],
      "execution_count": 5,
      "outputs": [
        {
          "output_type": "stream",
          "text": [
            "<class 'pandas.core.frame.DataFrame'>\n",
            "RangeIndex: 1912 entries, 0 to 1911\n",
            "Data columns (total 9 columns):\n",
            " #   Column        Non-Null Count  Dtype  \n",
            "---  ------        --------------  -----  \n",
            " 0   title         1912 non-null   object \n",
            " 1   score         1912 non-null   int64  \n",
            " 2   id            1912 non-null   object \n",
            " 3   subreddit     1912 non-null   object \n",
            " 4   url           1912 non-null   object \n",
            " 5   num_comments  1912 non-null   int64  \n",
            " 6   body          1912 non-null   object \n",
            " 7   created       1912 non-null   float64\n",
            " 8   Depressed     1912 non-null   int64  \n",
            "dtypes: float64(1), int64(3), object(5)\n",
            "memory usage: 134.6+ KB\n"
          ],
          "name": "stdout"
        }
      ]
    },
    {
      "cell_type": "code",
      "metadata": {
        "id": "AFloFe-Jkb4Q",
        "colab": {
          "base_uri": "https://localhost:8080/"
        },
        "outputId": "e3c249f5-f820-4409-8546-90e23dbfdc92"
      },
      "source": [
        "df.Depressed.value_counts()"
      ],
      "execution_count": 6,
      "outputs": [
        {
          "output_type": "execute_result",
          "data": {
            "text/plain": [
              "0    996\n",
              "1    916\n",
              "Name: Depressed, dtype: int64"
            ]
          },
          "metadata": {
            "tags": []
          },
          "execution_count": 6
        }
      ]
    },
    {
      "cell_type": "code",
      "metadata": {
        "id": "Q0PZtwfHkdSG"
      },
      "source": [
        "import re\n",
        "from nltk.corpus import stopwords\n",
        "df = df.reset_index(drop=True)\n",
        "REPLACE_BY_SPACE_RE = re.compile('[/(){}\\[\\]\\|@,;]')\n",
        "BAD_SYMBOLS_RE = re.compile('[^0-9a-z #+_]')\n",
        "STOPWORDS = set(stopwords.words('english'))\n",
        "\n",
        "def clean_text(text):\n",
        "    \"\"\"\n",
        "        text: a string\n",
        "        \n",
        "        return: modified initial string\n",
        "    \"\"\"\n",
        "    text = text.lower() # lowercase text\n",
        "    text = REPLACE_BY_SPACE_RE.sub(' ', text) # replace REPLACE_BY_SPACE_RE symbols by space in text. substitute the matched string in REPLACE_BY_SPACE_RE with space.\n",
        "    text = BAD_SYMBOLS_RE.sub('', text) # remove symbols which are in BAD_SYMBOLS_RE from text. substitute the matched string in BAD_SYMBOLS_RE with nothing. \n",
        "    text = text.replace('x', '')\n",
        "#    text = re.sub(r'\\W+', '', text)\n",
        "    text = ' '.join(word for word in text.split() if word not in STOPWORDS) # remove stopwors from text\n",
        "    return text\n",
        "df['body'] = df['body'].apply(clean_text)\n",
        "df['body'] = df['body'].str.replace('\\d+', '')"
      ],
      "execution_count": 17,
      "outputs": []
    },
    {
      "cell_type": "code",
      "metadata": {
        "colab": {
          "base_uri": "https://localhost:8080/",
          "height": 1000
        },
        "id": "GiINvcJio5_B",
        "outputId": "bbaec569-3eba-4ffd-c55d-f015f55f125f"
      },
      "source": [
        "df"
      ],
      "execution_count": 18,
      "outputs": [
        {
          "output_type": "execute_result",
          "data": {
            "text/html": [
              "<div>\n",
              "<style scoped>\n",
              "    .dataframe tbody tr th:only-of-type {\n",
              "        vertical-align: middle;\n",
              "    }\n",
              "\n",
              "    .dataframe tbody tr th {\n",
              "        vertical-align: top;\n",
              "    }\n",
              "\n",
              "    .dataframe thead th {\n",
              "        text-align: right;\n",
              "    }\n",
              "</style>\n",
              "<table border=\"1\" class=\"dataframe\">\n",
              "  <thead>\n",
              "    <tr style=\"text-align: right;\">\n",
              "      <th></th>\n",
              "      <th>title</th>\n",
              "      <th>score</th>\n",
              "      <th>id</th>\n",
              "      <th>subreddit</th>\n",
              "      <th>url</th>\n",
              "      <th>num_comments</th>\n",
              "      <th>body</th>\n",
              "      <th>created</th>\n",
              "      <th>Depressed</th>\n",
              "    </tr>\n",
              "  </thead>\n",
              "  <tbody>\n",
              "    <tr>\n",
              "      <th>0</th>\n",
              "      <td>Our most-broken and least-understood rules is ...</td>\n",
              "      <td>2323</td>\n",
              "      <td>doqwow</td>\n",
              "      <td>depression</td>\n",
              "      <td>https://www.reddit.com/r/depression/comments/d...</td>\n",
              "      <td>175</td>\n",
              "      <td>understand people reply immediately op invitat...</td>\n",
              "      <td>1.572361e+09</td>\n",
              "      <td>1</td>\n",
              "    </tr>\n",
              "    <tr>\n",
              "      <th>1</th>\n",
              "      <td>Regular Check-In Post, with important reminder...</td>\n",
              "      <td>672</td>\n",
              "      <td>m246c4</td>\n",
              "      <td>depression</td>\n",
              "      <td>https://www.reddit.com/r/depression/comments/m...</td>\n",
              "      <td>2584</td>\n",
              "      <td>welcome r depressions checkin post place take ...</td>\n",
              "      <td>1.615400e+09</td>\n",
              "      <td>1</td>\n",
              "    </tr>\n",
              "    <tr>\n",
              "      <th>2</th>\n",
              "      <td>Work is a perfect reason to commit suicide</td>\n",
              "      <td>628</td>\n",
              "      <td>oyqbtv</td>\n",
              "      <td>depression</td>\n",
              "      <td>https://www.reddit.com/r/depression/comments/o...</td>\n",
              "      <td>102</td>\n",
              "      <td>sucks majority life fucking thing planet want ...</td>\n",
              "      <td>1.628193e+09</td>\n",
              "      <td>1</td>\n",
              "    </tr>\n",
              "    <tr>\n",
              "      <th>3</th>\n",
              "      <td>anyone else at their lowest?</td>\n",
              "      <td>63</td>\n",
              "      <td>oyxdxb</td>\n",
              "      <td>depression</td>\n",
              "      <td>https://www.reddit.com/r/depression/comments/o...</td>\n",
              "      <td>20</td>\n",
              "      <td>past  days rough new symptoms im depressed ove...</td>\n",
              "      <td>1.628216e+09</td>\n",
              "      <td>1</td>\n",
              "    </tr>\n",
              "    <tr>\n",
              "      <th>4</th>\n",
              "      <td>Im burned out.</td>\n",
              "      <td>22</td>\n",
              "      <td>oz056o</td>\n",
              "      <td>depression</td>\n",
              "      <td>https://www.reddit.com/r/depression/comments/o...</td>\n",
              "      <td>4</td>\n",
              "      <td>im fucking tired everything panic attack work ...</td>\n",
              "      <td>1.628227e+09</td>\n",
              "      <td>1</td>\n",
              "    </tr>\n",
              "    <tr>\n",
              "      <th>...</th>\n",
              "      <td>...</td>\n",
              "      <td>...</td>\n",
              "      <td>...</td>\n",
              "      <td>...</td>\n",
              "      <td>...</td>\n",
              "      <td>...</td>\n",
              "      <td>...</td>\n",
              "      <td>...</td>\n",
              "      <td>...</td>\n",
              "    </tr>\n",
              "    <tr>\n",
              "      <th>1907</th>\n",
              "      <td>What's something you do when noone is looking?</td>\n",
              "      <td>3</td>\n",
              "      <td>oz04n9</td>\n",
              "      <td>AskReddit</td>\n",
              "      <td>https://www.reddit.com/r/AskReddit/comments/oz...</td>\n",
              "      <td>12</td>\n",
              "      <td>whats something noone looking</td>\n",
              "      <td>1.628227e+09</td>\n",
              "      <td>0</td>\n",
              "    </tr>\n",
              "    <tr>\n",
              "      <th>1908</th>\n",
              "      <td>If you had to eat one type of canned food for ...</td>\n",
              "      <td>6</td>\n",
              "      <td>oyxjy0</td>\n",
              "      <td>AskReddit</td>\n",
              "      <td>https://www.reddit.com/r/AskReddit/comments/oy...</td>\n",
              "      <td>23</td>\n",
              "      <td>eat one type canned food rest life choosing</td>\n",
              "      <td>1.628217e+09</td>\n",
              "      <td>0</td>\n",
              "    </tr>\n",
              "    <tr>\n",
              "      <th>1909</th>\n",
              "      <td>People of Reddit, what do you think of virtue ...</td>\n",
              "      <td>4</td>\n",
              "      <td>oyypzt</td>\n",
              "      <td>AskReddit</td>\n",
              "      <td>https://www.reddit.com/r/AskReddit/comments/oy...</td>\n",
              "      <td>24</td>\n",
              "      <td>people reddit think virtue signalling fau outr...</td>\n",
              "      <td>1.628221e+09</td>\n",
              "      <td>0</td>\n",
              "    </tr>\n",
              "    <tr>\n",
              "      <th>1910</th>\n",
              "      <td>Who or what do you trust the most?</td>\n",
              "      <td>6</td>\n",
              "      <td>oyuxy4</td>\n",
              "      <td>AskReddit</td>\n",
              "      <td>https://www.reddit.com/r/AskReddit/comments/oy...</td>\n",
              "      <td>24</td>\n",
              "      <td>trust</td>\n",
              "      <td>1.628207e+09</td>\n",
              "      <td>0</td>\n",
              "    </tr>\n",
              "    <tr>\n",
              "      <th>1911</th>\n",
              "      <td>How often do you find yourself wondering what ...</td>\n",
              "      <td>1</td>\n",
              "      <td>oz03e8</td>\n",
              "      <td>AskReddit</td>\n",
              "      <td>https://www.reddit.com/r/AskReddit/comments/oz...</td>\n",
              "      <td>12</td>\n",
              "      <td>often find wondering</td>\n",
              "      <td>1.628227e+09</td>\n",
              "      <td>0</td>\n",
              "    </tr>\n",
              "  </tbody>\n",
              "</table>\n",
              "<p>1912 rows × 9 columns</p>\n",
              "</div>"
            ],
            "text/plain": [
              "                                                  title  ...  Depressed\n",
              "0     Our most-broken and least-understood rules is ...  ...          1\n",
              "1     Regular Check-In Post, with important reminder...  ...          1\n",
              "2            Work is a perfect reason to commit suicide  ...          1\n",
              "3                          anyone else at their lowest?  ...          1\n",
              "4                                        Im burned out.  ...          1\n",
              "...                                                 ...  ...        ...\n",
              "1907     What's something you do when noone is looking?  ...          0\n",
              "1908  If you had to eat one type of canned food for ...  ...          0\n",
              "1909  People of Reddit, what do you think of virtue ...  ...          0\n",
              "1910                 Who or what do you trust the most?  ...          0\n",
              "1911  How often do you find yourself wondering what ...  ...          0\n",
              "\n",
              "[1912 rows x 9 columns]"
            ]
          },
          "metadata": {
            "tags": []
          },
          "execution_count": 18
        }
      ]
    },
    {
      "cell_type": "code",
      "metadata": {
        "colab": {
          "base_uri": "https://localhost:8080/"
        },
        "id": "Go7d4HqRpuND",
        "outputId": "e4c4e975-d413-4ee5-f0b6-5a302b999bd6"
      },
      "source": [
        "from keras.preprocessing.text import Tokenizer\n",
        "# The maximum number of words to be used. (most frequent)\n",
        "MAX_NB_WORDS = 50000\n",
        "# Max number of words in each complaint.\n",
        "MAX_SEQUENCE_LENGTH = 250\n",
        "# This is fixed.\n",
        "EMBEDDING_DIM = 100\n",
        "tokenizer = Tokenizer(num_words=MAX_NB_WORDS, filters='!\"#$%&()*+,-./:;<=>?@[\\]^_`{|}~', lower=True)\n",
        "tokenizer.fit_on_texts(df['body'].values)\n",
        "word_index = tokenizer.word_index\n",
        "print('Found %s unique tokens.' % len(word_index))"
      ],
      "execution_count": 24,
      "outputs": [
        {
          "output_type": "stream",
          "text": [
            "Found 9333 unique tokens.\n"
          ],
          "name": "stdout"
        }
      ]
    },
    {
      "cell_type": "code",
      "metadata": {
        "colab": {
          "base_uri": "https://localhost:8080/",
          "height": 1000
        },
        "id": "h1qal1Noqb3m",
        "outputId": "17f356f1-489a-4c8b-c0c6-df60bf439515"
      },
      "source": [
        "df"
      ],
      "execution_count": 25,
      "outputs": [
        {
          "output_type": "execute_result",
          "data": {
            "text/html": [
              "<div>\n",
              "<style scoped>\n",
              "    .dataframe tbody tr th:only-of-type {\n",
              "        vertical-align: middle;\n",
              "    }\n",
              "\n",
              "    .dataframe tbody tr th {\n",
              "        vertical-align: top;\n",
              "    }\n",
              "\n",
              "    .dataframe thead th {\n",
              "        text-align: right;\n",
              "    }\n",
              "</style>\n",
              "<table border=\"1\" class=\"dataframe\">\n",
              "  <thead>\n",
              "    <tr style=\"text-align: right;\">\n",
              "      <th></th>\n",
              "      <th>title</th>\n",
              "      <th>score</th>\n",
              "      <th>id</th>\n",
              "      <th>subreddit</th>\n",
              "      <th>url</th>\n",
              "      <th>num_comments</th>\n",
              "      <th>body</th>\n",
              "      <th>created</th>\n",
              "      <th>Depressed</th>\n",
              "    </tr>\n",
              "  </thead>\n",
              "  <tbody>\n",
              "    <tr>\n",
              "      <th>0</th>\n",
              "      <td>Our most-broken and least-understood rules is ...</td>\n",
              "      <td>2323</td>\n",
              "      <td>doqwow</td>\n",
              "      <td>depression</td>\n",
              "      <td>https://www.reddit.com/r/depression/comments/d...</td>\n",
              "      <td>175</td>\n",
              "      <td>understand people reply immediately op invitat...</td>\n",
              "      <td>1.572361e+09</td>\n",
              "      <td>1</td>\n",
              "    </tr>\n",
              "    <tr>\n",
              "      <th>1</th>\n",
              "      <td>Regular Check-In Post, with important reminder...</td>\n",
              "      <td>672</td>\n",
              "      <td>m246c4</td>\n",
              "      <td>depression</td>\n",
              "      <td>https://www.reddit.com/r/depression/comments/m...</td>\n",
              "      <td>2584</td>\n",
              "      <td>welcome r depressions checkin post place take ...</td>\n",
              "      <td>1.615400e+09</td>\n",
              "      <td>1</td>\n",
              "    </tr>\n",
              "    <tr>\n",
              "      <th>2</th>\n",
              "      <td>Work is a perfect reason to commit suicide</td>\n",
              "      <td>628</td>\n",
              "      <td>oyqbtv</td>\n",
              "      <td>depression</td>\n",
              "      <td>https://www.reddit.com/r/depression/comments/o...</td>\n",
              "      <td>102</td>\n",
              "      <td>sucks majority life fucking thing planet want ...</td>\n",
              "      <td>1.628193e+09</td>\n",
              "      <td>1</td>\n",
              "    </tr>\n",
              "    <tr>\n",
              "      <th>3</th>\n",
              "      <td>anyone else at their lowest?</td>\n",
              "      <td>63</td>\n",
              "      <td>oyxdxb</td>\n",
              "      <td>depression</td>\n",
              "      <td>https://www.reddit.com/r/depression/comments/o...</td>\n",
              "      <td>20</td>\n",
              "      <td>past  days rough new symptoms im depressed ove...</td>\n",
              "      <td>1.628216e+09</td>\n",
              "      <td>1</td>\n",
              "    </tr>\n",
              "    <tr>\n",
              "      <th>4</th>\n",
              "      <td>Im burned out.</td>\n",
              "      <td>22</td>\n",
              "      <td>oz056o</td>\n",
              "      <td>depression</td>\n",
              "      <td>https://www.reddit.com/r/depression/comments/o...</td>\n",
              "      <td>4</td>\n",
              "      <td>im fucking tired everything panic attack work ...</td>\n",
              "      <td>1.628227e+09</td>\n",
              "      <td>1</td>\n",
              "    </tr>\n",
              "    <tr>\n",
              "      <th>...</th>\n",
              "      <td>...</td>\n",
              "      <td>...</td>\n",
              "      <td>...</td>\n",
              "      <td>...</td>\n",
              "      <td>...</td>\n",
              "      <td>...</td>\n",
              "      <td>...</td>\n",
              "      <td>...</td>\n",
              "      <td>...</td>\n",
              "    </tr>\n",
              "    <tr>\n",
              "      <th>1907</th>\n",
              "      <td>What's something you do when noone is looking?</td>\n",
              "      <td>3</td>\n",
              "      <td>oz04n9</td>\n",
              "      <td>AskReddit</td>\n",
              "      <td>https://www.reddit.com/r/AskReddit/comments/oz...</td>\n",
              "      <td>12</td>\n",
              "      <td>whats something noone looking</td>\n",
              "      <td>1.628227e+09</td>\n",
              "      <td>0</td>\n",
              "    </tr>\n",
              "    <tr>\n",
              "      <th>1908</th>\n",
              "      <td>If you had to eat one type of canned food for ...</td>\n",
              "      <td>6</td>\n",
              "      <td>oyxjy0</td>\n",
              "      <td>AskReddit</td>\n",
              "      <td>https://www.reddit.com/r/AskReddit/comments/oy...</td>\n",
              "      <td>23</td>\n",
              "      <td>eat one type canned food rest life choosing</td>\n",
              "      <td>1.628217e+09</td>\n",
              "      <td>0</td>\n",
              "    </tr>\n",
              "    <tr>\n",
              "      <th>1909</th>\n",
              "      <td>People of Reddit, what do you think of virtue ...</td>\n",
              "      <td>4</td>\n",
              "      <td>oyypzt</td>\n",
              "      <td>AskReddit</td>\n",
              "      <td>https://www.reddit.com/r/AskReddit/comments/oy...</td>\n",
              "      <td>24</td>\n",
              "      <td>people reddit think virtue signalling fau outr...</td>\n",
              "      <td>1.628221e+09</td>\n",
              "      <td>0</td>\n",
              "    </tr>\n",
              "    <tr>\n",
              "      <th>1910</th>\n",
              "      <td>Who or what do you trust the most?</td>\n",
              "      <td>6</td>\n",
              "      <td>oyuxy4</td>\n",
              "      <td>AskReddit</td>\n",
              "      <td>https://www.reddit.com/r/AskReddit/comments/oy...</td>\n",
              "      <td>24</td>\n",
              "      <td>trust</td>\n",
              "      <td>1.628207e+09</td>\n",
              "      <td>0</td>\n",
              "    </tr>\n",
              "    <tr>\n",
              "      <th>1911</th>\n",
              "      <td>How often do you find yourself wondering what ...</td>\n",
              "      <td>1</td>\n",
              "      <td>oz03e8</td>\n",
              "      <td>AskReddit</td>\n",
              "      <td>https://www.reddit.com/r/AskReddit/comments/oz...</td>\n",
              "      <td>12</td>\n",
              "      <td>often find wondering</td>\n",
              "      <td>1.628227e+09</td>\n",
              "      <td>0</td>\n",
              "    </tr>\n",
              "  </tbody>\n",
              "</table>\n",
              "<p>1912 rows × 9 columns</p>\n",
              "</div>"
            ],
            "text/plain": [
              "                                                  title  ...  Depressed\n",
              "0     Our most-broken and least-understood rules is ...  ...          1\n",
              "1     Regular Check-In Post, with important reminder...  ...          1\n",
              "2            Work is a perfect reason to commit suicide  ...          1\n",
              "3                          anyone else at their lowest?  ...          1\n",
              "4                                        Im burned out.  ...          1\n",
              "...                                                 ...  ...        ...\n",
              "1907     What's something you do when noone is looking?  ...          0\n",
              "1908  If you had to eat one type of canned food for ...  ...          0\n",
              "1909  People of Reddit, what do you think of virtue ...  ...          0\n",
              "1910                 Who or what do you trust the most?  ...          0\n",
              "1911  How often do you find yourself wondering what ...  ...          0\n",
              "\n",
              "[1912 rows x 9 columns]"
            ]
          },
          "metadata": {
            "tags": []
          },
          "execution_count": 25
        }
      ]
    },
    {
      "cell_type": "code",
      "metadata": {
        "colab": {
          "base_uri": "https://localhost:8080/"
        },
        "id": "eyd91bnduai_",
        "outputId": "2b62724a-b157-4bb2-f168-46797fa5a3e8"
      },
      "source": [
        "from keras.preprocessing.sequence import pad_sequences\n",
        "X = tokenizer.texts_to_sequences(df['body'].values)\n",
        "X = pad_sequences(X, maxlen=MAX_SEQUENCE_LENGTH)\n",
        "print('Shape of data tensor:', X.shape)"
      ],
      "execution_count": 27,
      "outputs": [
        {
          "output_type": "stream",
          "text": [
            "Shape of data tensor: (1912, 250)\n"
          ],
          "name": "stdout"
        }
      ]
    },
    {
      "cell_type": "code",
      "metadata": {
        "colab": {
          "base_uri": "https://localhost:8080/"
        },
        "id": "5VtLEVRcugn6",
        "outputId": "6ccc1d76-2581-4c93-ff89-0d1c9974ad0c"
      },
      "source": [
        "Y = pd.get_dummies(df['Depressed']).values\n",
        "print('Shape of label tensor:', Y.shape)"
      ],
      "execution_count": 29,
      "outputs": [
        {
          "output_type": "stream",
          "text": [
            "Shape of label tensor: (1912, 2)\n"
          ],
          "name": "stdout"
        }
      ]
    },
    {
      "cell_type": "code",
      "metadata": {
        "colab": {
          "base_uri": "https://localhost:8080/"
        },
        "id": "Zs024xwhu3UW",
        "outputId": "abfa2585-ffb3-4057-ce58-cf761a42b556"
      },
      "source": [
        "from sklearn.model_selection import train_test_split\n",
        "X_train, X_test, Y_train, Y_test = train_test_split(X,Y, test_size = 0.10, random_state = 42)\n",
        "print(X_train.shape,Y_train.shape)\n",
        "print(X_test.shape,Y_test.shape)"
      ],
      "execution_count": 30,
      "outputs": [
        {
          "output_type": "stream",
          "text": [
            "(1720, 250) (1720, 2)\n",
            "(192, 250) (192, 2)\n"
          ],
          "name": "stdout"
        }
      ]
    },
    {
      "cell_type": "code",
      "metadata": {
        "colab": {
          "base_uri": "https://localhost:8080/"
        },
        "id": "8CAj8ecYvHDd",
        "outputId": "0b2d205f-1960-4b92-8fb5-145ce7b691e6"
      },
      "source": [
        "import tensorflow as tf\n",
        "from tensorflow import keras\n",
        "from keras import Sequential\n",
        "from keras.layers import Embedding, SpatialDropout1D, LSTM, Dense\n",
        "from keras.callbacks import EarlyStopping\n",
        "\n",
        "model = Sequential()\n",
        "model.add(Embedding(MAX_NB_WORDS, EMBEDDING_DIM, input_length=X.shape[1]))\n",
        "model.add(SpatialDropout1D(0.2))\n",
        "model.add(LSTM(100, dropout=0.2, recurrent_dropout=0.2))\n",
        "model.add(Dense(2, activation='softmax'))\n",
        "model.compile(loss='categorical_crossentropy', optimizer='adam', metrics=['accuracy'])\n",
        "\n",
        "epochs = 5\n",
        "batch_size = 64\n",
        "\n",
        "history = model.fit(X_train, Y_train, epochs=epochs, batch_size=batch_size,validation_split=0.1,callbacks=[EarlyStopping(monitor='val_loss', patience=3, min_delta=0.0001)])\n"
      ],
      "execution_count": 38,
      "outputs": [
        {
          "output_type": "stream",
          "text": [
            "Epoch 1/5\n",
            "25/25 [==============================] - 36s 528ms/step - loss: 0.5680 - accuracy: 0.8210 - val_loss: 0.1092 - val_accuracy: 0.9709\n",
            "Epoch 2/5\n",
            "25/25 [==============================] - 12s 479ms/step - loss: 0.0711 - accuracy: 0.9808 - val_loss: 0.0463 - val_accuracy: 0.9767\n",
            "Epoch 3/5\n",
            "25/25 [==============================] - 12s 478ms/step - loss: 0.0288 - accuracy: 0.9897 - val_loss: 0.0257 - val_accuracy: 0.9942\n",
            "Epoch 4/5\n",
            "25/25 [==============================] - 12s 478ms/step - loss: 0.0195 - accuracy: 0.9938 - val_loss: 0.0167 - val_accuracy: 1.0000\n",
            "Epoch 5/5\n",
            "25/25 [==============================] - 12s 480ms/step - loss: 0.0078 - accuracy: 0.9993 - val_loss: 0.0242 - val_accuracy: 0.9884\n"
          ],
          "name": "stdout"
        }
      ]
    },
    {
      "cell_type": "code",
      "metadata": {
        "colab": {
          "base_uri": "https://localhost:8080/"
        },
        "id": "NiJCBLapviYz",
        "outputId": "4bedddb3-9618-429b-9d8c-f0797756f52b"
      },
      "source": [
        "accr = model.evaluate(X_test,Y_test)\n",
        "print('Test set\\n  Loss: {:0.3f}\\n  Accuracy: {:0.3f}'.format(accr[0],accr[1]))"
      ],
      "execution_count": 39,
      "outputs": [
        {
          "output_type": "stream",
          "text": [
            "6/6 [==============================] - 1s 47ms/step - loss: 0.0432 - accuracy: 0.9844\n",
            "Test set\n",
            "  Loss: 0.043\n",
            "  Accuracy: 0.984\n"
          ],
          "name": "stdout"
        }
      ]
    },
    {
      "cell_type": "code",
      "metadata": {
        "colab": {
          "base_uri": "https://localhost:8080/",
          "height": 281
        },
        "id": "gwUZTNZexCmu",
        "outputId": "0d980acd-12b9-4098-8b95-4d7efe095af0"
      },
      "source": [
        "import matplotlib.pyplot as plt\n",
        "plt.title('Loss')\n",
        "plt.plot(history.history['loss'], label='train')\n",
        "plt.plot(history.history['val_loss'], label='test')\n",
        "plt.legend()\n",
        "plt.show();"
      ],
      "execution_count": 41,
      "outputs": [
        {
          "output_type": "display_data",
          "data": {
            "image/png": "[encoded data removed]",
            "text/plain": [
              "<Figure size 432x288 with 1 Axes>"
            ]
          },
          "metadata": {
            "tags": [],
            "needs_background": "light"
          }
        }
      ]
    },
    {
      "cell_type": "code",
      "metadata": {
        "colab": {
          "base_uri": "https://localhost:8080/",
          "height": 281
        },
        "id": "5E4XglSoxGS2",
        "outputId": "b16392bb-7c42-458f-b255-95d601057c95"
      },
      "source": [
        "plt.title('Accuracy')\n",
        "plt.plot(history.history['accuracy'], label='train')\n",
        "plt.plot(history.history['val_accuracy'], label='test')\n",
        "plt.legend()\n",
        "plt.show();"
      ],
      "execution_count": 43,
      "outputs": [
        {
          "output_type": "display_data",
          "data": {
            "image/png": "[encoded data removed]",
            "text/plain": [
              "<Figure size 432x288 with 1 Axes>"
            ]
          },
          "metadata": {
            "tags": [],
            "needs_background": "light"
          }
        }
      ]
    },
    {
      "cell_type": "code",
      "metadata": {
        "id": "p5NIyBPexNyb"
      },
      "source": [
        ""
      ],
      "execution_count": null,
      "outputs": []
    }
  ]
}