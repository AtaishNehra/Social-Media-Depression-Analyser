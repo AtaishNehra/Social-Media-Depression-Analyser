{
  "nbformat": 4,
  "nbformat_minor": 0,
  "metadata": {
    "colab": {
      "name": "DDF4.ipynb",
      "provenance": [],
      "collapsed_sections": []
    },
    "kernelspec": {
      "name": "python3",
      "display_name": "Python 3"
    },
    "language_info": {
      "name": "python"
    }
  },
  "cells": [
    {
      "cell_type": "code",
      "metadata": {
        "id": "LQibx1_tcac8"
      },
      "source": [
        "import pandas as pd\n",
        "import numpy as np"
      ],
      "execution_count": 1,
      "outputs": []
    },
    {
      "cell_type": "code",
      "metadata": {
        "id": "IPVkg6D9cdNh"
      },
      "source": [
        "main = pd.read_csv(\"MainData.csv\")\n",
        "validate = pd.read_csv(\"ValidationFinal.csv\")"
      ],
      "execution_count": 2,
      "outputs": []
    },
    {
      "cell_type": "code",
      "metadata": {
        "colab": {
          "base_uri": "https://localhost:8080/"
        },
        "id": "HEtAUW7ecufC",
        "outputId": "9eeff593-2f40-4020-9230-411ea04e9bd7"
      },
      "source": [
        "main.result.value_counts()"
      ],
      "execution_count": 3,
      "outputs": [
        {
          "output_type": "execute_result",
          "data": {
            "text/plain": [
              "0    4078\n",
              "1    3962\n",
              "Name: result, dtype: int64"
            ]
          },
          "metadata": {},
          "execution_count": 3
        }
      ]
    },
    {
      "cell_type": "code",
      "metadata": {
        "colab": {
          "base_uri": "https://localhost:8080/",
          "height": 419
        },
        "id": "PsFr8lrtdHFS",
        "outputId": "120a8ed7-e348-4358-b604-bcba9afceeac"
      },
      "source": [
        "main"
      ],
      "execution_count": 4,
      "outputs": [
        {
          "output_type": "execute_result",
          "data": {
            "text/html": [
              "<div>\n",
              "<style scoped>\n",
              "    .dataframe tbody tr th:only-of-type {\n",
              "        vertical-align: middle;\n",
              "    }\n",
              "\n",
              "    .dataframe tbody tr th {\n",
              "        vertical-align: top;\n",
              "    }\n",
              "\n",
              "    .dataframe thead th {\n",
              "        text-align: right;\n",
              "    }\n",
              "</style>\n",
              "<table border=\"1\" class=\"dataframe\">\n",
              "  <thead>\n",
              "    <tr style=\"text-align: right;\">\n",
              "      <th></th>\n",
              "      <th>Unnamed: 0</th>\n",
              "      <th>text</th>\n",
              "      <th>result</th>\n",
              "      <th>cleanedText</th>\n",
              "    </tr>\n",
              "  </thead>\n",
              "  <tbody>\n",
              "    <tr>\n",
              "      <th>0</th>\n",
              "      <td>0</td>\n",
              "      <td>Introverts, how did you get a girlfriend?</td>\n",
              "      <td>0</td>\n",
              "      <td>introverted girlfriend</td>\n",
              "    </tr>\n",
              "    <tr>\n",
              "      <th>1</th>\n",
              "      <td>1</td>\n",
              "      <td>1m older people say they often feel lonely. Re...</td>\n",
              "      <td>1</td>\n",
              "      <td>older people feel lonely regular physical acti...</td>\n",
              "    </tr>\n",
              "    <tr>\n",
              "      <th>2</th>\n",
              "      <td>2</td>\n",
              "      <td>@staceeeeee goodnight Cuppycake  hope you have...</td>\n",
              "      <td>0</td>\n",
              "      <td>staceeeeee goodnight cupcake hope good day don...</td>\n",
              "    </tr>\n",
              "    <tr>\n",
              "      <th>3</th>\n",
              "      <td>3</td>\n",
              "      <td>wanting to die but not having the ability to k...</td>\n",
              "      <td>1</td>\n",
              "      <td>wanting die having ability kill urselfcan rela...</td>\n",
              "    </tr>\n",
              "    <tr>\n",
              "      <th>4</th>\n",
              "      <td>4</td>\n",
              "      <td>Hey guys,\\nI was diagnosed with Atypical depre...</td>\n",
              "      <td>1</td>\n",
              "      <td>hey guys diagnosed atypical depression panic f...</td>\n",
              "    </tr>\n",
              "    <tr>\n",
              "      <th>...</th>\n",
              "      <td>...</td>\n",
              "      <td>...</td>\n",
              "      <td>...</td>\n",
              "      <td>...</td>\n",
              "    </tr>\n",
              "    <tr>\n",
              "      <th>8035</th>\n",
              "      <td>8035</td>\n",
              "      <td>Where is @JohnMu? anyone heard or have seen Jo...</td>\n",
              "      <td>0</td>\n",
              "      <td>johnmu heard seen john cheeseland recently</td>\n",
              "    </tr>\n",
              "    <tr>\n",
              "      <th>8036</th>\n",
              "      <td>8036</td>\n",
              "      <td>I took the rest of my sleeping pills and my pa...</td>\n",
              "      <td>1</td>\n",
              "      <td>took rest sleeping pills painkillers cant wait...</td>\n",
              "    </tr>\n",
              "    <tr>\n",
              "      <th>8037</th>\n",
              "      <td>8037</td>\n",
              "      <td>@PreDivorcePower More like outer circle, not i...</td>\n",
              "      <td>0</td>\n",
              "      <td>predivorcepower like outer circle inner circle...</td>\n",
              "    </tr>\n",
              "    <tr>\n",
              "      <th>8038</th>\n",
              "      <td>8038</td>\n",
              "      <td>hooray! i have 3 stalkers!  spy me spy me!!! w...</td>\n",
              "      <td>0</td>\n",
              "      <td>hooray 3 stalkers spy spy find ok win round hi...</td>\n",
              "    </tr>\n",
              "    <tr>\n",
              "      <th>8039</th>\n",
              "      <td>8039</td>\n",
              "      <td>@jmbuckingham Wish u were here, Jeannie! I thi...</td>\n",
              "      <td>0</td>\n",
              "      <td>jmbuckingham wish u jeannie think ud loving</td>\n",
              "    </tr>\n",
              "  </tbody>\n",
              "</table>\n",
              "<p>8040 rows × 4 columns</p>\n",
              "</div>"
            ],
            "text/plain": [
              "      Unnamed: 0  ...                                        cleanedText\n",
              "0              0  ...                             introverted girlfriend\n",
              "1              1  ...  older people feel lonely regular physical acti...\n",
              "2              2  ...  staceeeeee goodnight cupcake hope good day don...\n",
              "3              3  ...  wanting die having ability kill urselfcan rela...\n",
              "4              4  ...  hey guys diagnosed atypical depression panic f...\n",
              "...          ...  ...                                                ...\n",
              "8035        8035  ...         johnmu heard seen john cheeseland recently\n",
              "8036        8036  ...  took rest sleeping pills painkillers cant wait...\n",
              "8037        8037  ...  predivorcepower like outer circle inner circle...\n",
              "8038        8038  ...  hooray 3 stalkers spy spy find ok win round hi...\n",
              "8039        8039  ...        jmbuckingham wish u jeannie think ud loving\n",
              "\n",
              "[8040 rows x 4 columns]"
            ]
          },
          "metadata": {},
          "execution_count": 4
        }
      ]
    },
    {
      "cell_type": "code",
      "metadata": {
        "colab": {
          "base_uri": "https://localhost:8080/"
        },
        "id": "89C8SBAMc7Fd",
        "outputId": "023ad46b-3619-437f-a35c-f4b3a9ba83ad"
      },
      "source": [
        "main = main.dropna()\n",
        "from tensorflow.keras.preprocessing.text import Tokenizer\n",
        "MAX_NB_WORDS = 50000\n",
        "MAX_SEQUENCE_LENGTH = 250\n",
        "EMBEDDING_DIM = 100\n",
        "tokenizer = Tokenizer(num_words=MAX_NB_WORDS, filters='!\"#$%&()*+,-./:;<=>?@[\\]^_`{|}~', lower=True)\n",
        "tokenizer.fit_on_texts(main['cleanedText'].values)\n",
        "word_index = tokenizer.word_index\n",
        "print('Found %s unique tokens.' % len(word_index))"
      ],
      "execution_count": 5,
      "outputs": [
        {
          "output_type": "stream",
          "name": "stdout",
          "text": [
            "Found 22272 unique tokens.\n"
          ]
        }
      ]
    },
    {
      "cell_type": "code",
      "metadata": {
        "colab": {
          "base_uri": "https://localhost:8080/"
        },
        "id": "vQIPAT4sdMlr",
        "outputId": "bed324f4-93b3-40f8-f3fd-37c68edeb4ec"
      },
      "source": [
        "from tensorflow.keras.preprocessing.sequence import pad_sequences\n",
        "X = tokenizer.texts_to_sequences(main['cleanedText'].values)\n",
        "X = pad_sequences(X, maxlen=MAX_SEQUENCE_LENGTH)\n",
        "print('Shape of data tensor:', X.shape)"
      ],
      "execution_count": 6,
      "outputs": [
        {
          "output_type": "stream",
          "name": "stdout",
          "text": [
            "Shape of data tensor: (8033, 250)\n"
          ]
        }
      ]
    },
    {
      "cell_type": "code",
      "metadata": {
        "colab": {
          "base_uri": "https://localhost:8080/"
        },
        "id": "ditb-2dJdXRL",
        "outputId": "6b227725-b52c-430a-f2ae-fe700729096a"
      },
      "source": [
        "Y = pd.get_dummies(main['result']).values\n",
        "print('Shape of label tensor:', Y.shape)"
      ],
      "execution_count": 7,
      "outputs": [
        {
          "output_type": "stream",
          "name": "stdout",
          "text": [
            "Shape of label tensor: (8033, 2)\n"
          ]
        }
      ]
    },
    {
      "cell_type": "code",
      "metadata": {
        "colab": {
          "base_uri": "https://localhost:8080/"
        },
        "id": "3lXTXn9zdhsu",
        "outputId": "28d0fce0-d645-4987-8caa-a84496f95ae2"
      },
      "source": [
        "from sklearn.model_selection import train_test_split\n",
        "X_train, X_test, Y_train, Y_test = train_test_split(X,Y, test_size = 0.25, random_state = 42)\n",
        "print(X_train.shape,Y_train.shape)\n",
        "print(X_test.shape,Y_test.shape)"
      ],
      "execution_count": 8,
      "outputs": [
        {
          "output_type": "stream",
          "name": "stdout",
          "text": [
            "(6024, 250) (6024, 2)\n",
            "(2009, 250) (2009, 2)\n"
          ]
        }
      ]
    },
    {
      "cell_type": "code",
      "metadata": {
        "colab": {
          "base_uri": "https://localhost:8080/"
        },
        "id": "kODi1HIFdky_",
        "outputId": "a749926c-8aff-4446-a1c4-d038def2fa9c"
      },
      "source": [
        "import tensorflow as tf\n",
        "from tensorflow import keras\n",
        "from tensorflow.keras import Sequential\n",
        "from tensorflow.keras.layers import Embedding, SpatialDropout1D, LSTM, Dense,GRU, Dropout\n",
        "from tensorflow.keras.callbacks import EarlyStopping\n",
        "\n",
        "model = Sequential()\n",
        "model.add(Embedding(MAX_NB_WORDS, EMBEDDING_DIM, input_length=X.shape[1]))\n",
        "model.add(LSTM(125, dropout=0.2, recurrent_dropout=0.2))\n",
        "model.add(Dense(2, activation='softmax'))\n",
        "model.compile(loss='categorical_crossentropy',optimizer='adam', metrics=['accuracy',\n",
        "                                                                         tf.keras.metrics.Precision(name='precision'),\n",
        "                                                                         tf.keras.metrics.Recall(name='recall'),\n",
        "                                                                         tf.keras.metrics.RootMeanSquaredError(name = 'rmse'),\n",
        "                                                                         tf.keras.metrics.TrueNegatives(name='TN'),\n",
        "                                                                         tf.keras.metrics.TruePositives(name='TP'),\n",
        "                                                                         tf.keras.metrics.FalseNegatives(name='FN'),\n",
        "                                                                         tf.keras.metrics.FalsePositives(name='FP'),\n",
        "                                                                         'mse'])\n",
        "epochs = 7\n",
        "batch_size = 256\n",
        "history = model.fit(X_train, Y_train, epochs=epochs, batch_size=batch_size,validation_split=0.1,callbacks=[EarlyStopping(monitor='val_loss', patience=3, min_delta=0.0001)])"
      ],
      "execution_count": 9,
      "outputs": [
        {
          "output_type": "stream",
          "name": "stdout",
          "text": [
            "Epoch 1/7\n",
            "22/22 [==============================] - 59s 2s/step - loss: 0.5759 - accuracy: 0.7309 - precision: 0.7309 - recall: 0.7309 - rmse: 0.4427 - TN: 3962.0000 - TP: 3962.0000 - FN: 1459.0000 - FP: 1459.0000 - mse: 0.1960 - val_loss: 0.4459 - val_accuracy: 0.7811 - val_precision: 0.7811 - val_recall: 0.7811 - val_rmse: 0.3811 - val_TN: 471.0000 - val_TP: 471.0000 - val_FN: 132.0000 - val_FP: 132.0000 - val_mse: 0.1453\n",
            "Epoch 2/7\n",
            "22/22 [==============================] - 53s 2s/step - loss: 0.3537 - accuracy: 0.8598 - precision: 0.8598 - recall: 0.8598 - rmse: 0.3266 - TN: 4661.0000 - TP: 4661.0000 - FN: 760.0000 - FP: 760.0000 - mse: 0.1066 - val_loss: 0.2778 - val_accuracy: 0.8740 - val_precision: 0.8740 - val_recall: 0.8740 - val_rmse: 0.2918 - val_TN: 527.0000 - val_TP: 527.0000 - val_FN: 76.0000 - val_FP: 76.0000 - val_mse: 0.0851\n",
            "Epoch 3/7\n",
            "22/22 [==============================] - 53s 2s/step - loss: 0.1402 - accuracy: 0.9559 - precision: 0.9559 - recall: 0.9559 - rmse: 0.1918 - TN: 5182.0000 - TP: 5182.0000 - FN: 239.0000 - FP: 239.0000 - mse: 0.0368 - val_loss: 0.1687 - val_accuracy: 0.9370 - val_precision: 0.9370 - val_recall: 0.9370 - val_rmse: 0.2198 - val_TN: 565.0000 - val_TP: 565.0000 - val_FN: 38.0000 - val_FP: 38.0000 - val_mse: 0.0483\n",
            "Epoch 4/7\n",
            "22/22 [==============================] - 53s 2s/step - loss: 0.0429 - accuracy: 0.9891 - precision: 0.9891 - recall: 0.9891 - rmse: 0.0986 - TN: 5362.0000 - TP: 5362.0000 - FN: 59.0000 - FP: 59.0000 - mse: 0.0097 - val_loss: 0.1659 - val_accuracy: 0.9436 - val_precision: 0.9436 - val_recall: 0.9436 - val_rmse: 0.2145 - val_TN: 569.0000 - val_TP: 569.0000 - val_FN: 34.0000 - val_FP: 34.0000 - val_mse: 0.0460\n",
            "Epoch 5/7\n",
            "22/22 [==============================] - 53s 2s/step - loss: 0.0187 - accuracy: 0.9954 - precision: 0.9954 - recall: 0.9954 - rmse: 0.0611 - TN: 5396.0000 - TP: 5396.0000 - FN: 25.0000 - FP: 25.0000 - mse: 0.0037 - val_loss: 0.1901 - val_accuracy: 0.9420 - val_precision: 0.9420 - val_recall: 0.9420 - val_rmse: 0.2199 - val_TN: 568.0000 - val_TP: 568.0000 - val_FN: 35.0000 - val_FP: 35.0000 - val_mse: 0.0484\n",
            "Epoch 6/7\n",
            "22/22 [==============================] - 53s 2s/step - loss: 0.0098 - accuracy: 0.9982 - precision: 0.9982 - recall: 0.9982 - rmse: 0.0438 - TN: 5411.0000 - TP: 5411.0000 - FN: 10.0000 - FP: 10.0000 - mse: 0.0019 - val_loss: 0.2030 - val_accuracy: 0.9386 - val_precision: 0.9386 - val_recall: 0.9386 - val_rmse: 0.2240 - val_TN: 566.0000 - val_TP: 566.0000 - val_FN: 37.0000 - val_FP: 37.0000 - val_mse: 0.0502\n",
            "Epoch 7/7\n",
            "22/22 [==============================] - 53s 2s/step - loss: 0.0057 - accuracy: 0.9989 - precision: 0.9989 - recall: 0.9989 - rmse: 0.0330 - TN: 5415.0000 - TP: 5415.0000 - FN: 6.0000 - FP: 6.0000 - mse: 0.0011 - val_loss: 0.2039 - val_accuracy: 0.9420 - val_precision: 0.9420 - val_recall: 0.9420 - val_rmse: 0.2224 - val_TN: 568.0000 - val_TP: 568.0000 - val_FN: 35.0000 - val_FP: 35.0000 - val_mse: 0.0495\n"
          ]
        }
      ]
    },
    {
      "cell_type": "code",
      "metadata": {
        "colab": {
          "base_uri": "https://localhost:8080/"
        },
        "id": "S0-5BHSGdoV6",
        "outputId": "7f69762b-aa64-4084-992b-fa20c969edd3"
      },
      "source": [
        "accr = model.evaluate(X_test,Y_test)\n",
        "print('Test set\\nLoss: {:0.3f}'.format(accr[0]))\n",
        "print('accuracy: {:0.3f}'.format(accr[1]))\n",
        "print('precision: {:0.3f}'.format(accr[2]))\n",
        "print('recall: {:0.3f}'.format(accr[3]))\n",
        "print('rmse: {:0.3f}'.format(accr[4]))\n",
        "print('TN: {:0.3f}'.format(accr[5]))\n",
        "print('TP: {:0.3f}'.format(accr[6]))\n",
        "print('FN: {:0.3f}'.format(accr[7]))\n",
        "print('FP: {:0.3f}'.format(accr[8]))\n",
        "print('mse: {:0.3f}'.format(accr[9]))\n",
        "#print('Test set\\n  Loss: {:0.3f}\\n  Accuracy: {:0.3f}\\n  precision: {:0.3f}\\n  recall: {:0.3f}'.format(accr[0],accr[1]))"
      ],
      "execution_count": 10,
      "outputs": [
        {
          "output_type": "stream",
          "name": "stdout",
          "text": [
            "63/63 [==============================] - 5s 83ms/step - loss: 0.2711 - accuracy: 0.9293 - precision: 0.9293 - recall: 0.9293 - rmse: 0.2440 - TN: 1867.0000 - TP: 1867.0000 - FN: 142.0000 - FP: 142.0000 - mse: 0.0595\n",
            "Test set\n",
            "Loss: 0.271\n",
            "accuracy: 0.929\n",
            "precision: 0.929\n",
            "recall: 0.929\n",
            "rmse: 0.244\n",
            "TN: 1867.000\n",
            "TP: 1867.000\n",
            "FN: 142.000\n",
            "FP: 142.000\n",
            "mse: 0.060\n"
          ]
        }
      ]
    },
    {
      "cell_type": "code",
      "metadata": {
        "colab": {
          "base_uri": "https://localhost:8080/",
          "height": 281
        },
        "id": "Nic31PeQdtRx",
        "outputId": "c88148ea-245e-4f5c-d991-fe7285d779ee"
      },
      "source": [
        "import matplotlib.pyplot as plt\n",
        "plt.title('Loss')\n",
        "plt.plot(history.history['loss'], label='train')\n",
        "plt.plot(history.history['val_loss'], label='test')\n",
        "plt.legend()\n",
        "plt.show();"
      ],
      "execution_count": 11,
      "outputs": [
        {
          "output_type": "display_data",
          "data": {
            "image/png": "[encoded data removed]",
            "text/plain": [
              "<Figure size 432x288 with 1 Axes>"
            ]
          },
          "metadata": {
            "needs_background": "light"
          }
        }
      ]
    },
    {
      "cell_type": "code",
      "metadata": {
        "colab": {
          "base_uri": "https://localhost:8080/",
          "height": 281
        },
        "id": "T_qsyYumdtxc",
        "outputId": "53631a68-1754-400c-bb14-abf01141b9c4"
      },
      "source": [
        "plt.title('Accuracy')\n",
        "plt.plot(history.history['accuracy'], label='train')\n",
        "plt.plot(history.history['val_accuracy'], label='test')\n",
        "plt.legend()\n",
        "plt.show();"
      ],
      "execution_count": 12,
      "outputs": [
        {
          "output_type": "display_data",
          "data": {
            "image/png": "[encoded data removed]",
            "text/plain": [
              "<Figure size 432x288 with 1 Axes>"
            ]
          },
          "metadata": {
            "needs_background": "light"
          }
        }
      ]
    },
    {
      "cell_type": "code",
      "metadata": {
        "colab": {
          "base_uri": "https://localhost:8080/",
          "height": 281
        },
        "id": "r7_Ya2vdbFL4",
        "outputId": "f23436a8-5895-4e1c-9f65-e641e4f97113"
      },
      "source": [
        "plt.title('Precision')\n",
        "plt.plot(history.history['precision'], label='train')\n",
        "plt.plot(history.history['val_precision'], label='test')\n",
        "plt.legend()\n",
        "plt.show();"
      ],
      "execution_count": 13,
      "outputs": [
        {
          "output_type": "display_data",
          "data": {
            "image/png": "[encoded data removed]",
            "text/plain": [
              "<Figure size 432x288 with 1 Axes>"
            ]
          },
          "metadata": {
            "needs_background": "light"
          }
        }
      ]
    },
    {
      "cell_type": "code",
      "metadata": {
        "colab": {
          "base_uri": "https://localhost:8080/",
          "height": 281
        },
        "id": "4-jB6WVmbFED",
        "outputId": "881c753d-dad3-4607-9dda-05f679aa06fd"
      },
      "source": [
        "plt.title('Recall')\n",
        "plt.plot(history.history['recall'], label='train')\n",
        "plt.plot(history.history['val_recall'], label='test')\n",
        "plt.legend()\n",
        "plt.show();"
      ],
      "execution_count": 14,
      "outputs": [
        {
          "output_type": "display_data",
          "data": {
            "image/png": "[encoded data removed]",
            "text/plain": [
              "<Figure size 432x288 with 1 Axes>"
            ]
          },
          "metadata": {
            "needs_background": "light"
          }
        }
      ]
    },
    {
      "cell_type": "code",
      "metadata": {
        "colab": {
          "base_uri": "https://localhost:8080/",
          "height": 281
        },
        "id": "t9_SHeSXbE7_",
        "outputId": "9c4cbaa0-8347-47fb-fbbd-091c4da0867d"
      },
      "source": [
        "plt.title('RMSE')\n",
        "plt.plot(history.history['rmse'], label='train')\n",
        "plt.plot(history.history['val_rmse'], label='test')\n",
        "plt.legend()\n",
        "plt.show();"
      ],
      "execution_count": 15,
      "outputs": [
        {
          "output_type": "display_data",
          "data": {
            "image/png": "[encoded data removed]",
            "text/plain": [
              "<Figure size 432x288 with 1 Axes>"
            ]
          },
          "metadata": {
            "needs_background": "light"
          }
        }
      ]
    },
    {
      "cell_type": "code",
      "metadata": {
        "colab": {
          "base_uri": "https://localhost:8080/",
          "height": 281
        },
        "id": "lw7JQJ7CbEzT",
        "outputId": "20342ba4-4d8b-4c37-8dd8-4f42f75b946c"
      },
      "source": [
        "plt.title('TN')\n",
        "plt.plot(history.history['TN'], label='train')\n",
        "plt.plot(history.history['val_TN'], label='test')\n",
        "plt.legend()\n",
        "plt.show();"
      ],
      "execution_count": 16,
      "outputs": [
        {
          "output_type": "display_data",
          "data": {
            "image/png": "[encoded data removed]",
            "text/plain": [
              "<Figure size 432x288 with 1 Axes>"
            ]
          },
          "metadata": {
            "needs_background": "light"
          }
        }
      ]
    },
    {
      "cell_type": "code",
      "metadata": {
        "colab": {
          "base_uri": "https://localhost:8080/",
          "height": 281
        },
        "id": "TPMU7YGTbErO",
        "outputId": "8296b1f6-97d2-44fa-c988-87802bd6dd3b"
      },
      "source": [
        "plt.title('TP')\n",
        "plt.plot(history.history['TP'], label='train')\n",
        "plt.plot(history.history['val_TP'], label='test')\n",
        "plt.legend()\n",
        "plt.show();"
      ],
      "execution_count": 17,
      "outputs": [
        {
          "output_type": "display_data",
          "data": {
            "image/png": "[encoded data removed]",
            "text/plain": [
              "<Figure size 432x288 with 1 Axes>"
            ]
          },
          "metadata": {
            "needs_background": "light"
          }
        }
      ]
    },
    {
      "cell_type": "code",
      "metadata": {
        "colab": {
          "base_uri": "https://localhost:8080/",
          "height": 281
        },
        "id": "qtFznBMybEjB",
        "outputId": "e6c2d813-34fb-4379-e6d7-0b0db2cd8643"
      },
      "source": [
        "plt.title('FN')\n",
        "plt.plot(history.history['FN'], label='train')\n",
        "plt.plot(history.history['val_FN'], label='test')\n",
        "plt.legend()\n",
        "plt.show();"
      ],
      "execution_count": 18,
      "outputs": [
        {
          "output_type": "display_data",
          "data": {
            "image/png": "[encoded data removed]",
            "text/plain": [
              "<Figure size 432x288 with 1 Axes>"
            ]
          },
          "metadata": {
            "needs_background": "light"
          }
        }
      ]
    },
    {
      "cell_type": "code",
      "metadata": {
        "colab": {
          "base_uri": "https://localhost:8080/",
          "height": 281
        },
        "id": "nWRCjZH9bEbN",
        "outputId": "e19d61a5-4436-4d4a-ef3e-d3de452ff662"
      },
      "source": [
        "plt.title('FP')\n",
        "plt.plot(history.history['FP'], label='train')\n",
        "plt.plot(history.history['val_FP'], label='test')\n",
        "plt.legend()\n",
        "plt.show();"
      ],
      "execution_count": 19,
      "outputs": [
        {
          "output_type": "display_data",
          "data": {
            "image/png": "[encoded data removed]",
            "text/plain": [
              "<Figure size 432x288 with 1 Axes>"
            ]
          },
          "metadata": {
            "needs_background": "light"
          }
        }
      ]
    },
    {
      "cell_type": "code",
      "metadata": {
        "colab": {
          "base_uri": "https://localhost:8080/",
          "height": 281
        },
        "id": "RpnIwnJRbESa",
        "outputId": "c5d3007a-517f-4eb7-a623-dd359eb8fb4b"
      },
      "source": [
        "plt.title('MSE')\n",
        "plt.plot(history.history['mse'], label='train')\n",
        "plt.plot(history.history['val_mse'], label='test')\n",
        "plt.legend()\n",
        "plt.show();"
      ],
      "execution_count": 20,
      "outputs": [
        {
          "output_type": "display_data",
          "data": {
            "image/png": "[encoded data removed]",
            "text/plain": [
              "<Figure size 432x288 with 1 Axes>"
            ]
          },
          "metadata": {
            "needs_background": "light"
          }
        }
      ]
    },
    {
      "cell_type": "code",
      "metadata": {
        "colab": {
          "base_uri": "https://localhost:8080/"
        },
        "id": "KtlmKafgdvnW",
        "outputId": "5badbfb6-be29-4ab9-d523-4e9e92658b08"
      },
      "source": [
        "val = validate[['cleanedText','result']].dropna()\n",
        "X1 = tokenizer.texts_to_sequences(val['cleanedText'].values)\n",
        "X1 = pad_sequences(X1, maxlen=MAX_SEQUENCE_LENGTH)\n",
        "print('Shape of data tensor:', X1.shape)\n",
        "Y1 = pd.get_dummies(val['result']).values\n",
        "print('Shape of label tensor:', Y1.shape)"
      ],
      "execution_count": 21,
      "outputs": [
        {
          "output_type": "stream",
          "name": "stdout",
          "text": [
            "Shape of data tensor: (498, 250)\n",
            "Shape of label tensor: (498, 2)\n"
          ]
        }
      ]
    },
    {
      "cell_type": "code",
      "metadata": {
        "colab": {
          "base_uri": "https://localhost:8080/"
        },
        "id": "feymi_6njBsZ",
        "outputId": "e1ddb671-33eb-4c07-ab36-b4e64665877d"
      },
      "source": [
        "accr = model.evaluate(X1,Y1)\n",
        "print('Test set\\n  Loss: {:0.3f}\\n  Accuracy: {:0.3f}'.format(accr[0],accr[1]))"
      ],
      "execution_count": 26,
      "outputs": [
        {
          "output_type": "stream",
          "name": "stdout",
          "text": [
            "16/16 [==============================] - 1s 83ms/step - loss: 0.8772 - accuracy: 0.7791 - precision: 0.7791 - recall: 0.7791 - rmse: 0.4314 - TN: 388.0000 - TP: 388.0000 - FN: 110.0000 - FP: 110.0000 - mse: 0.1861\n",
            "Test set\n",
            "  Loss: 0.877\n",
            "  Accuracy: 0.779\n"
          ]
        }
      ]
    },
    {
      "cell_type": "code",
      "metadata": {
        "colab": {
          "base_uri": "https://localhost:8080/"
        },
        "id": "DbYX_LCzwMEY",
        "outputId": "f4f9ad4b-ba4a-4a75-ac6b-0461d3aa9c85"
      },
      "source": [
        "!pip install pyspellchecker"
      ],
      "execution_count": 27,
      "outputs": [
        {
          "output_type": "stream",
          "name": "stdout",
          "text": [
            "Requirement already satisfied: pyspellchecker in /usr/local/lib/python3.7/dist-packages (0.6.2)\n"
          ]
        }
      ]
    },
    {
      "cell_type": "code",
      "metadata": {
        "id": "pNXwEG8ojw0o"
      },
      "source": [
        "import re\n",
        "from spellchecker import SpellChecker\n",
        "REPLACE_BY_SPACE_RE = re.compile('[/(){}\\[\\]\\|@,;]')\n",
        "BAD_SYMBOLS_RE = re.compile('[^0-9a-z #+_]')\n",
        "\n",
        "import spacy\n",
        "#loading the english language small model of spacy\n",
        "en = spacy.load('en_core_web_sm')\n",
        "sw_spacy = en.Defaults.stop_words\n",
        "\n",
        "def clean_text(text):\n",
        "    text = text.lower() # lowercase text\n",
        "    text = REPLACE_BY_SPACE_RE.sub(' ', text) # replace REPLACE_BY_SPACE_RE symbols by space in text. substitute the matched string in REPLACE_BY_SPACE_RE with space.\n",
        "    text = BAD_SYMBOLS_RE.sub('', text) # remove symbols which are in BAD_SYMBOLS_RE from text. substitute the matched string in BAD_SYMBOLS_RE with nothing. \n",
        "    text = text.replace('x', '')\n",
        "    words = [word for word in text.split() if word.lower() not in sw_spacy]\n",
        "    text = \" \".join(words)\n",
        "    return text\n",
        "\n",
        "def fuzzyLogic(text):\n",
        "  spell = SpellChecker()\n",
        "  text = ' '.join([spell.correction(word) for word in text.split()])\n",
        "  return text\n",
        "\n",
        "def isDepressing(text):\n",
        "  text = fuzzyLogic(text)\n",
        "  lst = {'body':[text]}\n",
        "  # Calling DataFrame constructor on list  \n",
        "  dframe = pd.DataFrame(lst) \n",
        "  dframe = dframe['body'].apply(clean_text)\n",
        "  dframe = dframe.str.replace('\\d+', '')\n",
        "  X1 = tokenizer.texts_to_sequences(dframe.values)\n",
        "  X1 = pad_sequences(X1, maxlen=MAX_SEQUENCE_LENGTH)\n",
        "  print('Shape of data tensor:', X1.shape)\n",
        "  a = model.predict(X1)\n",
        "  print(a)\n",
        "  if(a[0][0] > a[0][1]):\n",
        "    return 0\n",
        "  return 1"
      ],
      "execution_count": 28,
      "outputs": []
    },
    {
      "cell_type": "code",
      "metadata": {
        "colab": {
          "base_uri": "https://localhost:8080/"
        },
        "id": "XHaSfAuvuGtH",
        "outputId": "1002cdf9-ced5-4273-ef69-de76d83b5849"
      },
      "source": [
        "isDepressing(\"i get depressing thoughts every day. i plan on committing suicide\")"
      ],
      "execution_count": 33,
      "outputs": [
        {
          "output_type": "stream",
          "name": "stdout",
          "text": [
            "Shape of data tensor: (1, 250)\n",
            "[[0.00859727 0.9914027 ]]\n"
          ]
        },
        {
          "output_type": "execute_result",
          "data": {
            "text/plain": [
              "1"
            ]
          },
          "metadata": {},
          "execution_count": 33
        }
      ]
    },
    {
      "cell_type": "code",
      "metadata": {
        "id": "-sEqT_BRCVCc"
      },
      "source": [
        "model.save('FinalModel.h5',save_format='h5')"
      ],
      "execution_count": 35,
      "outputs": []
    },
    {
      "cell_type": "code",
      "metadata": {
        "colab": {
          "base_uri": "https://localhost:8080/"
        },
        "id": "ONz2OaXof1h7",
        "outputId": "5523eb16-1ecf-4b8b-b67f-b7e141c8bb20"
      },
      "source": [
        "!pip install pyyaml h5py  # Required to save models in HDF5 format"
      ],
      "execution_count": 36,
      "outputs": [
        {
          "output_type": "stream",
          "name": "stdout",
          "text": [
            "Requirement already satisfied: pyyaml in /usr/local/lib/python3.7/dist-packages (3.13)\n",
            "Requirement already satisfied: h5py in /usr/local/lib/python3.7/dist-packages (3.1.0)\n",
            "Requirement already satisfied: cached-property in /usr/local/lib/python3.7/dist-packages (from h5py) (1.5.2)\n",
            "Requirement already satisfied: numpy>=1.14.5 in /usr/local/lib/python3.7/dist-packages (from h5py) (1.19.5)\n"
          ]
        }
      ]
    },
    {
      "cell_type": "code",
      "metadata": {
        "colab": {
          "base_uri": "https://localhost:8080/"
        },
        "id": "NCw39gKklwtB",
        "outputId": "d62f67ae-ea6a-4486-db66-cb5f8d0631c6"
      },
      "source": [
        "import os\n",
        "\n",
        "import tensorflow as tf\n",
        "from tensorflow import keras\n",
        "\n",
        "print(tf.version.VERSION)"
      ],
      "execution_count": 37,
      "outputs": [
        {
          "output_type": "stream",
          "name": "stdout",
          "text": [
            "2.6.0\n"
          ]
        }
      ]
    },
    {
      "cell_type": "code",
      "metadata": {
        "colab": {
          "base_uri": "https://localhost:8080/"
        },
        "id": "J7YC4gVQl0XM",
        "outputId": "ebc5b6c0-0f18-4592-cb4d-99db05953c37"
      },
      "source": [
        "model.save('saved_model/my_model') "
      ],
      "execution_count": 38,
      "outputs": [
        {
          "output_type": "stream",
          "name": "stdout",
          "text": [
            "INFO:tensorflow:Assets written to: saved_model/my_model/assets\n"
          ]
        }
      ]
    },
    {
      "cell_type": "code",
      "metadata": {
        "colab": {
          "base_uri": "https://localhost:8080/"
        },
        "id": "l3KNM698mQqN",
        "outputId": "f37e2eef-5eeb-4bfb-d7ed-19d455b5c808"
      },
      "source": [
        "!zip -r /content/file.zip /content/saved_model"
      ],
      "execution_count": 39,
      "outputs": [
        {
          "output_type": "stream",
          "name": "stdout",
          "text": [
            "  adding: content/saved_model/ (stored 0%)\n",
            "  adding: content/saved_model/my_model/ (stored 0%)\n",
            "  adding: content/saved_model/my_model/saved_model.pb (deflated 89%)\n",
            "  adding: content/saved_model/my_model/assets/ (stored 0%)\n",
            "  adding: content/saved_model/my_model/keras_metadata.pb (deflated 87%)\n",
            "  adding: content/saved_model/my_model/variables/ (stored 0%)\n",
            "  adding: content/saved_model/my_model/variables/variables.index (deflated 65%)\n",
            "  adding: content/saved_model/my_model/variables/variables.data-00000-of-00001 (deflated 47%)\n"
          ]
        }
      ]
    },
    {
      "cell_type": "code",
      "metadata": {
        "colab": {
          "base_uri": "https://localhost:8080/",
          "height": 17
        },
        "id": "RwS3VY9FnA9_",
        "outputId": "d7f0f980-e9f6-4331-fb83-5a5c75c3053e"
      },
      "source": [
        "from google.colab import files\n",
        "files.download(\"/content/file.zip\")"
      ],
      "execution_count": 40,
      "outputs": [
        {
          "output_type": "display_data",
          "data": {
            "application/javascript": [
              "\n",
              "    async function download(id, filename, size) {\n",
              "      if (!google.colab.kernel.accessAllowed) {\n",
              "        return;\n",
              "      }\n",
              "      const div = document.createElement('div');\n",
              "      const label = document.createElement('label');\n",
              "      label.textContent = `Downloading \"${filename}\": `;\n",
              "      div.appendChild(label);\n",
              "      const progress = document.createElement('progress');\n",
              "      progress.max = size;\n",
              "      div.appendChild(progress);\n",
              "      document.body.appendChild(div);\n",
              "\n",
              "      const buffers = [];\n",
              "      let downloaded = 0;\n",
              "\n",
              "      const channel = await google.colab.kernel.comms.open(id);\n",
              "      // Send a message to notify the kernel that we're ready.\n",
              "      channel.send({})\n",
              "\n",
              "      for await (const message of channel.messages) {\n",
              "        // Send a message to notify the kernel that we're ready.\n",
              "        channel.send({})\n",
              "        if (message.buffers) {\n",
              "          for (const buffer of message.buffers) {\n",
              "            buffers.push(buffer);\n",
              "            downloaded += buffer.byteLength;\n",
              "            progress.value = downloaded;\n",
              "          }\n",
              "        }\n",
              "      }\n",
              "      const blob = new Blob(buffers, {type: 'application/binary'});\n",
              "      const a = document.createElement('a');\n",
              "      a.href = window.URL.createObjectURL(blob);\n",
              "      a.download = filename;\n",
              "      div.appendChild(a);\n",
              "      a.click();\n",
              "      div.remove();\n",
              "    }\n",
              "  "
            ],
            "text/plain": [
              "<IPython.core.display.Javascript object>"
            ]
          },
          "metadata": {}
        },
        {
          "output_type": "display_data",
          "data": {
            "application/javascript": [
              "download(\"download_0616a662-2df7-4dd3-8c03-7ce6847767ea\", \"file.zip\", 32778561)"
            ],
            "text/plain": [
              "<IPython.core.display.Javascript object>"
            ]
          },
          "metadata": {}
        }
      ]
    },
    {
      "cell_type": "code",
      "metadata": {
        "id": "hKHSNJlMnHD2"
      },
      "source": [
        ""
      ],
      "execution_count": null,
      "outputs": []
    }
  ]
}