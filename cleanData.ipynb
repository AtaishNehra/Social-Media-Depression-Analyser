{
 "cells": [
  {
   "cell_type": "code",
   "execution_count": 21,
   "source": [
    "import pandas as pd\n",
    "import numpy as np"
   ],
   "outputs": [],
   "metadata": {}
  },
  {
   "cell_type": "code",
   "execution_count": 22,
   "source": [
    "d1 = pd.read_csv('sentiment_tweets3.csv')\n",
    "d1.info()"
   ],
   "outputs": [
    {
     "output_type": "stream",
     "name": "stdout",
     "text": [
      "<class 'pandas.core.frame.DataFrame'>\n",
      "RangeIndex: 10314 entries, 0 to 10313\n",
      "Data columns (total 3 columns):\n",
      " #   Column                     Non-Null Count  Dtype \n",
      "---  ------                     --------------  ----- \n",
      " 0   Index                      10314 non-null  int64 \n",
      " 1   message to examine         10314 non-null  object\n",
      " 2   label (depression result)  10314 non-null  int64 \n",
      "dtypes: int64(2), object(1)\n",
      "memory usage: 241.9+ KB\n"
     ]
    }
   ],
   "metadata": {}
  },
  {
   "cell_type": "code",
   "execution_count": 23,
   "source": [
    "d1 = d1.rename(columns={'message to examine':'body','label (depression result)':'Depressed'})"
   ],
   "outputs": [],
   "metadata": {}
  },
  {
   "cell_type": "code",
   "execution_count": 24,
   "source": [
    "d2 = pd.read_csv('Data.csv')\n",
    "d2.info()"
   ],
   "outputs": [
    {
     "output_type": "stream",
     "name": "stdout",
     "text": [
      "<class 'pandas.core.frame.DataFrame'>\n",
      "RangeIndex: 1912 entries, 0 to 1911\n",
      "Data columns (total 9 columns):\n",
      " #   Column        Non-Null Count  Dtype  \n",
      "---  ------        --------------  -----  \n",
      " 0   title         1912 non-null   object \n",
      " 1   score         1912 non-null   int64  \n",
      " 2   id            1912 non-null   object \n",
      " 3   subreddit     1912 non-null   object \n",
      " 4   url           1912 non-null   object \n",
      " 5   num_comments  1912 non-null   int64  \n",
      " 6   body          1912 non-null   object \n",
      " 7   created       1912 non-null   float64\n",
      " 8   Depressed     1912 non-null   int64  \n",
      "dtypes: float64(1), int64(3), object(5)\n",
      "memory usage: 134.6+ KB\n"
     ]
    }
   ],
   "metadata": {}
  },
  {
   "cell_type": "code",
   "execution_count": 25,
   "source": [
    "d2 = d2.rename(columns={'label (depression result)':'Depressed', 'message to examine': 'body'})"
   ],
   "outputs": [],
   "metadata": {}
  },
  {
   "cell_type": "code",
   "execution_count": 26,
   "source": [
    "d2"
   ],
   "outputs": [
    {
     "output_type": "execute_result",
     "data": {
      "text/plain": [
       "                                                  title  score      id  \\\n",
       "0     Our most-broken and least-understood rules is ...   2323  doqwow   \n",
       "1     Regular Check-In Post, with important reminder...    672  m246c4   \n",
       "2            Work is a perfect reason to commit suicide    628  oyqbtv   \n",
       "3                          anyone else at their lowest?     63  oyxdxb   \n",
       "4                                        Im burned out.     22  oz056o   \n",
       "...                                                 ...    ...     ...   \n",
       "1907     What's something you do when noone is looking?      3  oz04n9   \n",
       "1908  If you had to eat one type of canned food for ...      6  oyxjy0   \n",
       "1909  People of Reddit, what do you think of virtue ...      4  oyypzt   \n",
       "1910                 Who or what do you trust the most?      6  oyuxy4   \n",
       "1911  How often do you find yourself wondering what ...      1  oz03e8   \n",
       "\n",
       "       subreddit                                                url  \\\n",
       "0     depression  https://www.reddit.com/r/depression/comments/d...   \n",
       "1     depression  https://www.reddit.com/r/depression/comments/m...   \n",
       "2     depression  https://www.reddit.com/r/depression/comments/o...   \n",
       "3     depression  https://www.reddit.com/r/depression/comments/o...   \n",
       "4     depression  https://www.reddit.com/r/depression/comments/o...   \n",
       "...          ...                                                ...   \n",
       "1907   AskReddit  https://www.reddit.com/r/AskReddit/comments/oz...   \n",
       "1908   AskReddit  https://www.reddit.com/r/AskReddit/comments/oy...   \n",
       "1909   AskReddit  https://www.reddit.com/r/AskReddit/comments/oy...   \n",
       "1910   AskReddit  https://www.reddit.com/r/AskReddit/comments/oy...   \n",
       "1911   AskReddit  https://www.reddit.com/r/AskReddit/comments/oz...   \n",
       "\n",
       "      num_comments                                               body  \\\n",
       "0              175  We understand that most people who reply immed...   \n",
       "1             2584  Welcome to /r/depression's check-in post - a p...   \n",
       "2              102  It sucks and it will be the majority of your l...   \n",
       "3               20  these past 3 days have been rough. I have new ...   \n",
       "4                4  Im so fucking tired of everything. Had a panic...   \n",
       "...            ...                                                ...   \n",
       "1907            12     What's something you do when noone is looking?   \n",
       "1908            23  If you had to eat one type of canned food for ...   \n",
       "1909            24  People of Reddit, what do you think of virtue ...   \n",
       "1910            24                 Who or what do you trust the most?   \n",
       "1911            12  How often do you find yourself wondering what ...   \n",
       "\n",
       "           created  Depressed  \n",
       "0     1.572361e+09          1  \n",
       "1     1.615400e+09          1  \n",
       "2     1.628193e+09          1  \n",
       "3     1.628216e+09          1  \n",
       "4     1.628227e+09          1  \n",
       "...            ...        ...  \n",
       "1907  1.628227e+09          0  \n",
       "1908  1.628217e+09          0  \n",
       "1909  1.628221e+09          0  \n",
       "1910  1.628207e+09          0  \n",
       "1911  1.628227e+09          0  \n",
       "\n",
       "[1912 rows x 9 columns]"
      ],
      "text/html": [
       "<div>\n",
       "<style scoped>\n",
       "    .dataframe tbody tr th:only-of-type {\n",
       "        vertical-align: middle;\n",
       "    }\n",
       "\n",
       "    .dataframe tbody tr th {\n",
       "        vertical-align: top;\n",
       "    }\n",
       "\n",
       "    .dataframe thead th {\n",
       "        text-align: right;\n",
       "    }\n",
       "</style>\n",
       "<table border=\"1\" class=\"dataframe\">\n",
       "  <thead>\n",
       "    <tr style=\"text-align: right;\">\n",
       "      <th></th>\n",
       "      <th>title</th>\n",
       "      <th>score</th>\n",
       "      <th>id</th>\n",
       "      <th>subreddit</th>\n",
       "      <th>url</th>\n",
       "      <th>num_comments</th>\n",
       "      <th>body</th>\n",
       "      <th>created</th>\n",
       "      <th>Depressed</th>\n",
       "    </tr>\n",
       "  </thead>\n",
       "  <tbody>\n",
       "    <tr>\n",
       "      <th>0</th>\n",
       "      <td>Our most-broken and least-understood rules is ...</td>\n",
       "      <td>2323</td>\n",
       "      <td>doqwow</td>\n",
       "      <td>depression</td>\n",
       "      <td>https://www.reddit.com/r/depression/comments/d...</td>\n",
       "      <td>175</td>\n",
       "      <td>We understand that most people who reply immed...</td>\n",
       "      <td>1.572361e+09</td>\n",
       "      <td>1</td>\n",
       "    </tr>\n",
       "    <tr>\n",
       "      <th>1</th>\n",
       "      <td>Regular Check-In Post, with important reminder...</td>\n",
       "      <td>672</td>\n",
       "      <td>m246c4</td>\n",
       "      <td>depression</td>\n",
       "      <td>https://www.reddit.com/r/depression/comments/m...</td>\n",
       "      <td>2584</td>\n",
       "      <td>Welcome to /r/depression's check-in post - a p...</td>\n",
       "      <td>1.615400e+09</td>\n",
       "      <td>1</td>\n",
       "    </tr>\n",
       "    <tr>\n",
       "      <th>2</th>\n",
       "      <td>Work is a perfect reason to commit suicide</td>\n",
       "      <td>628</td>\n",
       "      <td>oyqbtv</td>\n",
       "      <td>depression</td>\n",
       "      <td>https://www.reddit.com/r/depression/comments/o...</td>\n",
       "      <td>102</td>\n",
       "      <td>It sucks and it will be the majority of your l...</td>\n",
       "      <td>1.628193e+09</td>\n",
       "      <td>1</td>\n",
       "    </tr>\n",
       "    <tr>\n",
       "      <th>3</th>\n",
       "      <td>anyone else at their lowest?</td>\n",
       "      <td>63</td>\n",
       "      <td>oyxdxb</td>\n",
       "      <td>depression</td>\n",
       "      <td>https://www.reddit.com/r/depression/comments/o...</td>\n",
       "      <td>20</td>\n",
       "      <td>these past 3 days have been rough. I have new ...</td>\n",
       "      <td>1.628216e+09</td>\n",
       "      <td>1</td>\n",
       "    </tr>\n",
       "    <tr>\n",
       "      <th>4</th>\n",
       "      <td>Im burned out.</td>\n",
       "      <td>22</td>\n",
       "      <td>oz056o</td>\n",
       "      <td>depression</td>\n",
       "      <td>https://www.reddit.com/r/depression/comments/o...</td>\n",
       "      <td>4</td>\n",
       "      <td>Im so fucking tired of everything. Had a panic...</td>\n",
       "      <td>1.628227e+09</td>\n",
       "      <td>1</td>\n",
       "    </tr>\n",
       "    <tr>\n",
       "      <th>...</th>\n",
       "      <td>...</td>\n",
       "      <td>...</td>\n",
       "      <td>...</td>\n",
       "      <td>...</td>\n",
       "      <td>...</td>\n",
       "      <td>...</td>\n",
       "      <td>...</td>\n",
       "      <td>...</td>\n",
       "      <td>...</td>\n",
       "    </tr>\n",
       "    <tr>\n",
       "      <th>1907</th>\n",
       "      <td>What's something you do when noone is looking?</td>\n",
       "      <td>3</td>\n",
       "      <td>oz04n9</td>\n",
       "      <td>AskReddit</td>\n",
       "      <td>https://www.reddit.com/r/AskReddit/comments/oz...</td>\n",
       "      <td>12</td>\n",
       "      <td>What's something you do when noone is looking?</td>\n",
       "      <td>1.628227e+09</td>\n",
       "      <td>0</td>\n",
       "    </tr>\n",
       "    <tr>\n",
       "      <th>1908</th>\n",
       "      <td>If you had to eat one type of canned food for ...</td>\n",
       "      <td>6</td>\n",
       "      <td>oyxjy0</td>\n",
       "      <td>AskReddit</td>\n",
       "      <td>https://www.reddit.com/r/AskReddit/comments/oy...</td>\n",
       "      <td>23</td>\n",
       "      <td>If you had to eat one type of canned food for ...</td>\n",
       "      <td>1.628217e+09</td>\n",
       "      <td>0</td>\n",
       "    </tr>\n",
       "    <tr>\n",
       "      <th>1909</th>\n",
       "      <td>People of Reddit, what do you think of virtue ...</td>\n",
       "      <td>4</td>\n",
       "      <td>oyypzt</td>\n",
       "      <td>AskReddit</td>\n",
       "      <td>https://www.reddit.com/r/AskReddit/comments/oy...</td>\n",
       "      <td>24</td>\n",
       "      <td>People of Reddit, what do you think of virtue ...</td>\n",
       "      <td>1.628221e+09</td>\n",
       "      <td>0</td>\n",
       "    </tr>\n",
       "    <tr>\n",
       "      <th>1910</th>\n",
       "      <td>Who or what do you trust the most?</td>\n",
       "      <td>6</td>\n",
       "      <td>oyuxy4</td>\n",
       "      <td>AskReddit</td>\n",
       "      <td>https://www.reddit.com/r/AskReddit/comments/oy...</td>\n",
       "      <td>24</td>\n",
       "      <td>Who or what do you trust the most?</td>\n",
       "      <td>1.628207e+09</td>\n",
       "      <td>0</td>\n",
       "    </tr>\n",
       "    <tr>\n",
       "      <th>1911</th>\n",
       "      <td>How often do you find yourself wondering what ...</td>\n",
       "      <td>1</td>\n",
       "      <td>oz03e8</td>\n",
       "      <td>AskReddit</td>\n",
       "      <td>https://www.reddit.com/r/AskReddit/comments/oz...</td>\n",
       "      <td>12</td>\n",
       "      <td>How often do you find yourself wondering what ...</td>\n",
       "      <td>1.628227e+09</td>\n",
       "      <td>0</td>\n",
       "    </tr>\n",
       "  </tbody>\n",
       "</table>\n",
       "<p>1912 rows × 9 columns</p>\n",
       "</div>"
      ]
     },
     "metadata": {},
     "execution_count": 26
    }
   ],
   "metadata": {}
  },
  {
   "cell_type": "code",
   "execution_count": 27,
   "source": [
    "d2.Depressed.value_counts()"
   ],
   "outputs": [
    {
     "output_type": "execute_result",
     "data": {
      "text/plain": [
       "0    996\n",
       "1    916\n",
       "Name: Depressed, dtype: int64"
      ]
     },
     "metadata": {},
     "execution_count": 27
    }
   ],
   "metadata": {}
  },
  {
   "cell_type": "code",
   "execution_count": 28,
   "source": [
    "d1 = d1[['body','Depressed']]\n",
    "d2 = d2[['body','Depressed']]\n",
    "df = pd.concat([d1,d2])"
   ],
   "outputs": [],
   "metadata": {}
  },
  {
   "cell_type": "code",
   "execution_count": 29,
   "source": [
    "df.Depressed.value_counts()"
   ],
   "outputs": [
    {
     "output_type": "execute_result",
     "data": {
      "text/plain": [
       "0    8996\n",
       "1    3230\n",
       "Name: Depressed, dtype: int64"
      ]
     },
     "metadata": {},
     "execution_count": 29
    }
   ],
   "metadata": {}
  },
  {
   "cell_type": "code",
   "execution_count": 30,
   "source": [
    "import spacy\n",
    "#loading the english language small model of spacy\n",
    "en = spacy.load('en_core_web_sm')\n",
    "sw_spacy = en.Defaults.stop_words"
   ],
   "outputs": [],
   "metadata": {}
  },
  {
   "cell_type": "code",
   "execution_count": 31,
   "source": [
    "from spellchecker import SpellChecker\n",
    "from textblob import TextBlob\n",
    "from autocorrect import Speller\n",
    "def fuzzyLogic(text):\n",
    "  #text_textblob = TextBlob(text)\n",
    "  #text = str(text_textblob.correct())\n",
    "  #print(text)\n",
    "  #spell = Speller(lang='en')\n",
    "  #text = str(spell(text))\n",
    "  #print(text)\n",
    "  spell = SpellChecker()\n",
    "  text = ' '.join([spell.correction(word) for word in text.split()])\n",
    "  #print(text)\n",
    "  #parser = GingerIt()\n",
    "  #text = str(parser.parse(text)['result'])\n",
    "  #print(text)\n",
    "  return text"
   ],
   "outputs": [],
   "metadata": {}
  },
  {
   "cell_type": "code",
   "execution_count": 32,
   "source": [
    "fuzzyLogic('kisha they cnt get over u til they get out frm under u just remember ur on top ')"
   ],
   "outputs": [
    {
     "output_type": "execute_result",
     "data": {
      "text/plain": [
       "'aisha they cut get over u til they get out from under u just remember ur on top'"
      ]
     },
     "metadata": {},
     "execution_count": 32
    }
   ],
   "metadata": {}
  },
  {
   "cell_type": "code",
   "execution_count": 33,
   "source": [
    "import re\n",
    "df = df.reset_index(drop=True)\n",
    "REPLACE_BY_SPACE_RE = re.compile('[/(){}\\[\\]\\|@,;]')\n",
    "BAD_SYMBOLS_RE = re.compile('[^0-9a-z #+_]')\n",
    "\n",
    "def clean_text(text):\n",
    "    #print(text)\n",
    "    text = text.lower() # lowercase text\n",
    "    text = REPLACE_BY_SPACE_RE.sub(' ', text) # replace REPLACE_BY_SPACE_RE symbols by space in text. substitute the matched string in REPLACE_BY_SPACE_RE with space.\n",
    "    text = BAD_SYMBOLS_RE.sub('', text) # remove symbols which are in BAD_SYMBOLS_RE from text. substitute the matched string in BAD_SYMBOLS_RE with nothing. \n",
    "    text = text.replace('x', '')\n",
    "#   text = re.sub(r'\\W+', '', text)\n",
    "    words = [word for word in text.split() if word.lower() not in sw_spacy]\n",
    "    text = \" \".join(words)\n",
    "    return text\n",
    "\n",
    "df['body'] = df['body'].apply(fuzzyLogic)\n",
    "df['body'] = df['body'].apply(clean_text)\n",
    "df['body'] = df['body'].str.replace('\\d+', '')"
   ],
   "outputs": [
    {
     "output_type": "stream",
     "name": "stderr",
     "text": [
      "/var/folders/5d/7kyh57w16sx0z4b2sprf9ln00000gn/T/ipykernel_71448/2347491911.py:19: FutureWarning: The default value of regex will change from True to False in a future version.\n",
      "  df['body'] = df['body'].str.replace('\\d+', '')\n"
     ]
    }
   ],
   "metadata": {}
  },
  {
   "cell_type": "code",
   "execution_count": 34,
   "source": [
    "df"
   ],
   "outputs": [
    {
     "output_type": "execute_result",
     "data": {
      "text/plain": [
       "                                                    body  Depressed\n",
       "0                          real good moment missssssssss          0\n",
       "1                     reading manga http plurkcom p mzpe          0\n",
       "2      comeagainjen http twitpiccom yl http wwwyoutub...          0\n",
       "3      lapcat need send em accountant tomorrow oddly ...          0\n",
       "4                     add myspace myspacecom lookthunder          0\n",
       "...                                                  ...        ...\n",
       "12221                                      whats looking          0\n",
       "12222            eat type canned food rest life choosing          0\n",
       "12223  people reddit think virtue signalling fau outr...          0\n",
       "12224                                              trust          0\n",
       "12225                                     find wondering          0\n",
       "\n",
       "[12226 rows x 2 columns]"
      ],
      "text/html": [
       "<div>\n",
       "<style scoped>\n",
       "    .dataframe tbody tr th:only-of-type {\n",
       "        vertical-align: middle;\n",
       "    }\n",
       "\n",
       "    .dataframe tbody tr th {\n",
       "        vertical-align: top;\n",
       "    }\n",
       "\n",
       "    .dataframe thead th {\n",
       "        text-align: right;\n",
       "    }\n",
       "</style>\n",
       "<table border=\"1\" class=\"dataframe\">\n",
       "  <thead>\n",
       "    <tr style=\"text-align: right;\">\n",
       "      <th></th>\n",
       "      <th>body</th>\n",
       "      <th>Depressed</th>\n",
       "    </tr>\n",
       "  </thead>\n",
       "  <tbody>\n",
       "    <tr>\n",
       "      <th>0</th>\n",
       "      <td>real good moment missssssssss</td>\n",
       "      <td>0</td>\n",
       "    </tr>\n",
       "    <tr>\n",
       "      <th>1</th>\n",
       "      <td>reading manga http plurkcom p mzpe</td>\n",
       "      <td>0</td>\n",
       "    </tr>\n",
       "    <tr>\n",
       "      <th>2</th>\n",
       "      <td>comeagainjen http twitpiccom yl http wwwyoutub...</td>\n",
       "      <td>0</td>\n",
       "    </tr>\n",
       "    <tr>\n",
       "      <th>3</th>\n",
       "      <td>lapcat need send em accountant tomorrow oddly ...</td>\n",
       "      <td>0</td>\n",
       "    </tr>\n",
       "    <tr>\n",
       "      <th>4</th>\n",
       "      <td>add myspace myspacecom lookthunder</td>\n",
       "      <td>0</td>\n",
       "    </tr>\n",
       "    <tr>\n",
       "      <th>...</th>\n",
       "      <td>...</td>\n",
       "      <td>...</td>\n",
       "    </tr>\n",
       "    <tr>\n",
       "      <th>12221</th>\n",
       "      <td>whats looking</td>\n",
       "      <td>0</td>\n",
       "    </tr>\n",
       "    <tr>\n",
       "      <th>12222</th>\n",
       "      <td>eat type canned food rest life choosing</td>\n",
       "      <td>0</td>\n",
       "    </tr>\n",
       "    <tr>\n",
       "      <th>12223</th>\n",
       "      <td>people reddit think virtue signalling fau outr...</td>\n",
       "      <td>0</td>\n",
       "    </tr>\n",
       "    <tr>\n",
       "      <th>12224</th>\n",
       "      <td>trust</td>\n",
       "      <td>0</td>\n",
       "    </tr>\n",
       "    <tr>\n",
       "      <th>12225</th>\n",
       "      <td>find wondering</td>\n",
       "      <td>0</td>\n",
       "    </tr>\n",
       "  </tbody>\n",
       "</table>\n",
       "<p>12226 rows × 2 columns</p>\n",
       "</div>"
      ]
     },
     "metadata": {},
     "execution_count": 34
    }
   ],
   "metadata": {}
  },
  {
   "cell_type": "code",
   "execution_count": 35,
   "source": [
    "df.to_csv(r'CleanedData.csv', index = False)"
   ],
   "outputs": [],
   "metadata": {}
  },
  {
   "cell_type": "code",
   "execution_count": null,
   "source": [],
   "outputs": [],
   "metadata": {}
  }
 ],
 "metadata": {
  "orig_nbformat": 4,
  "language_info": {
   "name": "python",
   "version": "3.8.10",
   "mimetype": "text/x-python",
   "codemirror_mode": {
    "name": "ipython",
    "version": 3
   },
   "pygments_lexer": "ipython3",
   "nbconvert_exporter": "python",
   "file_extension": ".py"
  },
  "kernelspec": {
   "name": "python3",
   "display_name": "Python 3.8.10 64-bit (conda)"
  },
  "interpreter": {
   "hash": "1d930962cd8b702cd91e98617e156209e8b6dab782283528c147ea0c3e731393"
  }
 },
 "nbformat": 4,
 "nbformat_minor": 2
}