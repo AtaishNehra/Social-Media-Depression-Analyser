{
  "nbformat": 4,
  "nbformat_minor": 0,
  "metadata": {
    "colab": {
      "name": "LSTMModel_validate_individual_2.ipynb",
      "provenance": [],
      "collapsed_sections": []
    },
    "interpreter": {
      "hash": "5e938e6e61cb2d5d3033cc0c71d41dc6fd28faf315418f036f9604a8d584e905"
    },
    "kernelspec": {
      "display_name": "Python 3 (ipykernel)",
      "language": "python",
      "name": "python3"
    },
    "language_info": {
      "codemirror_mode": {
        "name": "ipython",
        "version": 3
      },
      "file_extension": ".py",
      "mimetype": "text/x-python",
      "name": "python",
      "nbconvert_exporter": "python",
      "pygments_lexer": "ipython3",
      "version": "3.8.10"
    }
  },
  "cells": [
    {
      "cell_type": "code",
      "metadata": {
        "id": "mM87QjXjj18L"
      },
      "source": [
        "# https://towardsdatascience.com/multi-class-text-classification-with-lstm-1590bee1bd17"
      ],
      "execution_count": 1,
      "outputs": []
    },
    {
      "cell_type": "code",
      "metadata": {
        "id": "bsq2ldIKoLFD"
      },
      "source": [
        "import pandas as pd\n",
        "import numpy as np"
      ],
      "execution_count": 2,
      "outputs": []
    },
    {
      "cell_type": "code",
      "metadata": {
        "id": "IM5wWw8Z09kv",
        "colab": {
          "base_uri": "https://localhost:8080/"
        },
        "outputId": "a8540050-b7f5-41e1-e584-c932bb39f0a1"
      },
      "source": [
        "d1 = pd.read_csv('sentiment_tweets3.csv')\n",
        "d1.info()"
      ],
      "execution_count": 3,
      "outputs": [
        {
          "output_type": "stream",
          "text": [
            "<class 'pandas.core.frame.DataFrame'>\n",
            "RangeIndex: 10314 entries, 0 to 10313\n",
            "Data columns (total 3 columns):\n",
            " #   Column                     Non-Null Count  Dtype \n",
            "---  ------                     --------------  ----- \n",
            " 0   Index                      10314 non-null  int64 \n",
            " 1   message to examine         10314 non-null  object\n",
            " 2   label (depression result)  10314 non-null  int64 \n",
            "dtypes: int64(2), object(1)\n",
            "memory usage: 241.9+ KB\n"
          ],
          "name": "stdout"
        }
      ]
    },
    {
      "cell_type": "code",
      "metadata": {
        "id": "300HUlWTOVWD"
      },
      "source": [
        "d1 = d1.rename(columns={'message to examine':'body','label (depression result)':'Depressed'})"
      ],
      "execution_count": 4,
      "outputs": []
    },
    {
      "cell_type": "code",
      "metadata": {
        "colab": {
          "base_uri": "https://localhost:8080/"
        },
        "id": "ms0WiH8OOo_y",
        "outputId": "52095097-9287-4519-c97f-40d6639ebbd4"
      },
      "source": [
        "d1.Depressed.value_counts()"
      ],
      "execution_count": 5,
      "outputs": [
        {
          "output_type": "execute_result",
          "data": {
            "text/plain": [
              "0    8000\n",
              "1    2314\n",
              "Name: Depressed, dtype: int64"
            ]
          },
          "metadata": {},
          "execution_count": 5
        }
      ]
    },
    {
      "cell_type": "code",
      "metadata": {
        "colab": {
          "base_uri": "https://localhost:8080/"
        },
        "id": "GPcrwk-FjQ_Y",
        "outputId": "65c9c747-6c1d-4c1e-f8a9-1099c936d546"
      },
      "source": [
        "d2 = pd.read_csv('Data.csv')\n",
        "d2.info()"
      ],
      "execution_count": 6,
      "outputs": [
        {
          "output_type": "stream",
          "text": [
            "<class 'pandas.core.frame.DataFrame'>\n",
            "RangeIndex: 1912 entries, 0 to 1911\n",
            "Data columns (total 9 columns):\n",
            " #   Column        Non-Null Count  Dtype  \n",
            "---  ------        --------------  -----  \n",
            " 0   title         1912 non-null   object \n",
            " 1   score         1912 non-null   int64  \n",
            " 2   id            1912 non-null   object \n",
            " 3   subreddit     1912 non-null   object \n",
            " 4   url           1912 non-null   object \n",
            " 5   num_comments  1912 non-null   int64  \n",
            " 6   body          1912 non-null   object \n",
            " 7   created       1912 non-null   float64\n",
            " 8   Depressed     1912 non-null   int64  \n",
            "dtypes: float64(1), int64(3), object(5)\n",
            "memory usage: 134.6+ KB\n"
          ],
          "name": "stdout"
        }
      ]
    },
    {
      "cell_type": "code",
      "metadata": {
        "id": "x7c7QoRJztu3"
      },
      "source": [
        "d2 = d2.rename(columns={'label (depression result)':'Depressed', 'message to examine': 'body'})"
      ],
      "execution_count": 7,
      "outputs": []
    },
    {
      "cell_type": "code",
      "metadata": {
        "colab": {
          "base_uri": "https://localhost:8080/",
          "height": 1000
        },
        "id": "kou2kL9MztpE",
        "outputId": "0e201345-331e-482b-aa07-8f4a7706758b"
      },
      "source": [
        "d2"
      ],
      "execution_count": 8,
      "outputs": [
        {
          "output_type": "execute_result",
          "data": {
            "text/html": [
              "<div>\n",
              "<style scoped>\n",
              "    .dataframe tbody tr th:only-of-type {\n",
              "        vertical-align: middle;\n",
              "    }\n",
              "\n",
              "    .dataframe tbody tr th {\n",
              "        vertical-align: top;\n",
              "    }\n",
              "\n",
              "    .dataframe thead th {\n",
              "        text-align: right;\n",
              "    }\n",
              "</style>\n",
              "<table border=\"1\" class=\"dataframe\">\n",
              "  <thead>\n",
              "    <tr style=\"text-align: right;\">\n",
              "      <th></th>\n",
              "      <th>title</th>\n",
              "      <th>score</th>\n",
              "      <th>id</th>\n",
              "      <th>subreddit</th>\n",
              "      <th>url</th>\n",
              "      <th>num_comments</th>\n",
              "      <th>body</th>\n",
              "      <th>created</th>\n",
              "      <th>Depressed</th>\n",
              "    </tr>\n",
              "  </thead>\n",
              "  <tbody>\n",
              "    <tr>\n",
              "      <th>0</th>\n",
              "      <td>Our most-broken and least-understood rules is ...</td>\n",
              "      <td>2323</td>\n",
              "      <td>doqwow</td>\n",
              "      <td>depression</td>\n",
              "      <td>https://www.reddit.com/r/depression/comments/d...</td>\n",
              "      <td>175</td>\n",
              "      <td>We understand that most people who reply immed...</td>\n",
              "      <td>1.572361e+09</td>\n",
              "      <td>1</td>\n",
              "    </tr>\n",
              "    <tr>\n",
              "      <th>1</th>\n",
              "      <td>Regular Check-In Post, with important reminder...</td>\n",
              "      <td>672</td>\n",
              "      <td>m246c4</td>\n",
              "      <td>depression</td>\n",
              "      <td>https://www.reddit.com/r/depression/comments/m...</td>\n",
              "      <td>2584</td>\n",
              "      <td>Welcome to /r/depression's check-in post - a p...</td>\n",
              "      <td>1.615400e+09</td>\n",
              "      <td>1</td>\n",
              "    </tr>\n",
              "    <tr>\n",
              "      <th>2</th>\n",
              "      <td>Work is a perfect reason to commit suicide</td>\n",
              "      <td>628</td>\n",
              "      <td>oyqbtv</td>\n",
              "      <td>depression</td>\n",
              "      <td>https://www.reddit.com/r/depression/comments/o...</td>\n",
              "      <td>102</td>\n",
              "      <td>It sucks and it will be the majority of your l...</td>\n",
              "      <td>1.628193e+09</td>\n",
              "      <td>1</td>\n",
              "    </tr>\n",
              "    <tr>\n",
              "      <th>3</th>\n",
              "      <td>anyone else at their lowest?</td>\n",
              "      <td>63</td>\n",
              "      <td>oyxdxb</td>\n",
              "      <td>depression</td>\n",
              "      <td>https://www.reddit.com/r/depression/comments/o...</td>\n",
              "      <td>20</td>\n",
              "      <td>these past 3 days have been rough. I have new ...</td>\n",
              "      <td>1.628216e+09</td>\n",
              "      <td>1</td>\n",
              "    </tr>\n",
              "    <tr>\n",
              "      <th>4</th>\n",
              "      <td>Im burned out.</td>\n",
              "      <td>22</td>\n",
              "      <td>oz056o</td>\n",
              "      <td>depression</td>\n",
              "      <td>https://www.reddit.com/r/depression/comments/o...</td>\n",
              "      <td>4</td>\n",
              "      <td>Im so fucking tired of everything. Had a panic...</td>\n",
              "      <td>1.628227e+09</td>\n",
              "      <td>1</td>\n",
              "    </tr>\n",
              "    <tr>\n",
              "      <th>...</th>\n",
              "      <td>...</td>\n",
              "      <td>...</td>\n",
              "      <td>...</td>\n",
              "      <td>...</td>\n",
              "      <td>...</td>\n",
              "      <td>...</td>\n",
              "      <td>...</td>\n",
              "      <td>...</td>\n",
              "      <td>...</td>\n",
              "    </tr>\n",
              "    <tr>\n",
              "      <th>1907</th>\n",
              "      <td>What's something you do when noone is looking?</td>\n",
              "      <td>3</td>\n",
              "      <td>oz04n9</td>\n",
              "      <td>AskReddit</td>\n",
              "      <td>https://www.reddit.com/r/AskReddit/comments/oz...</td>\n",
              "      <td>12</td>\n",
              "      <td>What's something you do when noone is looking?</td>\n",
              "      <td>1.628227e+09</td>\n",
              "      <td>0</td>\n",
              "    </tr>\n",
              "    <tr>\n",
              "      <th>1908</th>\n",
              "      <td>If you had to eat one type of canned food for ...</td>\n",
              "      <td>6</td>\n",
              "      <td>oyxjy0</td>\n",
              "      <td>AskReddit</td>\n",
              "      <td>https://www.reddit.com/r/AskReddit/comments/oy...</td>\n",
              "      <td>23</td>\n",
              "      <td>If you had to eat one type of canned food for ...</td>\n",
              "      <td>1.628217e+09</td>\n",
              "      <td>0</td>\n",
              "    </tr>\n",
              "    <tr>\n",
              "      <th>1909</th>\n",
              "      <td>People of Reddit, what do you think of virtue ...</td>\n",
              "      <td>4</td>\n",
              "      <td>oyypzt</td>\n",
              "      <td>AskReddit</td>\n",
              "      <td>https://www.reddit.com/r/AskReddit/comments/oy...</td>\n",
              "      <td>24</td>\n",
              "      <td>People of Reddit, what do you think of virtue ...</td>\n",
              "      <td>1.628221e+09</td>\n",
              "      <td>0</td>\n",
              "    </tr>\n",
              "    <tr>\n",
              "      <th>1910</th>\n",
              "      <td>Who or what do you trust the most?</td>\n",
              "      <td>6</td>\n",
              "      <td>oyuxy4</td>\n",
              "      <td>AskReddit</td>\n",
              "      <td>https://www.reddit.com/r/AskReddit/comments/oy...</td>\n",
              "      <td>24</td>\n",
              "      <td>Who or what do you trust the most?</td>\n",
              "      <td>1.628207e+09</td>\n",
              "      <td>0</td>\n",
              "    </tr>\n",
              "    <tr>\n",
              "      <th>1911</th>\n",
              "      <td>How often do you find yourself wondering what ...</td>\n",
              "      <td>1</td>\n",
              "      <td>oz03e8</td>\n",
              "      <td>AskReddit</td>\n",
              "      <td>https://www.reddit.com/r/AskReddit/comments/oz...</td>\n",
              "      <td>12</td>\n",
              "      <td>How often do you find yourself wondering what ...</td>\n",
              "      <td>1.628227e+09</td>\n",
              "      <td>0</td>\n",
              "    </tr>\n",
              "  </tbody>\n",
              "</table>\n",
              "<p>1912 rows × 9 columns</p>\n",
              "</div>"
            ],
            "text/plain": [
              "                                                  title  ...  Depressed\n",
              "0     Our most-broken and least-understood rules is ...  ...          1\n",
              "1     Regular Check-In Post, with important reminder...  ...          1\n",
              "2            Work is a perfect reason to commit suicide  ...          1\n",
              "3                          anyone else at their lowest?  ...          1\n",
              "4                                        Im burned out.  ...          1\n",
              "...                                                 ...  ...        ...\n",
              "1907     What's something you do when noone is looking?  ...          0\n",
              "1908  If you had to eat one type of canned food for ...  ...          0\n",
              "1909  People of Reddit, what do you think of virtue ...  ...          0\n",
              "1910                 Who or what do you trust the most?  ...          0\n",
              "1911  How often do you find yourself wondering what ...  ...          0\n",
              "\n",
              "[1912 rows x 9 columns]"
            ]
          },
          "metadata": {},
          "execution_count": 8
        }
      ]
    },
    {
      "cell_type": "code",
      "metadata": {
        "colab": {
          "base_uri": "https://localhost:8080/"
        },
        "id": "AFloFe-Jkb4Q",
        "outputId": "7691132f-fdfd-4692-ec55-be9613eb630d"
      },
      "source": [
        "d2.Depressed.value_counts()"
      ],
      "execution_count": 9,
      "outputs": [
        {
          "output_type": "execute_result",
          "data": {
            "text/plain": [
              "0    996\n",
              "1    916\n",
              "Name: Depressed, dtype: int64"
            ]
          },
          "metadata": {},
          "execution_count": 9
        }
      ]
    },
    {
      "cell_type": "code",
      "metadata": {
        "id": "Wg2PuXYI3Kes",
        "colab": {
          "base_uri": "https://localhost:8080/",
          "height": 419
        },
        "outputId": "029386f2-beac-408c-c44a-57dc529ac355"
      },
      "source": [
        "d1 = d1[['body','Depressed']]\n",
        "d2 = d2[['body','Depressed']]\n",
        "df = pd.concat([d1,d2])\n",
        "df"
      ],
      "execution_count": 10,
      "outputs": [
        {
          "output_type": "execute_result",
          "data": {
            "text/html": [
              "<div>\n",
              "<style scoped>\n",
              "    .dataframe tbody tr th:only-of-type {\n",
              "        vertical-align: middle;\n",
              "    }\n",
              "\n",
              "    .dataframe tbody tr th {\n",
              "        vertical-align: top;\n",
              "    }\n",
              "\n",
              "    .dataframe thead th {\n",
              "        text-align: right;\n",
              "    }\n",
              "</style>\n",
              "<table border=\"1\" class=\"dataframe\">\n",
              "  <thead>\n",
              "    <tr style=\"text-align: right;\">\n",
              "      <th></th>\n",
              "      <th>body</th>\n",
              "      <th>Depressed</th>\n",
              "    </tr>\n",
              "  </thead>\n",
              "  <tbody>\n",
              "    <tr>\n",
              "      <th>0</th>\n",
              "      <td>just had a real good moment. i missssssssss hi...</td>\n",
              "      <td>0</td>\n",
              "    </tr>\n",
              "    <tr>\n",
              "      <th>1</th>\n",
              "      <td>is reading manga  http://plurk.com/p/mzp1e</td>\n",
              "      <td>0</td>\n",
              "    </tr>\n",
              "    <tr>\n",
              "      <th>2</th>\n",
              "      <td>@comeagainjen http://twitpic.com/2y2lx - http:...</td>\n",
              "      <td>0</td>\n",
              "    </tr>\n",
              "    <tr>\n",
              "      <th>3</th>\n",
              "      <td>@lapcat Need to send 'em to my accountant tomo...</td>\n",
              "      <td>0</td>\n",
              "    </tr>\n",
              "    <tr>\n",
              "      <th>4</th>\n",
              "      <td>ADD ME ON MYSPACE!!!  myspace.com/LookThunder</td>\n",
              "      <td>0</td>\n",
              "    </tr>\n",
              "    <tr>\n",
              "      <th>...</th>\n",
              "      <td>...</td>\n",
              "      <td>...</td>\n",
              "    </tr>\n",
              "    <tr>\n",
              "      <th>1907</th>\n",
              "      <td>What's something you do when noone is looking?</td>\n",
              "      <td>0</td>\n",
              "    </tr>\n",
              "    <tr>\n",
              "      <th>1908</th>\n",
              "      <td>If you had to eat one type of canned food for ...</td>\n",
              "      <td>0</td>\n",
              "    </tr>\n",
              "    <tr>\n",
              "      <th>1909</th>\n",
              "      <td>People of Reddit, what do you think of virtue ...</td>\n",
              "      <td>0</td>\n",
              "    </tr>\n",
              "    <tr>\n",
              "      <th>1910</th>\n",
              "      <td>Who or what do you trust the most?</td>\n",
              "      <td>0</td>\n",
              "    </tr>\n",
              "    <tr>\n",
              "      <th>1911</th>\n",
              "      <td>How often do you find yourself wondering what ...</td>\n",
              "      <td>0</td>\n",
              "    </tr>\n",
              "  </tbody>\n",
              "</table>\n",
              "<p>12226 rows × 2 columns</p>\n",
              "</div>"
            ],
            "text/plain": [
              "                                                   body  Depressed\n",
              "0     just had a real good moment. i missssssssss hi...          0\n",
              "1            is reading manga  http://plurk.com/p/mzp1e          0\n",
              "2     @comeagainjen http://twitpic.com/2y2lx - http:...          0\n",
              "3     @lapcat Need to send 'em to my accountant tomo...          0\n",
              "4         ADD ME ON MYSPACE!!!  myspace.com/LookThunder          0\n",
              "...                                                 ...        ...\n",
              "1907     What's something you do when noone is looking?          0\n",
              "1908  If you had to eat one type of canned food for ...          0\n",
              "1909  People of Reddit, what do you think of virtue ...          0\n",
              "1910                 Who or what do you trust the most?          0\n",
              "1911  How often do you find yourself wondering what ...          0\n",
              "\n",
              "[12226 rows x 2 columns]"
            ]
          },
          "metadata": {},
          "execution_count": 10
        }
      ]
    },
    {
      "cell_type": "code",
      "metadata": {
        "colab": {
          "base_uri": "https://localhost:8080/"
        },
        "id": "lJv6iXoUMbDe",
        "outputId": "dfd4de1d-4093-4407-dd1c-d48e32d53dc6"
      },
      "source": [
        "df.Depressed.value_counts()"
      ],
      "execution_count": 11,
      "outputs": [
        {
          "output_type": "execute_result",
          "data": {
            "text/plain": [
              "0    8996\n",
              "1    3230\n",
              "Name: Depressed, dtype: int64"
            ]
          },
          "metadata": {},
          "execution_count": 11
        }
      ]
    },
    {
      "cell_type": "code",
      "metadata": {
        "id": "Coy9KiITM7__"
      },
      "source": [
        "import spacy\n",
        "#loading the english language small model of spacy\n",
        "en = spacy.load('en_core_web_sm')\n",
        "sw_spacy = en.Defaults.stop_words"
      ],
      "execution_count": 12,
      "outputs": []
    },
    {
      "cell_type": "code",
      "metadata": {
        "id": "Q0PZtwfHkdSG"
      },
      "source": [
        "import re\n",
        "df = df.reset_index(drop=True)\n",
        "REPLACE_BY_SPACE_RE = re.compile('[/(){}\\[\\]\\|@,;]')\n",
        "BAD_SYMBOLS_RE = re.compile('[^0-9a-z #+_]')\n",
        "\n",
        "def clean_text(text):\n",
        "    text = text.lower() # lowercase text\n",
        "    text = REPLACE_BY_SPACE_RE.sub(' ', text) # replace REPLACE_BY_SPACE_RE symbols by space in text. substitute the matched string in REPLACE_BY_SPACE_RE with space.\n",
        "    text = BAD_SYMBOLS_RE.sub('', text) # remove symbols which are in BAD_SYMBOLS_RE from text. substitute the matched string in BAD_SYMBOLS_RE with nothing. \n",
        "    text = text.replace('x', '')\n",
        "#    text = re.sub(r'\\W+', '', text)\n",
        "    words = [word for word in text.split() if word.lower() not in sw_spacy]\n",
        "    text = \" \".join(words)\n",
        "    return text\n",
        "  \n",
        "\n",
        "df['body'] = df['body'].apply(clean_text)\n",
        "df['body'] = df['body'].str.replace('\\d+', '')"
      ],
      "execution_count": 13,
      "outputs": []
    },
    {
      "cell_type": "code",
      "metadata": {
        "colab": {
          "base_uri": "https://localhost:8080/",
          "height": 419
        },
        "id": "GiINvcJio5_B",
        "outputId": "dd20ba20-5956-4cc8-d207-ce8f7aae5649"
      },
      "source": [
        "df"
      ],
      "execution_count": 14,
      "outputs": [
        {
          "output_type": "execute_result",
          "data": {
            "text/html": [
              "<div>\n",
              "<style scoped>\n",
              "    .dataframe tbody tr th:only-of-type {\n",
              "        vertical-align: middle;\n",
              "    }\n",
              "\n",
              "    .dataframe tbody tr th {\n",
              "        vertical-align: top;\n",
              "    }\n",
              "\n",
              "    .dataframe thead th {\n",
              "        text-align: right;\n",
              "    }\n",
              "</style>\n",
              "<table border=\"1\" class=\"dataframe\">\n",
              "  <thead>\n",
              "    <tr style=\"text-align: right;\">\n",
              "      <th></th>\n",
              "      <th>body</th>\n",
              "      <th>Depressed</th>\n",
              "    </tr>\n",
              "  </thead>\n",
              "  <tbody>\n",
              "    <tr>\n",
              "      <th>0</th>\n",
              "      <td>real good moment missssssssss</td>\n",
              "      <td>0</td>\n",
              "    </tr>\n",
              "    <tr>\n",
              "      <th>1</th>\n",
              "      <td>reading manga http plurkcom p mzpe</td>\n",
              "      <td>0</td>\n",
              "    </tr>\n",
              "    <tr>\n",
              "      <th>2</th>\n",
              "      <td>comeagainjen http twitpiccom yl http wwwyoutub...</td>\n",
              "      <td>0</td>\n",
              "    </tr>\n",
              "    <tr>\n",
              "      <th>3</th>\n",
              "      <td>lapcat need send em accountant tomorrow oddly ...</td>\n",
              "      <td>0</td>\n",
              "    </tr>\n",
              "    <tr>\n",
              "      <th>4</th>\n",
              "      <td>add myspace myspacecom lookthunder</td>\n",
              "      <td>0</td>\n",
              "    </tr>\n",
              "    <tr>\n",
              "      <th>...</th>\n",
              "      <td>...</td>\n",
              "      <td>...</td>\n",
              "    </tr>\n",
              "    <tr>\n",
              "      <th>12221</th>\n",
              "      <td>whats looking</td>\n",
              "      <td>0</td>\n",
              "    </tr>\n",
              "    <tr>\n",
              "      <th>12222</th>\n",
              "      <td>eat type canned food rest life choosing</td>\n",
              "      <td>0</td>\n",
              "    </tr>\n",
              "    <tr>\n",
              "      <th>12223</th>\n",
              "      <td>people reddit think virtue signalling fau outr...</td>\n",
              "      <td>0</td>\n",
              "    </tr>\n",
              "    <tr>\n",
              "      <th>12224</th>\n",
              "      <td>trust</td>\n",
              "      <td>0</td>\n",
              "    </tr>\n",
              "    <tr>\n",
              "      <th>12225</th>\n",
              "      <td>find wondering</td>\n",
              "      <td>0</td>\n",
              "    </tr>\n",
              "  </tbody>\n",
              "</table>\n",
              "<p>12226 rows × 2 columns</p>\n",
              "</div>"
            ],
            "text/plain": [
              "                                                    body  Depressed\n",
              "0                          real good moment missssssssss          0\n",
              "1                     reading manga http plurkcom p mzpe          0\n",
              "2      comeagainjen http twitpiccom yl http wwwyoutub...          0\n",
              "3      lapcat need send em accountant tomorrow oddly ...          0\n",
              "4                     add myspace myspacecom lookthunder          0\n",
              "...                                                  ...        ...\n",
              "12221                                      whats looking          0\n",
              "12222            eat type canned food rest life choosing          0\n",
              "12223  people reddit think virtue signalling fau outr...          0\n",
              "12224                                              trust          0\n",
              "12225                                     find wondering          0\n",
              "\n",
              "[12226 rows x 2 columns]"
            ]
          },
          "metadata": {},
          "execution_count": 14
        }
      ]
    },
    {
      "cell_type": "code",
      "metadata": {
        "colab": {
          "base_uri": "https://localhost:8080/"
        },
        "id": "Go7d4HqRpuND",
        "outputId": "0e1462f1-1ca1-4bb6-b18f-cb00ad06a0f4"
      },
      "source": [
        "from tensorflow.keras.preprocessing.text import Tokenizer\n",
        "# The maximum number of words to be used. (most frequent)\n",
        "MAX_NB_WORDS = 50000\n",
        "# Max number of words in each complaint.\n",
        "MAX_SEQUENCE_LENGTH = 250\n",
        "# This is fixed.\n",
        "EMBEDDING_DIM = 100\n",
        "tokenizer = Tokenizer(num_words=MAX_NB_WORDS, filters='!\"#$%&()*+,-./:;<=>?@[\\]^_`{|}~', lower=True)\n",
        "tokenizer.fit_on_texts(df['body'].values)\n",
        "word_index = tokenizer.word_index\n",
        "print('Found %s unique tokens.' % len(word_index))"
      ],
      "execution_count": 15,
      "outputs": [
        {
          "output_type": "stream",
          "text": [
            "Found 27141 unique tokens.\n"
          ],
          "name": "stdout"
        }
      ]
    },
    {
      "cell_type": "code",
      "metadata": {
        "colab": {
          "base_uri": "https://localhost:8080/"
        },
        "id": "eyd91bnduai_",
        "outputId": "fd42a302-a27e-41bb-bc44-1453e5b91afb"
      },
      "source": [
        "from tensorflow.keras.preprocessing.sequence import pad_sequences\n",
        "X = tokenizer.texts_to_sequences(df['body'].values)\n",
        "X = pad_sequences(X, maxlen=MAX_SEQUENCE_LENGTH)\n",
        "print('Shape of data tensor:', X.shape)"
      ],
      "execution_count": 16,
      "outputs": [
        {
          "output_type": "stream",
          "text": [
            "Shape of data tensor: (12226, 250)\n"
          ],
          "name": "stdout"
        }
      ]
    },
    {
      "cell_type": "code",
      "metadata": {
        "colab": {
          "base_uri": "https://localhost:8080/"
        },
        "id": "5VtLEVRcugn6",
        "outputId": "51800102-ca26-4fd6-e362-e44d86f820ca"
      },
      "source": [
        "Y = pd.get_dummies(df['Depressed']).values\n",
        "print('Shape of label tensor:', Y.shape)"
      ],
      "execution_count": 17,
      "outputs": [
        {
          "output_type": "stream",
          "text": [
            "Shape of label tensor: (12226, 2)\n"
          ],
          "name": "stdout"
        }
      ]
    },
    {
      "cell_type": "code",
      "metadata": {
        "colab": {
          "base_uri": "https://localhost:8080/"
        },
        "id": "Zs024xwhu3UW",
        "outputId": "dde52c17-a888-40e9-baaf-b7f6ee35d5bf"
      },
      "source": [
        "from sklearn.model_selection import train_test_split\n",
        "X_train, X_test, Y_train, Y_test = train_test_split(X,Y, test_size = 0.10, random_state = 42)\n",
        "print(X_train.shape,Y_train.shape)\n",
        "print(X_test.shape,Y_test.shape)"
      ],
      "execution_count": 18,
      "outputs": [
        {
          "output_type": "stream",
          "text": [
            "(11003, 250) (11003, 2)\n",
            "(1223, 250) (1223, 2)\n"
          ],
          "name": "stdout"
        }
      ]
    },
    {
      "cell_type": "code",
      "metadata": {
        "colab": {
          "base_uri": "https://localhost:8080/"
        },
        "id": "8CAj8ecYvHDd",
        "outputId": "a4969612-3fb5-4cb5-84f7-b3ac18d34e6c"
      },
      "source": [
        "import tensorflow as tf\n",
        "from tensorflow import keras\n",
        "from tensorflow.keras import Sequential\n",
        "from tensorflow.keras.layers import Embedding, SpatialDropout1D, LSTM, Dense\n",
        "from tensorflow.keras.callbacks import EarlyStopping\n",
        "\n",
        "model = Sequential()\n",
        "model.add(Embedding(MAX_NB_WORDS, EMBEDDING_DIM, input_length=X.shape[1]))\n",
        "model.add(SpatialDropout1D(0.2))\n",
        "model.add(LSTM(100, dropout=0.2, recurrent_dropout=0.2))\n",
        "model.add(Dense(2, activation='softmax'))\n",
        "model.compile(loss='binary_crossentropy', optimizer='adam', metrics=['accuracy'])\n",
        "\n",
        "epochs = 5\n",
        "batch_size = 1024\n",
        "\n",
        "history = model.fit(X_train, Y_train, epochs=epochs, batch_size=batch_size,validation_split=0.1,callbacks=[EarlyStopping(monitor='val_loss', patience=3, min_delta=0.0001)])\n"
      ],
      "execution_count": 19,
      "outputs": [
        {
          "output_type": "stream",
          "text": [
            "Epoch 1/5\n",
            "10/10 [==============================] - 87s 8s/step - loss: 0.6279 - accuracy: 0.7215 - val_loss: 0.5071 - val_accuracy: 0.7557\n",
            "Epoch 2/5\n",
            "10/10 [==============================] - 78s 8s/step - loss: 0.4793 - accuracy: 0.7529 - val_loss: 0.4023 - val_accuracy: 0.8247\n",
            "Epoch 3/5\n",
            "10/10 [==============================] - 78s 8s/step - loss: 0.3859 - accuracy: 0.8611 - val_loss: 0.3369 - val_accuracy: 0.8865\n",
            "Epoch 4/5\n",
            "10/10 [==============================] - 78s 8s/step - loss: 0.3181 - accuracy: 0.8957 - val_loss: 0.2730 - val_accuracy: 0.9055\n",
            "Epoch 5/5\n",
            "10/10 [==============================] - 78s 8s/step - loss: 0.2325 - accuracy: 0.9270 - val_loss: 0.1972 - val_accuracy: 0.9437\n"
          ],
          "name": "stdout"
        }
      ]
    },
    {
      "cell_type": "code",
      "metadata": {
        "colab": {
          "base_uri": "https://localhost:8080/"
        },
        "id": "NiJCBLapviYz",
        "outputId": "1675fca2-7190-44c1-d537-a1480ad5193d"
      },
      "source": [
        "accr = model.evaluate(X_test,Y_test)\n",
        "print('Test set\\n  Loss: {:0.3f}\\n  Accuracy: {:0.3f}'.format(accr[0],accr[1]))"
      ],
      "execution_count": 20,
      "outputs": [
        {
          "output_type": "stream",
          "text": [
            "39/39 [==============================] - 3s 79ms/step - loss: 0.2281 - accuracy: 0.9248\n",
            "Test set\n",
            "  Loss: 0.228\n",
            "  Accuracy: 0.925\n"
          ],
          "name": "stdout"
        }
      ]
    },
    {
      "cell_type": "code",
      "metadata": {
        "colab": {
          "base_uri": "https://localhost:8080/",
          "height": 281
        },
        "id": "gwUZTNZexCmu",
        "outputId": "0c489cad-420a-4954-84cb-2a3dfdbab4c6"
      },
      "source": [
        "import matplotlib.pyplot as plt\n",
        "plt.title('Loss')\n",
        "plt.plot(history.history['loss'], label='train')\n",
        "plt.plot(history.history['val_loss'], label='test')\n",
        "plt.legend()\n",
        "plt.show();"
      ],
      "execution_count": 21,
      "outputs": [
        {
          "output_type": "display_data",
          "data": {
            "image/png": "[encoded data removed]",
            "text/plain": [
              "<Figure size 432x288 with 1 Axes>"
            ]
          },
          "metadata": {
            "needs_background": "light"
          }
        }
      ]
    },
    {
      "cell_type": "code",
      "metadata": {
        "colab": {
          "base_uri": "https://localhost:8080/",
          "height": 281
        },
        "id": "5E4XglSoxGS2",
        "outputId": "70c98cb9-f01a-49b8-f364-9ef71df02e8f"
      },
      "source": [
        "plt.title('Accuracy')\n",
        "plt.plot(history.history['accuracy'], label='train')\n",
        "plt.plot(history.history['val_accuracy'], label='test')\n",
        "plt.legend()\n",
        "plt.show();"
      ],
      "execution_count": 22,
      "outputs": [
        {
          "output_type": "display_data",
          "data": {
            "image/png": "[encoded data removed]",
            "text/plain": [
              "<Figure size 432x288 with 1 Axes>"
            ]
          },
          "metadata": {
            "needs_background": "light"
          }
        }
      ]
    },
    {
      "cell_type": "code",
      "metadata": {
        "id": "p5NIyBPexNyb"
      },
      "source": [
        "val = pd.read_csv('shot1.csv')"
      ],
      "execution_count": 34,
      "outputs": []
    },
    {
      "cell_type": "code",
      "metadata": {
        "colab": {
          "base_uri": "https://localhost:8080/",
          "height": 419
        },
        "id": "jXyfkTNcUUBi",
        "outputId": "19e62870-bbd0-4286-c7b9-9fe52bdc79c0"
      },
      "source": [
        "val"
      ],
      "execution_count": 35,
      "outputs": [
        {
          "output_type": "execute_result",
          "data": {
            "text/html": [
              "<div>\n",
              "<style scoped>\n",
              "    .dataframe tbody tr th:only-of-type {\n",
              "        vertical-align: middle;\n",
              "    }\n",
              "\n",
              "    .dataframe tbody tr th {\n",
              "        vertical-align: top;\n",
              "    }\n",
              "\n",
              "    .dataframe thead th {\n",
              "        text-align: right;\n",
              "    }\n",
              "</style>\n",
              "<table border=\"1\" class=\"dataframe\">\n",
              "  <thead>\n",
              "    <tr style=\"text-align: right;\">\n",
              "      <th></th>\n",
              "      <th>Unnamed: 0</th>\n",
              "      <th>text</th>\n",
              "      <th>class</th>\n",
              "    </tr>\n",
              "  </thead>\n",
              "  <tbody>\n",
              "    <tr>\n",
              "      <th>0</th>\n",
              "      <td>2</td>\n",
              "      <td>Ex Wife Threatening SuicideRecently I left my ...</td>\n",
              "      <td>suicide</td>\n",
              "    </tr>\n",
              "    <tr>\n",
              "      <th>1</th>\n",
              "      <td>3</td>\n",
              "      <td>Am I weird I don't get affected by compliments...</td>\n",
              "      <td>non-suicide</td>\n",
              "    </tr>\n",
              "    <tr>\n",
              "      <th>2</th>\n",
              "      <td>4</td>\n",
              "      <td>Finally 2020 is almost over... So I can never ...</td>\n",
              "      <td>non-suicide</td>\n",
              "    </tr>\n",
              "    <tr>\n",
              "      <th>3</th>\n",
              "      <td>8</td>\n",
              "      <td>i need helpjust help me im crying so hard</td>\n",
              "      <td>suicide</td>\n",
              "    </tr>\n",
              "    <tr>\n",
              "      <th>4</th>\n",
              "      <td>9</td>\n",
              "      <td>I’m so lostHello, my name is Adam (16) and I’v...</td>\n",
              "      <td>suicide</td>\n",
              "    </tr>\n",
              "    <tr>\n",
              "      <th>...</th>\n",
              "      <td>...</td>\n",
              "      <td>...</td>\n",
              "      <td>...</td>\n",
              "    </tr>\n",
              "    <tr>\n",
              "      <th>1994</th>\n",
              "      <td>2983</td>\n",
              "      <td>Was doing math And today it was equations with...</td>\n",
              "      <td>non-suicide</td>\n",
              "    </tr>\n",
              "    <tr>\n",
              "      <th>1995</th>\n",
              "      <td>2984</td>\n",
              "      <td>I have called the suicide hotline and used cri...</td>\n",
              "      <td>suicide</td>\n",
              "    </tr>\n",
              "    <tr>\n",
              "      <th>1996</th>\n",
              "      <td>2985</td>\n",
              "      <td>LEAVE ME THE FUCK ALONEI HAVEN'T DONE ANYTHING...</td>\n",
              "      <td>suicide</td>\n",
              "    </tr>\n",
              "    <tr>\n",
              "      <th>1997</th>\n",
              "      <td>2988</td>\n",
              "      <td>I just dont know I just feel nothing when i ta...</td>\n",
              "      <td>non-suicide</td>\n",
              "    </tr>\n",
              "    <tr>\n",
              "      <th>1998</th>\n",
              "      <td>2990</td>\n",
              "      <td>Men can't talk about feelings I had a toxic gr...</td>\n",
              "      <td>non-suicide</td>\n",
              "    </tr>\n",
              "  </tbody>\n",
              "</table>\n",
              "<p>1999 rows × 3 columns</p>\n",
              "</div>"
            ],
            "text/plain": [
              "      Unnamed: 0  ...        class\n",
              "0              2  ...      suicide\n",
              "1              3  ...  non-suicide\n",
              "2              4  ...  non-suicide\n",
              "3              8  ...      suicide\n",
              "4              9  ...      suicide\n",
              "...          ...  ...          ...\n",
              "1994        2983  ...  non-suicide\n",
              "1995        2984  ...      suicide\n",
              "1996        2985  ...      suicide\n",
              "1997        2988  ...  non-suicide\n",
              "1998        2990  ...  non-suicide\n",
              "\n",
              "[1999 rows x 3 columns]"
            ]
          },
          "metadata": {},
          "execution_count": 35
        }
      ]
    },
    {
      "cell_type": "code",
      "metadata": {
        "id": "NuHZVTfJSt_K"
      },
      "source": [
        "val['Depressed'] = 0\n",
        "for i in range(len(val)):\n",
        "  if(val.loc[i,'class'] == 'suicide'):\n",
        "    val.loc[i,'Depressed'] = 1\n",
        "val = val.rename(columns = {'text':'body'})\n",
        "val = val[['body','Depressed']]"
      ],
      "execution_count": 36,
      "outputs": []
    },
    {
      "cell_type": "code",
      "metadata": {
        "colab": {
          "base_uri": "https://localhost:8080/",
          "height": 419
        },
        "id": "wHitlDsolYo5",
        "outputId": "5e216310-b0ab-41e2-c2a3-50e2d759f584"
      },
      "source": [
        "val"
      ],
      "execution_count": 37,
      "outputs": [
        {
          "output_type": "execute_result",
          "data": {
            "text/html": [
              "<div>\n",
              "<style scoped>\n",
              "    .dataframe tbody tr th:only-of-type {\n",
              "        vertical-align: middle;\n",
              "    }\n",
              "\n",
              "    .dataframe tbody tr th {\n",
              "        vertical-align: top;\n",
              "    }\n",
              "\n",
              "    .dataframe thead th {\n",
              "        text-align: right;\n",
              "    }\n",
              "</style>\n",
              "<table border=\"1\" class=\"dataframe\">\n",
              "  <thead>\n",
              "    <tr style=\"text-align: right;\">\n",
              "      <th></th>\n",
              "      <th>body</th>\n",
              "      <th>Depressed</th>\n",
              "    </tr>\n",
              "  </thead>\n",
              "  <tbody>\n",
              "    <tr>\n",
              "      <th>0</th>\n",
              "      <td>Ex Wife Threatening SuicideRecently I left my ...</td>\n",
              "      <td>1</td>\n",
              "    </tr>\n",
              "    <tr>\n",
              "      <th>1</th>\n",
              "      <td>Am I weird I don't get affected by compliments...</td>\n",
              "      <td>0</td>\n",
              "    </tr>\n",
              "    <tr>\n",
              "      <th>2</th>\n",
              "      <td>Finally 2020 is almost over... So I can never ...</td>\n",
              "      <td>0</td>\n",
              "    </tr>\n",
              "    <tr>\n",
              "      <th>3</th>\n",
              "      <td>i need helpjust help me im crying so hard</td>\n",
              "      <td>1</td>\n",
              "    </tr>\n",
              "    <tr>\n",
              "      <th>4</th>\n",
              "      <td>I’m so lostHello, my name is Adam (16) and I’v...</td>\n",
              "      <td>1</td>\n",
              "    </tr>\n",
              "    <tr>\n",
              "      <th>...</th>\n",
              "      <td>...</td>\n",
              "      <td>...</td>\n",
              "    </tr>\n",
              "    <tr>\n",
              "      <th>1994</th>\n",
              "      <td>Was doing math And today it was equations with...</td>\n",
              "      <td>0</td>\n",
              "    </tr>\n",
              "    <tr>\n",
              "      <th>1995</th>\n",
              "      <td>I have called the suicide hotline and used cri...</td>\n",
              "      <td>1</td>\n",
              "    </tr>\n",
              "    <tr>\n",
              "      <th>1996</th>\n",
              "      <td>LEAVE ME THE FUCK ALONEI HAVEN'T DONE ANYTHING...</td>\n",
              "      <td>1</td>\n",
              "    </tr>\n",
              "    <tr>\n",
              "      <th>1997</th>\n",
              "      <td>I just dont know I just feel nothing when i ta...</td>\n",
              "      <td>0</td>\n",
              "    </tr>\n",
              "    <tr>\n",
              "      <th>1998</th>\n",
              "      <td>Men can't talk about feelings I had a toxic gr...</td>\n",
              "      <td>0</td>\n",
              "    </tr>\n",
              "  </tbody>\n",
              "</table>\n",
              "<p>1999 rows × 2 columns</p>\n",
              "</div>"
            ],
            "text/plain": [
              "                                                   body  Depressed\n",
              "0     Ex Wife Threatening SuicideRecently I left my ...          1\n",
              "1     Am I weird I don't get affected by compliments...          0\n",
              "2     Finally 2020 is almost over... So I can never ...          0\n",
              "3             i need helpjust help me im crying so hard          1\n",
              "4     I’m so lostHello, my name is Adam (16) and I’v...          1\n",
              "...                                                 ...        ...\n",
              "1994  Was doing math And today it was equations with...          0\n",
              "1995  I have called the suicide hotline and used cri...          1\n",
              "1996  LEAVE ME THE FUCK ALONEI HAVEN'T DONE ANYTHING...          1\n",
              "1997  I just dont know I just feel nothing when i ta...          0\n",
              "1998  Men can't talk about feelings I had a toxic gr...          0\n",
              "\n",
              "[1999 rows x 2 columns]"
            ]
          },
          "metadata": {},
          "execution_count": 37
        }
      ]
    },
    {
      "cell_type": "code",
      "metadata": {
        "colab": {
          "base_uri": "https://localhost:8080/"
        },
        "id": "g8jGlk3llpNA",
        "outputId": "b7e55f10-e130-4885-ff94-84ab11eca63f"
      },
      "source": [
        "val['body'] = val['body'].apply(clean_text)\n",
        "val['body'] = val['body'].str.replace('\\d+', '')\n",
        "tokenizer.fit_on_texts(val['body'].values)\n",
        "word_index = tokenizer.word_index\n",
        "print('Found %s unique tokens.' % len(word_index))\n",
        "X1 = tokenizer.texts_to_sequences(val['body'].values)\n",
        "X1 = pad_sequences(X1, maxlen=MAX_SEQUENCE_LENGTH)\n",
        "print('Shape of data tensor:', X1.shape)\n",
        "Y1 = pd.get_dummies(val['Depressed']).values\n",
        "print('Shape of label tensor:', Y1.shape)"
      ],
      "execution_count": 38,
      "outputs": [
        {
          "output_type": "stream",
          "text": [
            "Found 33858 unique tokens.\n",
            "Shape of data tensor: (1999, 250)\n",
            "Shape of label tensor: (1999, 2)\n"
          ],
          "name": "stdout"
        }
      ]
    },
    {
      "cell_type": "code",
      "metadata": {
        "colab": {
          "base_uri": "https://localhost:8080/"
        },
        "id": "1j4H1Ilzl_wy",
        "outputId": "4135033b-27cf-4550-e6e1-6fe0933385ee"
      },
      "source": [
        "accr = model.evaluate(X1,Y1)\n",
        "print('Test set\\n  Loss: {:0.3f}\\n  Accuracy: {:0.3f}'.format(accr[0],accr[1]))"
      ],
      "execution_count": 39,
      "outputs": [
        {
          "output_type": "stream",
          "text": [
            "63/63 [==============================] - 5s 86ms/step - loss: 0.7121 - accuracy: 0.6503\n",
            "Test set\n",
            "  Loss: 0.712\n",
            "  Accuracy: 0.650\n"
          ],
          "name": "stdout"
        }
      ]
    },
    {
      "cell_type": "code",
      "metadata": {
        "id": "R7vSBAjonEsT"
      },
      "source": [
        "def isDepressing(text):\n",
        "  lst = {'body':[text]}\n",
        "  # Calling DataFrame constructor on list  \n",
        "  dframe = pd.DataFrame(lst) \n",
        "  dframe = dframe['body'].apply(clean_text)\n",
        "  dframe = dframe.str.replace('\\d+', '')\n",
        "  tokenizer.fit_on_texts(dframe.values)\n",
        "  word_index = tokenizer.word_index\n",
        "  print('Found %s unique tokens.' % len(word_index))\n",
        "  X1 = tokenizer.texts_to_sequences(dframe.values)\n",
        "  X1 = pad_sequences(X1, maxlen=MAX_SEQUENCE_LENGTH)\n",
        "  print('Shape of data tensor:', X1.shape)\n",
        "  a = model.predict(X1)\n",
        "  print(a)\n",
        "  if(a[0][0] > a[0][1]):\n",
        "    return 0\n",
        "  return 1"
      ],
      "execution_count": 40,
      "outputs": []
    },
    {
      "cell_type": "code",
      "metadata": {
        "colab": {
          "base_uri": "https://localhost:8080/"
        },
        "id": "YMIM6JYHoI0V",
        "outputId": "68ba3b20-fefe-407f-ace8-d1a8cde5325f"
      },
      "source": [
        "isDepressing('responsible  ive been running this through my mind for far too long and i need an external opinion without anyone getting worried or equally socially devastatingsay someone rapes their wifegirlfriend non violent but repeat offense what is the best course of action from the rapistobviously the first step would be to leave the person alone and go nocontact permanently but from there what what justice is servedis it on the rapist to live with the guilt and the full weight of their actions and crimes for the rest of their lives are they to face trial and conviction is it their responsibility to kill themselves so as not to harm another individual againethically speaking how is proper justice served here because i want justice')"
      ],
      "execution_count": 41,
      "outputs": [
        {
          "output_type": "stream",
          "text": [
            "Found 33866 unique tokens.\n",
            "Shape of data tensor: (1, 250)\n",
            "[[0.44967657 0.55032337]]\n"
          ],
          "name": "stdout"
        },
        {
          "output_type": "execute_result",
          "data": {
            "text/plain": [
              "1"
            ]
          },
          "metadata": {},
          "execution_count": 41
        }
      ]
    }
  ]
}