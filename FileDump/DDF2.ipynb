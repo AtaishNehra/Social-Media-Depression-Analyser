{
  "nbformat": 4,
  "nbformat_minor": 0,
  "metadata": {
    "colab": {
      "name": "DDF2.ipynb",
      "provenance": [],
      "collapsed_sections": []
    },
    "kernelspec": {
      "name": "python3",
      "display_name": "Python 3"
    },
    "language_info": {
      "name": "python"
    }
  },
  "cells": [
    {
      "cell_type": "code",
      "metadata": {
        "id": "uDEkvu1x0Fh-"
      },
      "source": [
        "import pandas as pd\n",
        "import numpy as np"
      ],
      "execution_count": 39,
      "outputs": []
    },
    {
      "cell_type": "code",
      "metadata": {
        "colab": {
          "base_uri": "https://localhost:8080/"
        },
        "id": "Pc-r8mOM0gGi",
        "outputId": "cd4dc8cb-06f8-42a7-85d9-8ebecbfb7f24"
      },
      "source": [
        "df = pd.read_csv('CleanedData.csv')\n",
        "df.info()"
      ],
      "execution_count": 40,
      "outputs": [
        {
          "output_type": "stream",
          "name": "stdout",
          "text": [
            "<class 'pandas.core.frame.DataFrame'>\n",
            "RangeIndex: 12226 entries, 0 to 12225\n",
            "Data columns (total 2 columns):\n",
            " #   Column     Non-Null Count  Dtype \n",
            "---  ------     --------------  ----- \n",
            " 0   body       12208 non-null  object\n",
            " 1   Depressed  12226 non-null  int64 \n",
            "dtypes: int64(1), object(1)\n",
            "memory usage: 191.2+ KB\n"
          ]
        }
      ]
    },
    {
      "cell_type": "code",
      "metadata": {
        "colab": {
          "base_uri": "https://localhost:8080/"
        },
        "id": "eeNbCog30kCl",
        "outputId": "9b422634-ee0b-472f-f93e-21956b43a580"
      },
      "source": [
        "df.Depressed.value_counts()"
      ],
      "execution_count": 41,
      "outputs": [
        {
          "output_type": "execute_result",
          "data": {
            "text/plain": [
              "0    8996\n",
              "1    3230\n",
              "Name: Depressed, dtype: int64"
            ]
          },
          "metadata": {},
          "execution_count": 41
        }
      ]
    },
    {
      "cell_type": "code",
      "metadata": {
        "id": "2eEQzytS2YBD"
      },
      "source": [
        "i = 0\n",
        "for a in range(len(df)):\n",
        "  if(df.loc[a,'Depressed'] == 1):\n",
        "    continue\n",
        "  else:\n",
        "    if(i > 3230):\n",
        "      df = df.drop(a)\n",
        "    else:\n",
        "      i += 1"
      ],
      "execution_count": 42,
      "outputs": []
    },
    {
      "cell_type": "code",
      "metadata": {
        "colab": {
          "base_uri": "https://localhost:8080/"
        },
        "id": "c9edOBlg2kyo",
        "outputId": "46cbf9d8-0688-4d8f-c57a-c5226c1dc6fe"
      },
      "source": [
        "df.Depressed.value_counts()"
      ],
      "execution_count": 43,
      "outputs": [
        {
          "output_type": "execute_result",
          "data": {
            "text/plain": [
              "0    3231\n",
              "1    3230\n",
              "Name: Depressed, dtype: int64"
            ]
          },
          "metadata": {},
          "execution_count": 43
        }
      ]
    },
    {
      "cell_type": "code",
      "metadata": {
        "id": "8n4YuSOlL0Zf"
      },
      "source": [
        "df = df.sample(frac=1).reset_index(drop=True)"
      ],
      "execution_count": 44,
      "outputs": []
    },
    {
      "cell_type": "code",
      "metadata": {
        "id": "IPOU86UfL10L"
      },
      "source": [
        "validate = df[:500]\n",
        "df = df[0:len(df)-500]"
      ],
      "execution_count": 45,
      "outputs": []
    },
    {
      "cell_type": "code",
      "metadata": {
        "colab": {
          "base_uri": "https://localhost:8080/"
        },
        "id": "g2Un2wci2mi0",
        "outputId": "46a499d9-3f8e-4ed1-cfb4-246a2d77e5ee"
      },
      "source": [
        "!pip install pyspellchecker"
      ],
      "execution_count": 46,
      "outputs": [
        {
          "output_type": "stream",
          "name": "stdout",
          "text": [
            "Requirement already satisfied: pyspellchecker in /usr/local/lib/python3.7/dist-packages (0.6.2)\n"
          ]
        }
      ]
    },
    {
      "cell_type": "code",
      "metadata": {
        "colab": {
          "base_uri": "https://localhost:8080/"
        },
        "id": "sbcQjFKp2uGZ",
        "outputId": "2b25bae7-cf83-4ec4-e428-3e7cd493001a"
      },
      "source": [
        "!pip install autocorrect"
      ],
      "execution_count": 47,
      "outputs": [
        {
          "output_type": "stream",
          "name": "stdout",
          "text": [
            "Requirement already satisfied: autocorrect in /usr/local/lib/python3.7/dist-packages (2.5.0)\n"
          ]
        }
      ]
    },
    {
      "cell_type": "code",
      "metadata": {
        "id": "JNCahnAX2oKi"
      },
      "source": [
        "from textblob import TextBlob\n",
        "from autocorrect import Speller\n",
        "from spellchecker import SpellChecker\n",
        "def fuzzyLogic(text):\n",
        "  spell = Speller(lang='en')\n",
        "  text = str(spell(text))\n",
        "  return text"
      ],
      "execution_count": 48,
      "outputs": []
    },
    {
      "cell_type": "code",
      "metadata": {
        "colab": {
          "base_uri": "https://localhost:8080/",
          "height": 35
        },
        "id": "HelvcXYo2qe8",
        "outputId": "7740e94b-9f95-43fa-8a27-a9efcfffc058"
      },
      "source": [
        "fuzzyLogic('kisha they cnt get over u til they get out frm under u just remember ur on top ')"
      ],
      "execution_count": 49,
      "outputs": [
        {
          "output_type": "execute_result",
          "data": {
            "application/vnd.google.colaboratory.intrinsic+json": {
              "type": "string"
            },
            "text/plain": [
              "'sha they cnt get over u til they get out frm under u just remember ur on top '"
            ]
          },
          "metadata": {},
          "execution_count": 49
        }
      ]
    },
    {
      "cell_type": "code",
      "metadata": {
        "id": "wY4SWRwF21de"
      },
      "source": [
        "import re\n",
        "df = df.reset_index(drop=True)\n",
        "REPLACE_BY_SPACE_RE = re.compile('[/(){}\\[\\]\\|@,;]')\n",
        "BAD_SYMBOLS_RE = re.compile('[^0-9a-z #+_]')\n",
        "\n",
        "import spacy\n",
        "#loading the english language small model of spacy\n",
        "en = spacy.load('en_core_web_sm')\n",
        "sw_spacy = en.Defaults.stop_words\n",
        "\n",
        "def clean_text(text):\n",
        "    text = text.lower() # lowercase text\n",
        "    text = REPLACE_BY_SPACE_RE.sub(' ', text) # replace REPLACE_BY_SPACE_RE symbols by space in text. substitute the matched string in REPLACE_BY_SPACE_RE with space.\n",
        "    text = BAD_SYMBOLS_RE.sub('', text) # remove symbols which are in BAD_SYMBOLS_RE from text. substitute the matched string in BAD_SYMBOLS_RE with nothing. \n",
        "    text = text.replace('x', '')\n",
        "    words = [word for word in text.split() if word.lower() not in sw_spacy]\n",
        "    text = \" \".join(words)\n",
        "    return text"
      ],
      "execution_count": 50,
      "outputs": []
    },
    {
      "cell_type": "code",
      "metadata": {
        "colab": {
          "base_uri": "https://localhost:8080/"
        },
        "id": "OeKZ84lI24Io",
        "outputId": "8e771ed4-253e-4176-8957-57cd330a2340"
      },
      "source": [
        "df = df.dropna()\n",
        "from tensorflow.keras.preprocessing.text import Tokenizer\n",
        "# The maximum number of words to be used. (most frequent)\n",
        "MAX_NB_WORDS = 50000\n",
        "# Max number of words in each complaint.\n",
        "MAX_SEQUENCE_LENGTH = 125\n",
        "# This is fixed.\n",
        "EMBEDDING_DIM = 100\n",
        "tokenizer = Tokenizer(num_words=MAX_NB_WORDS, filters='!\"#$%&()*+,-./:;<=>?@[\\]^_`{|}~', lower=True)\n",
        "tokenizer.fit_on_texts(df['body'].values)\n",
        "word_index = tokenizer.word_index\n",
        "print('Found %s unique tokens.' % len(word_index))"
      ],
      "execution_count": 51,
      "outputs": [
        {
          "output_type": "stream",
          "name": "stdout",
          "text": [
            "Found 17131 unique tokens.\n"
          ]
        }
      ]
    },
    {
      "cell_type": "code",
      "metadata": {
        "colab": {
          "base_uri": "https://localhost:8080/"
        },
        "id": "Fb1HHH9E26cG",
        "outputId": "cae555a1-fbc7-4975-e96d-bcf279a9cfc7"
      },
      "source": [
        "from tensorflow.keras.preprocessing.sequence import pad_sequences\n",
        "X = tokenizer.texts_to_sequences(df['body'].values)\n",
        "X = pad_sequences(X, maxlen=MAX_SEQUENCE_LENGTH)\n",
        "print('Shape of data tensor:', X.shape)"
      ],
      "execution_count": 52,
      "outputs": [
        {
          "output_type": "stream",
          "name": "stdout",
          "text": [
            "Shape of data tensor: (5953, 125)\n"
          ]
        }
      ]
    },
    {
      "cell_type": "code",
      "metadata": {
        "colab": {
          "base_uri": "https://localhost:8080/"
        },
        "id": "P5lay4JD28Ya",
        "outputId": "053d872b-7051-437a-de64-ca100095574b"
      },
      "source": [
        "Y = pd.get_dummies(df['Depressed']).values\n",
        "print('Shape of label tensor:', Y.shape)"
      ],
      "execution_count": 53,
      "outputs": [
        {
          "output_type": "stream",
          "name": "stdout",
          "text": [
            "Shape of label tensor: (5953, 2)\n"
          ]
        }
      ]
    },
    {
      "cell_type": "code",
      "metadata": {
        "colab": {
          "base_uri": "https://localhost:8080/"
        },
        "id": "hG_WWOpo2-NO",
        "outputId": "4fb6d0da-f9eb-4559-8e19-23fd6ec9aaf2"
      },
      "source": [
        "from sklearn.model_selection import train_test_split\n",
        "X_train, X_test, Y_train, Y_test = train_test_split(X,Y, test_size = 0.25, random_state = 42)\n",
        "print(X_train.shape,Y_train.shape)\n",
        "print(X_test.shape,Y_test.shape)"
      ],
      "execution_count": 54,
      "outputs": [
        {
          "output_type": "stream",
          "name": "stdout",
          "text": [
            "(4464, 125) (4464, 2)\n",
            "(1489, 125) (1489, 2)\n"
          ]
        }
      ]
    },
    {
      "cell_type": "code",
      "metadata": {
        "colab": {
          "base_uri": "https://localhost:8080/"
        },
        "id": "E5a2BNeh2_1t",
        "outputId": "1db3efc6-f719-4864-fff6-87427edd1320"
      },
      "source": [
        "import tensorflow as tf\n",
        "from tensorflow import keras\n",
        "from tensorflow.keras import Sequential\n",
        "from tensorflow.keras.layers import Embedding, SpatialDropout1D, LSTM, Dense,GRU, Dropout\n",
        "from tensorflow.keras.callbacks import EarlyStopping\n",
        "\n",
        "model = Sequential()\n",
        "model.add(Embedding(MAX_NB_WORDS, EMBEDDING_DIM, input_length=X.shape[1]))\n",
        "model.add(GRU(128, dropout=0.2, recurrent_dropout=0.2))\n",
        "model.add(Dense(64))\n",
        "model.add(Dense(2, activation='softmax'))\n",
        "model.compile(loss='binary_crossentropy',optimizer='adam', metrics=['accuracy'])\n",
        "\n",
        "epochs = 9\n",
        "batch_size = 1024\n",
        "\n",
        "history = model.fit(X_train, Y_train, epochs=epochs, batch_size=batch_size,validation_split=0.1,callbacks=[EarlyStopping(monitor='val_loss', patience=3, min_delta=0.0001)])\n"
      ],
      "execution_count": 55,
      "outputs": [
        {
          "output_type": "stream",
          "name": "stdout",
          "text": [
            "Epoch 1/9\n",
            "4/4 [==============================] - 16s 3s/step - loss: 0.6915 - accuracy: 0.4927 - val_loss: 0.6864 - val_accuracy: 0.5056\n",
            "Epoch 2/9\n",
            "4/4 [==============================] - 13s 3s/step - loss: 0.6776 - accuracy: 0.6517 - val_loss: 0.6674 - val_accuracy: 0.8233\n",
            "Epoch 3/9\n",
            "4/4 [==============================] - 13s 3s/step - loss: 0.6408 - accuracy: 0.9019 - val_loss: 0.6090 - val_accuracy: 0.8747\n",
            "Epoch 4/9\n",
            "4/4 [==============================] - 13s 3s/step - loss: 0.5364 - accuracy: 0.9076 - val_loss: 0.4744 - val_accuracy: 0.8188\n",
            "Epoch 5/9\n",
            "4/4 [==============================] - 13s 3s/step - loss: 0.3902 - accuracy: 0.8718 - val_loss: 0.3604 - val_accuracy: 0.8859\n",
            "Epoch 6/9\n",
            "4/4 [==============================] - 13s 3s/step - loss: 0.2642 - accuracy: 0.9325 - val_loss: 0.2462 - val_accuracy: 0.9060\n",
            "Epoch 7/9\n",
            "4/4 [==============================] - 13s 3s/step - loss: 0.1606 - accuracy: 0.9455 - val_loss: 0.1970 - val_accuracy: 0.9060\n",
            "Epoch 8/9\n",
            "4/4 [==============================] - 13s 3s/step - loss: 0.0937 - accuracy: 0.9716 - val_loss: 0.1397 - val_accuracy: 0.9418\n",
            "Epoch 9/9\n",
            "4/4 [==============================] - 13s 3s/step - loss: 0.0446 - accuracy: 0.9846 - val_loss: 0.1097 - val_accuracy: 0.9597\n"
          ]
        }
      ]
    },
    {
      "cell_type": "code",
      "metadata": {
        "colab": {
          "base_uri": "https://localhost:8080/"
        },
        "id": "RWWmVtfJ3Ket",
        "outputId": "aae8884a-17a4-4708-a652-f69918516a5e"
      },
      "source": [
        "accr = model.evaluate(X_test,Y_test)\n",
        "print('Test set\\n  Loss: {:0.3f}\\n  Accuracy: {:0.3f}'.format(accr[0],accr[1]))"
      ],
      "execution_count": 56,
      "outputs": [
        {
          "output_type": "stream",
          "name": "stdout",
          "text": [
            "47/47 [==============================] - 2s 37ms/step - loss: 0.1102 - accuracy: 0.9523\n",
            "Test set\n",
            "  Loss: 0.110\n",
            "  Accuracy: 0.952\n"
          ]
        }
      ]
    },
    {
      "cell_type": "code",
      "metadata": {
        "colab": {
          "base_uri": "https://localhost:8080/",
          "height": 281
        },
        "id": "Iwk56DXW4Wpr",
        "outputId": "cbab94b8-64fe-4e58-9bab-8aa7667a8532"
      },
      "source": [
        "import matplotlib.pyplot as plt\n",
        "plt.title('Loss')\n",
        "plt.plot(history.history['loss'], label='train')\n",
        "plt.plot(history.history['val_loss'], label='test')\n",
        "plt.legend()\n",
        "plt.show();"
      ],
      "execution_count": 57,
      "outputs": [
        {
          "output_type": "display_data",
          "data": {
            "image/png": "[encoded data removed]",
            "text/plain": [
              "<Figure size 432x288 with 1 Axes>"
            ]
          },
          "metadata": {
            "needs_background": "light"
          }
        }
      ]
    },
    {
      "cell_type": "code",
      "metadata": {
        "colab": {
          "base_uri": "https://localhost:8080/",
          "height": 281
        },
        "id": "OBhulRBX4YhB",
        "outputId": "0e5c0d3f-afdf-469d-f0ea-d23559a9ae64"
      },
      "source": [
        "plt.title('Accuracy')\n",
        "plt.plot(history.history['accuracy'], label='train')\n",
        "plt.plot(history.history['val_accuracy'], label='test')\n",
        "plt.legend()\n",
        "plt.show();"
      ],
      "execution_count": 58,
      "outputs": [
        {
          "output_type": "display_data",
          "data": {
            "image/png": "[encoded data removed]",
            "text/plain": [
              "<Figure size 432x288 with 1 Axes>"
            ]
          },
          "metadata": {
            "needs_background": "light"
          }
        }
      ]
    },
    {
      "cell_type": "code",
      "metadata": {
        "id": "o_oXZhsI4amL"
      },
      "source": [
        "val = validate"
      ],
      "execution_count": 59,
      "outputs": []
    },
    {
      "cell_type": "code",
      "metadata": {
        "colab": {
          "base_uri": "https://localhost:8080/",
          "height": 419
        },
        "id": "EdStM4gR4f3t",
        "outputId": "b946a592-c817-4ab7-eb49-e5e71178a951"
      },
      "source": [
        "val"
      ],
      "execution_count": 60,
      "outputs": [
        {
          "output_type": "execute_result",
          "data": {
            "text/html": [
              "<div>\n",
              "<style scoped>\n",
              "    .dataframe tbody tr th:only-of-type {\n",
              "        vertical-align: middle;\n",
              "    }\n",
              "\n",
              "    .dataframe tbody tr th {\n",
              "        vertical-align: top;\n",
              "    }\n",
              "\n",
              "    .dataframe thead th {\n",
              "        text-align: right;\n",
              "    }\n",
              "</style>\n",
              "<table border=\"1\" class=\"dataframe\">\n",
              "  <thead>\n",
              "    <tr style=\"text-align: right;\">\n",
              "      <th></th>\n",
              "      <th>body</th>\n",
              "      <th>Depressed</th>\n",
              "    </tr>\n",
              "  </thead>\n",
              "  <tbody>\n",
              "    <tr>\n",
              "      <th>0</th>\n",
              "      <td>elliottkember press  log phone aol theyve locked</td>\n",
              "      <td>0</td>\n",
              "    </tr>\n",
              "    <tr>\n",
              "      <th>1</th>\n",
              "      <td>im tired unbearably lazy hurts cant muster lot...</td>\n",
              "      <td>1</td>\n",
              "    </tr>\n",
              "    <tr>\n",
              "      <th>2</th>\n",
              "      <td>distant dwell misery trigger depression happy ...</td>\n",
              "      <td>1</td>\n",
              "    </tr>\n",
              "    <tr>\n",
              "      <th>3</th>\n",
              "      <td>amber_benson awesomewhat tell</td>\n",
              "      <td>0</td>\n",
              "    </tr>\n",
              "    <tr>\n",
              "      <th>4</th>\n",
              "      <td>kerryn thanks appreciate feedback</td>\n",
              "      <td>0</td>\n",
              "    </tr>\n",
              "    <tr>\n",
              "      <th>...</th>\n",
              "      <td>...</td>\n",
              "      <td>...</td>\n",
              "    </tr>\n",
              "    <tr>\n",
              "      <th>495</th>\n",
              "      <td>whoaitsjess ah love song</td>\n",
              "      <td>0</td>\n",
              "    </tr>\n",
              "    <tr>\n",
              "      <th>496</th>\n",
              "      <td>pjredd read quot atmospheremongeringquot mista...</td>\n",
              "      <td>0</td>\n",
              "    </tr>\n",
              "    <tr>\n",
              "      <th>497</th>\n",
              "      <td>trying watch olympics cool year making bummed ...</td>\n",
              "      <td>1</td>\n",
              "    </tr>\n",
              "    <tr>\n",
              "      <th>498</th>\n",
              "      <td>thread months ago took steps address mental he...</td>\n",
              "      <td>1</td>\n",
              "    </tr>\n",
              "    <tr>\n",
              "      <th>499</th>\n",
              "      <td>lhjh ive recently come medication depression a...</td>\n",
              "      <td>1</td>\n",
              "    </tr>\n",
              "  </tbody>\n",
              "</table>\n",
              "<p>500 rows × 2 columns</p>\n",
              "</div>"
            ],
            "text/plain": [
              "                                                  body  Depressed\n",
              "0     elliottkember press  log phone aol theyve locked          0\n",
              "1    im tired unbearably lazy hurts cant muster lot...          1\n",
              "2    distant dwell misery trigger depression happy ...          1\n",
              "3                        amber_benson awesomewhat tell          0\n",
              "4                    kerryn thanks appreciate feedback          0\n",
              "..                                                 ...        ...\n",
              "495                           whoaitsjess ah love song          0\n",
              "496  pjredd read quot atmospheremongeringquot mista...          0\n",
              "497  trying watch olympics cool year making bummed ...          1\n",
              "498  thread months ago took steps address mental he...          1\n",
              "499  lhjh ive recently come medication depression a...          1\n",
              "\n",
              "[500 rows x 2 columns]"
            ]
          },
          "metadata": {},
          "execution_count": 60
        }
      ]
    },
    {
      "cell_type": "code",
      "metadata": {
        "colab": {
          "base_uri": "https://localhost:8080/"
        },
        "id": "kErI4eX44hp3",
        "outputId": "3d6585b4-b557-4560-a025-bc26ea636653"
      },
      "source": [
        "val.Depressed.value_counts()"
      ],
      "execution_count": 61,
      "outputs": [
        {
          "output_type": "execute_result",
          "data": {
            "text/plain": [
              "1    260\n",
              "0    240\n",
              "Name: Depressed, dtype: int64"
            ]
          },
          "metadata": {},
          "execution_count": 61
        }
      ]
    },
    {
      "cell_type": "code",
      "metadata": {
        "colab": {
          "base_uri": "https://localhost:8080/"
        },
        "id": "jqoNdn2j4jJF",
        "outputId": "819f998f-9160-49da-fdda-c4738f80aba8"
      },
      "source": [
        "val = val.dropna()\n",
        "val['body'] = val['body'].apply(clean_text)\n",
        "val['body'] = val['body'].str.replace('\\d+', '')\n",
        "X1 = tokenizer.texts_to_sequences(val['body'].values)\n",
        "X1 = pad_sequences(X1, maxlen=MAX_SEQUENCE_LENGTH)\n",
        "print('Shape of data tensor:', X1.shape)\n",
        "Y1 = pd.get_dummies(val['Depressed']).values\n",
        "print('Shape of label tensor:', Y1.shape)"
      ],
      "execution_count": 62,
      "outputs": [
        {
          "output_type": "stream",
          "name": "stdout",
          "text": [
            "Shape of data tensor: (500, 125)\n",
            "Shape of label tensor: (500, 2)\n"
          ]
        }
      ]
    },
    {
      "cell_type": "code",
      "metadata": {
        "colab": {
          "base_uri": "https://localhost:8080/"
        },
        "id": "MAWOK5z84lNU",
        "outputId": "5fc513b2-eef5-4edb-c128-8b8374896cf0"
      },
      "source": [
        "accr = model.evaluate(X1,Y1)\n",
        "print('Test set\\n  Loss: {:0.3f}\\n  Accuracy: {:0.3f}'.format(accr[0],accr[1]))"
      ],
      "execution_count": 63,
      "outputs": [
        {
          "output_type": "stream",
          "name": "stdout",
          "text": [
            "16/16 [==============================] - 1s 39ms/step - loss: 0.0571 - accuracy: 0.9780\n",
            "Test set\n",
            "  Loss: 0.057\n",
            "  Accuracy: 0.978\n"
          ]
        }
      ]
    },
    {
      "cell_type": "code",
      "metadata": {
        "id": "v2rWa88s4nZW"
      },
      "source": [
        "def isDepressing(text):\n",
        "  text = fuzzyLogic(text)\n",
        "  lst = {'body':[text]}\n",
        "  # Calling DataFrame constructor on list  \n",
        "  dframe = pd.DataFrame(lst) \n",
        "  dframe = dframe['body'].apply(clean_text)\n",
        "  dframe = dframe.str.replace('\\d+', '')\n",
        "  X1 = tokenizer.texts_to_sequences(dframe.values)\n",
        "  X1 = pad_sequences(X1, maxlen=MAX_SEQUENCE_LENGTH)\n",
        "  print('Shape of data tensor:', X1.shape)\n",
        "  a = model.predict(X1)\n",
        "  print(a)\n",
        "  if(a[0][0] > a[0][1]):\n",
        "    return 0\n",
        "  return 1"
      ],
      "execution_count": 64,
      "outputs": []
    },
    {
      "cell_type": "code",
      "metadata": {
        "colab": {
          "base_uri": "https://localhost:8080/"
        },
        "id": "d7IZ09264pI7",
        "outputId": "216d73db-a870-492e-d7b0-119808b0fe5b"
      },
      "source": [
        "isDepressing(\"I always feel sad and depressed\")"
      ],
      "execution_count": 76,
      "outputs": [
        {
          "output_type": "stream",
          "name": "stdout",
          "text": [
            "Shape of data tensor: (1, 125)\n",
            "[[0.207816   0.79218405]]\n"
          ]
        },
        {
          "output_type": "execute_result",
          "data": {
            "text/plain": [
              "1"
            ]
          },
          "metadata": {},
          "execution_count": 76
        }
      ]
    },
    {
      "cell_type": "code",
      "metadata": {
        "colab": {
          "base_uri": "https://localhost:8080/",
          "height": 419
        },
        "id": "VRteLseY4rDs",
        "outputId": "bf302ed3-64c0-48d7-a079-b05ff3adaac0"
      },
      "source": [
        "df"
      ],
      "execution_count": 66,
      "outputs": [
        {
          "output_type": "execute_result",
          "data": {
            "text/html": [
              "<div>\n",
              "<style scoped>\n",
              "    .dataframe tbody tr th:only-of-type {\n",
              "        vertical-align: middle;\n",
              "    }\n",
              "\n",
              "    .dataframe tbody tr th {\n",
              "        vertical-align: top;\n",
              "    }\n",
              "\n",
              "    .dataframe thead th {\n",
              "        text-align: right;\n",
              "    }\n",
              "</style>\n",
              "<table border=\"1\" class=\"dataframe\">\n",
              "  <thead>\n",
              "    <tr style=\"text-align: right;\">\n",
              "      <th></th>\n",
              "      <th>body</th>\n",
              "      <th>Depressed</th>\n",
              "    </tr>\n",
              "  </thead>\n",
              "  <tbody>\n",
              "    <tr>\n",
              "      <th>0</th>\n",
              "      <td>elliottkember press  log phone aol theyve locked</td>\n",
              "      <td>0</td>\n",
              "    </tr>\n",
              "    <tr>\n",
              "      <th>1</th>\n",
              "      <td>im tired unbearably lazy hurts cant muster lot...</td>\n",
              "      <td>1</td>\n",
              "    </tr>\n",
              "    <tr>\n",
              "      <th>2</th>\n",
              "      <td>distant dwell misery trigger depression happy ...</td>\n",
              "      <td>1</td>\n",
              "    </tr>\n",
              "    <tr>\n",
              "      <th>3</th>\n",
              "      <td>amber_benson awesomewhat tell</td>\n",
              "      <td>0</td>\n",
              "    </tr>\n",
              "    <tr>\n",
              "      <th>4</th>\n",
              "      <td>kerryn thanks appreciate feedback</td>\n",
              "      <td>0</td>\n",
              "    </tr>\n",
              "    <tr>\n",
              "      <th>...</th>\n",
              "      <td>...</td>\n",
              "      <td>...</td>\n",
              "    </tr>\n",
              "    <tr>\n",
              "      <th>5956</th>\n",
              "      <td>hmmdid know + million people suffer depression...</td>\n",
              "      <td>1</td>\n",
              "    </tr>\n",
              "    <tr>\n",
              "      <th>5957</th>\n",
              "      <td>eating mommymade mac camp cheese best kind</td>\n",
              "      <td>0</td>\n",
              "    </tr>\n",
              "    <tr>\n",
              "      <th>5958</th>\n",
              "      <td>parents concerned teenager depression join nim...</td>\n",
              "      <td>1</td>\n",
              "    </tr>\n",
              "    <tr>\n",
              "      <th>5959</th>\n",
              "      <td>jessieeeeeh hiya man aint working hi</td>\n",
              "      <td>0</td>\n",
              "    </tr>\n",
              "    <tr>\n",
              "      <th>5960</th>\n",
              "      <td>currently good grades school grade worse tend ...</td>\n",
              "      <td>1</td>\n",
              "    </tr>\n",
              "  </tbody>\n",
              "</table>\n",
              "<p>5953 rows × 2 columns</p>\n",
              "</div>"
            ],
            "text/plain": [
              "                                                   body  Depressed\n",
              "0      elliottkember press  log phone aol theyve locked          0\n",
              "1     im tired unbearably lazy hurts cant muster lot...          1\n",
              "2     distant dwell misery trigger depression happy ...          1\n",
              "3                         amber_benson awesomewhat tell          0\n",
              "4                     kerryn thanks appreciate feedback          0\n",
              "...                                                 ...        ...\n",
              "5956  hmmdid know + million people suffer depression...          1\n",
              "5957         eating mommymade mac camp cheese best kind          0\n",
              "5958  parents concerned teenager depression join nim...          1\n",
              "5959               jessieeeeeh hiya man aint working hi          0\n",
              "5960  currently good grades school grade worse tend ...          1\n",
              "\n",
              "[5953 rows x 2 columns]"
            ]
          },
          "metadata": {},
          "execution_count": 66
        }
      ]
    },
    {
      "cell_type": "code",
      "metadata": {
        "id": "ltCpU35gN8ft"
      },
      "source": [
        "val2 = pd.read_csv('shot1.csv')[:250]"
      ],
      "execution_count": 67,
      "outputs": []
    },
    {
      "cell_type": "code",
      "metadata": {
        "id": "rXd1NvVW4d0y"
      },
      "source": [
        "val2['Depressed'] = 0\n",
        "for i in range(len(val2)):\n",
        "  if(val2.loc[i,'class'] == 'suicide'):\n",
        "    val2.loc[i,'Depressed'] = 1\n",
        "val2 = val2.rename(columns = {'text':'body'})\n",
        "val2 = val2[['body','Depressed']]"
      ],
      "execution_count": 68,
      "outputs": []
    },
    {
      "cell_type": "code",
      "metadata": {
        "colab": {
          "base_uri": "https://localhost:8080/"
        },
        "id": "PVUduMmoOA8U",
        "outputId": "91d5eed1-dc2f-403c-89ce-008d41d4c5a0"
      },
      "source": [
        "val2.Depressed.value_counts()"
      ],
      "execution_count": 69,
      "outputs": [
        {
          "output_type": "execute_result",
          "data": {
            "text/plain": [
              "0    132\n",
              "1    118\n",
              "Name: Depressed, dtype: int64"
            ]
          },
          "metadata": {},
          "execution_count": 69
        }
      ]
    },
    {
      "cell_type": "code",
      "metadata": {
        "colab": {
          "base_uri": "https://localhost:8080/",
          "height": 419
        },
        "id": "iJFwcbAMUa8Z",
        "outputId": "0a425a19-ccdf-4715-f027-324ba91a9018"
      },
      "source": [
        "val2"
      ],
      "execution_count": 70,
      "outputs": [
        {
          "output_type": "execute_result",
          "data": {
            "text/html": [
              "<div>\n",
              "<style scoped>\n",
              "    .dataframe tbody tr th:only-of-type {\n",
              "        vertical-align: middle;\n",
              "    }\n",
              "\n",
              "    .dataframe tbody tr th {\n",
              "        vertical-align: top;\n",
              "    }\n",
              "\n",
              "    .dataframe thead th {\n",
              "        text-align: right;\n",
              "    }\n",
              "</style>\n",
              "<table border=\"1\" class=\"dataframe\">\n",
              "  <thead>\n",
              "    <tr style=\"text-align: right;\">\n",
              "      <th></th>\n",
              "      <th>body</th>\n",
              "      <th>Depressed</th>\n",
              "    </tr>\n",
              "  </thead>\n",
              "  <tbody>\n",
              "    <tr>\n",
              "      <th>0</th>\n",
              "      <td>Ex Wife Threatening SuicideRecently I left my ...</td>\n",
              "      <td>1</td>\n",
              "    </tr>\n",
              "    <tr>\n",
              "      <th>1</th>\n",
              "      <td>Am I weird I don't get affected by compliments...</td>\n",
              "      <td>0</td>\n",
              "    </tr>\n",
              "    <tr>\n",
              "      <th>2</th>\n",
              "      <td>Finally 2020 is almost over... So I can never ...</td>\n",
              "      <td>0</td>\n",
              "    </tr>\n",
              "    <tr>\n",
              "      <th>3</th>\n",
              "      <td>i need helpjust help me im crying so hard</td>\n",
              "      <td>1</td>\n",
              "    </tr>\n",
              "    <tr>\n",
              "      <th>4</th>\n",
              "      <td>I’m so lostHello, my name is Adam (16) and I’v...</td>\n",
              "      <td>1</td>\n",
              "    </tr>\n",
              "    <tr>\n",
              "      <th>...</th>\n",
              "      <td>...</td>\n",
              "      <td>...</td>\n",
              "    </tr>\n",
              "    <tr>\n",
              "      <th>245</th>\n",
              "      <td>Me explaining to my mom what \"based\" means If ...</td>\n",
              "      <td>0</td>\n",
              "    </tr>\n",
              "    <tr>\n",
              "      <th>246</th>\n",
              "      <td>I attempted suicide and obviously failed in th...</td>\n",
              "      <td>1</td>\n",
              "    </tr>\n",
              "    <tr>\n",
              "      <th>247</th>\n",
              "      <td>Someone VC w me on discord I'm bored as hell i...</td>\n",
              "      <td>0</td>\n",
              "    </tr>\n",
              "    <tr>\n",
              "      <th>248</th>\n",
              "      <td>I just want her back.Me and my ex girlfriend h...</td>\n",
              "      <td>1</td>\n",
              "    </tr>\n",
              "    <tr>\n",
              "      <th>249</th>\n",
              "      <td>Dead on the insideI feel like shit all the tim...</td>\n",
              "      <td>1</td>\n",
              "    </tr>\n",
              "  </tbody>\n",
              "</table>\n",
              "<p>250 rows × 2 columns</p>\n",
              "</div>"
            ],
            "text/plain": [
              "                                                  body  Depressed\n",
              "0    Ex Wife Threatening SuicideRecently I left my ...          1\n",
              "1    Am I weird I don't get affected by compliments...          0\n",
              "2    Finally 2020 is almost over... So I can never ...          0\n",
              "3            i need helpjust help me im crying so hard          1\n",
              "4    I’m so lostHello, my name is Adam (16) and I’v...          1\n",
              "..                                                 ...        ...\n",
              "245  Me explaining to my mom what \"based\" means If ...          0\n",
              "246  I attempted suicide and obviously failed in th...          1\n",
              "247  Someone VC w me on discord I'm bored as hell i...          0\n",
              "248  I just want her back.Me and my ex girlfriend h...          1\n",
              "249  Dead on the insideI feel like shit all the tim...          1\n",
              "\n",
              "[250 rows x 2 columns]"
            ]
          },
          "metadata": {},
          "execution_count": 70
        }
      ]
    },
    {
      "cell_type": "code",
      "metadata": {
        "colab": {
          "base_uri": "https://localhost:8080/"
        },
        "id": "LK1TYXVhOgeY",
        "outputId": "b166ca4c-d5e9-4331-ebbd-c9123ce55c91"
      },
      "source": [
        "for i in range(len(val2)):\n",
        "    val2.loc[i,'body'] = fuzzyLogic(val2.loc[i,'body'])\n",
        "val2['body'] = val2['body'].apply(clean_text)\n",
        "val2['body'] = val2['body'].str.replace('\\d+', '')\n",
        "X11 = tokenizer.texts_to_sequences(val2['body'].values)\n",
        "X11 = pad_sequences(X11, maxlen=MAX_SEQUENCE_LENGTH)\n",
        "print('Shape of data tensor:', X11.shape)\n",
        "Y11 = pd.get_dummies(val2['Depressed']).values\n",
        "print('Shape of label tensor:', Y11.shape)"
      ],
      "execution_count": 71,
      "outputs": [
        {
          "output_type": "stream",
          "name": "stdout",
          "text": [
            "Shape of data tensor: (250, 125)\n",
            "Shape of label tensor: (250, 2)\n"
          ]
        }
      ]
    },
    {
      "cell_type": "code",
      "metadata": {
        "colab": {
          "base_uri": "https://localhost:8080/"
        },
        "id": "W2YOI678UL9Z",
        "outputId": "fe23c046-9f18-4bec-ca3b-aa774c720b71"
      },
      "source": [
        "accr = model.evaluate(X11,Y11)\n",
        "print('Test set\\n  Loss: {:0.3f}\\n  Accuracy: {:0.3f}'.format(accr[0],accr[1]))"
      ],
      "execution_count": 72,
      "outputs": [
        {
          "output_type": "stream",
          "name": "stdout",
          "text": [
            "8/8 [==============================] - 0s 36ms/step - loss: 2.6839 - accuracy: 0.6080\n",
            "Test set\n",
            "  Loss: 2.684\n",
            "  Accuracy: 0.608\n"
          ]
        }
      ]
    },
    {
      "cell_type": "code",
      "metadata": {
        "id": "96zvXy0WUSDQ"
      },
      "source": [
        ""
      ],
      "execution_count": 72,
      "outputs": []
    },
    {
      "cell_type": "code",
      "metadata": {
        "id": "FmFCWsr_an4_"
      },
      "source": [
        ""
      ],
      "execution_count": 72,
      "outputs": []
    }
  ]
}